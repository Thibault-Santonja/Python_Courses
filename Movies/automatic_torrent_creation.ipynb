{
 "cells": [
  {
   "cell_type": "markdown",
   "metadata": {},
   "source": [
    "## Get list file"
   ]
  },
  {
   "cell_type": "code",
   "execution_count": 10,
   "metadata": {},
   "outputs": [],
   "source": [
    "import os\n",
    "import fnmatch\n",
    "import pandas as pd\n",
    "\n",
    "path = \"D:/Cinémathèque/\"  # F:\\Data\\Cinémathèque\n",
    "pattern_list = [\"*.mkv\", \"*.mp4\"]"
   ]
  },
  {
   "cell_type": "code",
   "execution_count": 2,
   "metadata": {},
   "outputs": [],
   "source": [
    "def get_pattern(file:str, list_pattern:list) -> str:\n",
    "    i = 0\n",
    "    while i < len(list_pattern):\n",
    "        if fnmatch.fnmatch(file, list_pattern[i]):\n",
    "            return list_pattern[i]\n",
    "        else:\n",
    "            i += 1\n",
    "    return list_pattern[0]"
   ]
  },
  {
   "cell_type": "code",
   "execution_count": 3,
   "metadata": {},
   "outputs": [
    {
     "data": {
      "text/html": [
       "<div>\n",
       "<style scoped>\n",
       "    .dataframe tbody tr th:only-of-type {\n",
       "        vertical-align: middle;\n",
       "    }\n",
       "\n",
       "    .dataframe tbody tr th {\n",
       "        vertical-align: top;\n",
       "    }\n",
       "\n",
       "    .dataframe thead th {\n",
       "        text-align: right;\n",
       "    }\n",
       "</style>\n",
       "<table border=\"1\" class=\"dataframe\">\n",
       "  <thead>\n",
       "    <tr style=\"text-align: right;\">\n",
       "      <th></th>\n",
       "      <th>path</th>\n",
       "      <th>file</th>\n",
       "      <th>extension</th>\n",
       "    </tr>\n",
       "  </thead>\n",
       "  <tbody>\n",
       "    <tr>\n",
       "      <th>0</th>\n",
       "      <td>D:/Cinémathèque/</td>\n",
       "      <td>A Dangerous Method (2011) David Cronenberg</td>\n",
       "      <td>.mkv</td>\n",
       "    </tr>\n",
       "    <tr>\n",
       "      <th>1</th>\n",
       "      <td>D:/Cinémathèque/</td>\n",
       "      <td>Aguirre, la colère de Dieu (1972) Werner Herzog</td>\n",
       "      <td>.mkv</td>\n",
       "    </tr>\n",
       "    <tr>\n",
       "      <th>2</th>\n",
       "      <td>D:/Cinémathèque/</td>\n",
       "      <td>All the President's Men (1976) Alan J Pakula</td>\n",
       "      <td>.mkv</td>\n",
       "    </tr>\n",
       "    <tr>\n",
       "      <th>3</th>\n",
       "      <td>D:/Cinémathèque/</td>\n",
       "      <td>April Story (1998) Shunji Iwai</td>\n",
       "      <td>.mkv</td>\n",
       "    </tr>\n",
       "    <tr>\n",
       "      <th>4</th>\n",
       "      <td>D:/Cinémathèque/</td>\n",
       "      <td>Après la tempete (2016) Hirokazu Kore-eda</td>\n",
       "      <td>.mkv</td>\n",
       "    </tr>\n",
       "  </tbody>\n",
       "</table>\n",
       "</div>"
      ],
      "text/plain": [
       "               path                                             file extension\n",
       "0  D:/Cinémathèque/       A Dangerous Method (2011) David Cronenberg      .mkv\n",
       "1  D:/Cinémathèque/  Aguirre, la colère de Dieu (1972) Werner Herzog      .mkv\n",
       "2  D:/Cinémathèque/     All the President's Men (1976) Alan J Pakula      .mkv\n",
       "3  D:/Cinémathèque/                   April Story (1998) Shunji Iwai      .mkv\n",
       "4  D:/Cinémathèque/        Après la tempete (2016) Hirokazu Kore-eda      .mkv"
      ]
     },
     "execution_count": 3,
     "metadata": {},
     "output_type": "execute_result"
    }
   ],
   "source": [
    "def get_mkv_list(path=\"D:/Cinémathèque/\", list_pattern=[\"*.mkv\"]) -> pd.DataFrame:\n",
    "    file_list = []\n",
    "    for root, dirs, files in os.walk(path):\n",
    "        if root == path:  # To prevent subfolder analyze\n",
    "            for file in files:\n",
    "                pattern = get_pattern(file, list_pattern)\n",
    "                if fnmatch.fnmatch(file, pattern):  # to get only with \".mkv\" extension\n",
    "                    file_list.append({'path': path, 'file': file[:-len(pattern)+1], 'extension': pattern[1:]})\n",
    "    return pd.DataFrame(file_list)\n",
    "\n",
    "file_list = get_mkv_list()\n",
    "file_list.head()"
   ]
  },
  {
   "cell_type": "markdown",
   "metadata": {},
   "source": [
    "## Search a file"
   ]
  },
  {
   "cell_type": "code",
   "execution_count": 4,
   "metadata": {},
   "outputs": [
    {
     "data": {
      "text/html": [
       "<div>\n",
       "<style scoped>\n",
       "    .dataframe tbody tr th:only-of-type {\n",
       "        vertical-align: middle;\n",
       "    }\n",
       "\n",
       "    .dataframe tbody tr th {\n",
       "        vertical-align: top;\n",
       "    }\n",
       "\n",
       "    .dataframe thead th {\n",
       "        text-align: right;\n",
       "    }\n",
       "</style>\n",
       "<table border=\"1\" class=\"dataframe\">\n",
       "  <thead>\n",
       "    <tr style=\"text-align: right;\">\n",
       "      <th></th>\n",
       "      <th>path</th>\n",
       "      <th>file</th>\n",
       "      <th>extension</th>\n",
       "    </tr>\n",
       "  </thead>\n",
       "  <tbody>\n",
       "    <tr>\n",
       "      <th>0</th>\n",
       "      <td>D:/Cinémathèque/</td>\n",
       "      <td>Capharnaum (2018) Nadine Labaki</td>\n",
       "      <td>.mkv</td>\n",
       "    </tr>\n",
       "    <tr>\n",
       "      <th>1</th>\n",
       "      <td>D:/Cinémathèque/</td>\n",
       "      <td>Grace à Dieu (2018) François Ozon</td>\n",
       "      <td>.mkv</td>\n",
       "    </tr>\n",
       "    <tr>\n",
       "      <th>2</th>\n",
       "      <td>D:/Cinémathèque/</td>\n",
       "      <td>Les Oiseaux de passage (2018) Ciro Guerra, Cri...</td>\n",
       "      <td>.mkv</td>\n",
       "    </tr>\n",
       "    <tr>\n",
       "      <th>3</th>\n",
       "      <td>D:/Cinémathèque/</td>\n",
       "      <td>Leto (2018) Kirill Serebrennikov</td>\n",
       "      <td>.mkv</td>\n",
       "    </tr>\n",
       "    <tr>\n",
       "      <th>4</th>\n",
       "      <td>D:/Cinémathèque/</td>\n",
       "      <td>The House That Jack Built (2018) Lars von Trier</td>\n",
       "      <td>.mkv</td>\n",
       "    </tr>\n",
       "    <tr>\n",
       "      <th>5</th>\n",
       "      <td>D:/Cinémathèque/</td>\n",
       "      <td>Woman at War (2018) Benedikt Erlingsson</td>\n",
       "      <td>.mkv</td>\n",
       "    </tr>\n",
       "  </tbody>\n",
       "</table>\n",
       "</div>"
      ],
      "text/plain": [
       "               path                                               file  \\\n",
       "0  D:/Cinémathèque/                    Capharnaum (2018) Nadine Labaki   \n",
       "1  D:/Cinémathèque/                  Grace à Dieu (2018) François Ozon   \n",
       "2  D:/Cinémathèque/  Les Oiseaux de passage (2018) Ciro Guerra, Cri...   \n",
       "3  D:/Cinémathèque/                   Leto (2018) Kirill Serebrennikov   \n",
       "4  D:/Cinémathèque/    The House That Jack Built (2018) Lars von Trier   \n",
       "5  D:/Cinémathèque/            Woman at War (2018) Benedikt Erlingsson   \n",
       "\n",
       "  extension  \n",
       "0      .mkv  \n",
       "1      .mkv  \n",
       "2      .mkv  \n",
       "3      .mkv  \n",
       "4      .mkv  \n",
       "5      .mkv  "
      ]
     },
     "execution_count": 4,
     "metadata": {},
     "output_type": "execute_result"
    }
   ],
   "source": [
    "def search_file(file_list, query):\n",
    "    return file_list[file_list.file.str.contains(query)].reset_index(drop=True)\n",
    "\n",
    "res_file_list = search_file(file_list, \"2018\")\n",
    "res_file_list"
   ]
  },
  {
   "cell_type": "markdown",
   "metadata": {},
   "source": [
    "## Torrent creation"
   ]
  },
  {
   "cell_type": "code",
   "execution_count": 5,
   "metadata": {},
   "outputs": [],
   "source": [
    "from torf import Torrent\n",
    "\n",
    "tracker_list = ['udp://tracker.opentrackr.org:1337/announce']"
   ]
  },
  {
   "cell_type": "code",
   "execution_count": 6,
   "metadata": {},
   "outputs": [],
   "source": [
    "def create_torrent(path, file, extension, tracker_list=['udp://tracker.opentrackr.org:1337/announce']):\n",
    "    if os.path.exists(path + file + '.torrent'):\n",
    "        return path + file + '.torrent', file + '.torrent already exists !'\n",
    "    \n",
    "    try:\n",
    "        t = Torrent(path     = path + file + extension,\n",
    "                    trackers = tracker_list,\n",
    "                    comment  = 'Have fun !')\n",
    "        t.private = True\n",
    "        t.generate()\n",
    "        t.write(path + file + '.torrent')\n",
    "    except Exception as e:\n",
    "        return None, 'Error during torrent creation (wrong file name ?):\\n' + str(e)\n",
    "    \n",
    "    return path + file + '.torrent', file + '.torrent is created !'\n",
    "    \n",
    "# created_torrent_path, create_torrent_message = create_torrent(res_file_list.path.at[0], res_file_list.file.at[0], res_file_list.extension.at[0], tracker_list=['udp://tracker.opentrackr.org:1337/announce'])\n",
    "# print(create_torrent_message + ' (' + created_torrent_path + ')')"
   ]
  },
  {
   "cell_type": "markdown",
   "metadata": {},
   "source": [
    "## Add torrent to deluge"
   ]
  },
  {
   "cell_type": "code",
   "execution_count": 2,
   "metadata": {},
   "outputs": [],
   "source": [
    "# import transmission\n",
    "import clutch\n",
    "\n",
    "# client = Client(address=\"http://localhost:9091/transmission/rpc\")"
   ]
  },
  {
   "cell_type": "code",
   "execution_count": 7,
   "metadata": {},
   "outputs": [],
   "source": [
    "# deluge.add_torrent_file(created_torrent_path)\n",
    "def add_torrent_list(torrent_list: list):\n",
    "    client = clutch.Client(address=\"http://localhost:9091/transmission/rpc\")\n",
    "    \n",
    "    for torrent in torrent_list:\n",
    "        client.torrent.add(arguments={\n",
    "            \"filename\": torrent['path'] + torrent['file'],\n",
    "            \"download_dir\": torrent['path'],\n",
    "            \"paused\": False\n",
    "          })\n",
    "        \n",
    "        \n",
    "torrent_list = [{'path': \"D:/Cinémathèque/\", 'file': 'Psycho Goreman (2020) Steven Kostanski.torrent'}, {'path': \"D:/Cinémathèque/\", 'file': 'Saint Maud (2020) Rose Glass.torrent'}]\n",
    "# add_torrent_list(torrent_list)"
   ]
  },
  {
   "cell_type": "markdown",
   "metadata": {},
   "source": [
    "# Main"
   ]
  },
  {
   "cell_type": "code",
   "execution_count": 11,
   "metadata": {},
   "outputs": [],
   "source": [
    "movies = [\n",
    "    'Sound of Metal', 'Judas and the Black Messiah', 'Minari', \n",
    "    'Nomadland', 'Promising Young Woman', 'Possessor', 'Come True', \n",
    "    'Malcolm & Marie', 'Les Sept de Chicago', 'Le Peuple Loup', \n",
    "    'Mank', 'The Father', 'Saint Maud', 'Psycho Goreman']\n",
    "\n",
    "files = get_mkv_list(path=\"D:/Cinémathèque/\", list_pattern=pattern_list)"
   ]
  },
  {
   "cell_type": "code",
   "execution_count": 12,
   "metadata": {},
   "outputs": [
    {
     "name": "stdout",
     "output_type": "stream",
     "text": [
      "               path                                 file extension\n",
      "0  D:/Cinémathèque/  Sound of Metal (2020) Darius Marder      .mkv\n",
      "               path                                           file extension\n",
      "0  D:/Cinémathèque/  Judas and the Black Messiah (2021) Shaka King      .mkv\n",
      "               path                           file extension\n",
      "0  D:/Cinémathèque/  Minari (2020) Lee Isaac Chung      .mkv\n",
      "               path                         file extension\n",
      "0  D:/Cinémathèque/  Nomadland (2021) Chloé Zhao      .mkv\n",
      "               path                                          file extension\n",
      "0  D:/Cinémathèque/  Promising Young Woman (2021) Emerald Fennell      .mkv\n",
      "               path                                 file extension\n",
      "0  D:/Cinémathèque/  Possessor (2020) Brandon Cronenberg      .mkv\n",
      "               path                                  file extension\n",
      "0  D:/Cinémathèque/  Come True (2021) Anthony Scott Burns      .mkv\n",
      "               path                                 file extension\n",
      "0  D:/Cinémathèque/  Malcolm & Marie (2021) Sam Levinson      .mkv\n",
      "               path                                     file extension\n",
      "0  D:/Cinémathèque/  Les Sept de Chicago (2020) Aaron Sorkin      .mp4\n",
      "               path                                               file  \\\n",
      "0  D:/Cinémathèque/  Le Peuple Loup (2020) Tomm Moore, Ross Stewart...   \n",
      "\n",
      "  extension  \n",
      "0      .mkv  \n",
      "               path                       file extension\n",
      "0  D:/Cinémathèque/  Mank (2020) David Fincher      .mkv\n",
      "               path                              file extension\n",
      "0  D:/Cinémathèque/  The Father (2020) Florian Zeller      .mkv\n",
      "               path                          file extension\n",
      "0  D:/Cinémathèque/  Saint Maud (2020) Rose Glass      .mkv\n",
      "               path                                    file extension\n",
      "0  D:/Cinémathèque/  Psycho Goreman (2020) Steven Kostanski      .mkv\n",
      "\n",
      "Congrat'\n"
     ]
    }
   ],
   "source": [
    "for movie in movies:\n",
    "    res = search_file(files, movie)\n",
    "    print(res)\n",
    "    create_torrent(res.path.at[0], res.file.at[0], res.extension.at[0], tracker_list=['udp://tracker.opentrackr.org:1337/announce'])\n",
    "    \n",
    "print('\\nCongrat\\'')"
   ]
  },
  {
   "cell_type": "markdown",
   "metadata": {},
   "source": [
    "---"
   ]
  },
  {
   "cell_type": "markdown",
   "metadata": {},
   "source": [
    "Thibault **Santonja**  \n",
    "2021"
   ]
  }
 ],
 "metadata": {
  "kernelspec": {
   "display_name": "Python 3",
   "language": "python",
   "name": "python3"
  },
  "language_info": {
   "codemirror_mode": {
    "name": "ipython",
    "version": 3
   },
   "file_extension": ".py",
   "mimetype": "text/x-python",
   "name": "python",
   "nbconvert_exporter": "python",
   "pygments_lexer": "ipython3",
   "version": "3.8.5"
  }
 },
 "nbformat": 4,
 "nbformat_minor": 4
}
