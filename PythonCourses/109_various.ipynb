{
 "cells": [
  {
   "cell_type": "markdown",
   "metadata": {},
   "source": [
    "général<a id=\"top\"></a>\n",
    "===\n",
    "\n",
    "\n",
    "Jeter un oeil à :\n",
    "- Theano (Math library for ML)\n",
    "- SimPy\n",
    "- BeautifulSoup\n",
    "- Peewee (ORM)\n",
    "- Pillow (Image manip) / MoviePy (Video manip)\n",
    "- OpenCV\n",
    "- TKinter (GUI)\n",
    "- Bottle (Small web app)\n",
    "- Flask\n",
    "- PyTorch / TensorFlow / Keras\n",
    "- \n",
    "- pickle pour sauvegarder des datas en local (si on a un gros volume de données / on veut les retrouver) ou encore Hdf5 pour des calculs sur des gros volumes de données\n",
    "\n",
    "\n",
    "> apprentissage supervisé, non-supervisé, renforcement ou d'adversarial training...\n",
    "\n",
    "chap:\n",
    "- [Test](#Test)\n",
    "- [Decorator](#Decorator)\n",
    "- [Yield](#Yield)\n",
    "- [POO](#POO)\n",
    "\n"
   ]
  },
  {
   "cell_type": "code",
   "execution_count": 3,
   "metadata": {},
   "outputs": [
    {
     "name": "stdout",
     "output_type": "stream",
     "text": [
      "Call \"pip install  --upgrade \" for : zope.interface zope.event zipp zict yapf xmltodict xlwt xlwings XlsxWriter xlrd wrapt wincertstore win-unicode-console win-inet-pton widgetsnbextension whichcraft wheel Werkzeug webencodings wcwidth watchdog urllib3 unicodecsv ujson typing-extensions transmission-clutch traitlets tqdm tornado torf torchvision torchaudio torch toolz toml tifffile threadpoolctl testpath terminado termcolor tensorflow tensorflow-estimator tensorboard tensorboard-plugin-wit tensorboard-data-server tblib tables sympy statsmodels sqlparse SQLAlchemy spyder spyder-kernels sphinxcontrib-websupport sphinxcontrib-serializinghtml sphinxcontrib-qthelp sphinxcontrib-jsmath sphinxcontrib-htmlhelp sphinxcontrib-devhelp sphinxcontrib-applehelp Sphinx soupsieve sortedcontainers sortedcollections snowballstemmer six sip singledispatch simplegeneric setuptools Send2Trash seaborn scipy scikit-learn scikit-image ruamel-yaml Rtree rsa rope requests requests-oauthlib regex QtPy qtconsole QtAwesome QDarkStyle pyzmq PyYAML pywinpty pywin32 pywin32-ctypes PyWavelets pytz python-markdown-math python-language-server python-jsonrpc-server python-dateutil pytest PySocks pyrsistent pyreadline pyparsing pyOpenSSL pyodbc PyNaCl pylint pyinstaller pyinstaller-hooks-contrib Pygments pygame pyflakes pyficache pydocstyle pydantic pycurl pycparser pycosat pycodestyle pyasn1 pyasn1-modules py3createtorrent py psutil protobuf prompt-toolkit prometheus-client ply pluggy plantuml plantuml-markdown pkginfo pip Pillow pickleshare pexpect pep8 pefile patsy pathtools pathlib2 path partd parso paramiko pandocfilters pandas packaging opt-einsum openpyxl olefile oauthlib numpydoc numpy numexpr numba notebook nose nltk networkx nest-asyncio nbformat nbconvert nbclient navigator-updater multipledispatch msgpack mpmath more-itertools mock mkl-service mkl-random mkl-fft mistune menuinst mccabe matplotlib MarkupSafe Markdown makeTorrent lxml locket llvmlite libarchive-c lazy-object-proxy kiwisolver keyring Keras-Preprocessing keras-nightly jupyterlab jupyterlab-widgets jupyterlab-server jupyterlab-pygments jupyter jupyter-nbextensions-configurator jupyter-latex-envs jupyter-highlight-selected-word jupyter-core jupyter-contrib-nbextensions jupyter-contrib-core jupyter-console jupyter-client jsonschema json5 joblib Jinja2 jedi jdcal itsdangerous isort ipywidgets ipython ipython-genutils ipympl ipykernel intervaltree iniconfig importlib-metadata imagesize imageio idna httplib2 html5lib HeapDict h5py grpcio greenlet google-pasta google-auth google-auth-oauthlib glob2 gevent gevent-websocket gast future fsspec flatbuffers flatbencode Flask flake8 filelock fastcache et-xmlfile entrypoints Eel doorstop docutils djangorestframework Django distributed diff-match-patch deluge-client defusedxml decorator dask cytoolz Cython cycler cryptography coverage contextlib2 conda conda-verify conda-package-handling conda-build comtypes colorama clyent cloudpickle click chardet cffi certifi cachetools brotlipy Bottleneck bottle bottle-websocket boto bokeh bleach bkcharts bitarray bencode.py bencode beautifulsoup4 bcrypt backports.weakref backports.tempfile backports.shutil-get-terminal-size backports.functools-lru-cache backcall Babel autopep8 auto-py-to-exe attrs atomicwrites async-generator astunparse astropy astroid asn1crypto asgiref argon2-cffi argh anaconda-project anaconda-navigator anaconda-client altgraph alabaster absl-py\n"
     ]
    }
   ],
   "source": [
    "from tools import pip_update_all\n",
    "pip_update_all()"
   ]
  },
  {
   "cell_type": "code",
   "execution_count": 1,
   "metadata": {},
   "outputs": [
    {
     "data": {
      "text/markdown": [
       "\n",
       "### Test auto link<a id=\"TestAutoLink\"></a>\n",
       "Ceci est un test pour générer du markdown avec python et notamment des liens qui s'auto incrémentent ...\n"
      ],
      "text/plain": [
       "<IPython.core.display.Markdown object>"
      ]
     },
     "execution_count": 1,
     "metadata": {},
     "output_type": "execute_result"
    }
   ],
   "source": [
    "from IPython.display import Markdown as md\n",
    "\n",
    "\n",
    "md_link_test = {'name': 'Test auto link', 'value': 'TestAutoLink'}\n",
    "\n",
    "md(f\"\"\"\n",
    "### {md_link_test.get('name')}<a id=\"{md_link_test.get('value')}\"></a>\n",
    "Ceci est un test pour générer du markdown avec python et notamment des liens qui s'auto incrémentent ...\n",
    "\"\"\")"
   ]
  },
  {
   "cell_type": "code",
   "execution_count": 2,
   "metadata": {},
   "outputs": [
    {
     "data": {
      "text/markdown": [
       "\n",
       "On test pour voir si c'est ok : \n",
       "[Test auto link](#TestAutoLink)\n",
       "\n",
       "Il semble que c'est ok, ça fonctionne, mais on dédouble le texte (prèsent une première fois en Python et une seconde fois en markdown). Donc meh... vivement des variables en Markdown pour faire un chapitrage auto !\n"
      ],
      "text/plain": [
       "<IPython.core.display.Markdown object>"
      ]
     },
     "execution_count": 2,
     "metadata": {},
     "output_type": "execute_result"
    }
   ],
   "source": [
    "md(f\"\"\"\n",
    "On test pour voir si c'est ok : \n",
    "[{md_link_test.get('name')}](#{md_link_test.get('value')})\n",
    "\n",
    "Il semble que c'est ok, ça fonctionne, mais on dédouble le texte (prèsent une première fois en Python et une seconde fois en markdown). Donc meh... vivement des variables en Markdown pour faire un chapitrage auto !\n",
    "\"\"\")"
   ]
  },
  {
   "cell_type": "markdown",
   "metadata": {},
   "source": [
    "[Back to top](#top)\n",
    "\n",
    "---\n",
    "\n",
    "## Test<a id=\"Test\"></a>\n",
    "\n",
    "```Python\n",
    "import unittest\n",
    "\n",
    "addtwo = lambda x: x + 2\n",
    "\n",
    "class LambdaTest(unittest.TestCase):\n",
    "    def test_add_two(self):\n",
    "        self.assertEqual(addtwo(2), 4)\n",
    "\n",
    "    def test_add_two_point_two(self):\n",
    "        self.assertEqual(addtwo(2.2), 4.2)\n",
    "\n",
    "    def test_add_three(self):\n",
    "        # Should fail\n",
    "        self.assertEqual(addtwo(3), 5)\n",
    "\n",
    "if __name__ == '__main__':\n",
    "    unittest.main(verbosity=2)\n",
    "```"
   ]
  },
  {
   "cell_type": "code",
   "execution_count": null,
   "metadata": {},
   "outputs": [],
   "source": [
    "import doctest\n",
    "\n",
    "def addtwo(x): \n",
    "    \"\"\"Add 2 to a number.\n",
    "    >>> addtwo(2)\n",
    "    4\n",
    "    >>> addtwo(2.2)\n",
    "    4.2\n",
    "    >>> addtwo(3) # Should fail\n",
    "    6\n",
    "    \"\"\"\n",
    "    return x + 2\n",
    "\n",
    "if __name__ == '__main__':\n",
    "    doctest.testmod(verbose=True)"
   ]
  },
  {
   "cell_type": "code",
   "execution_count": null,
   "metadata": {},
   "outputs": [],
   "source": [
    "addtwo.__doc__"
   ]
  },
  {
   "cell_type": "markdown",
   "metadata": {},
   "source": [
    "[Back to top](#top)\n",
    "\n",
    "---\n",
    "\n",
    "## Decorator<a id=\"Decorator\"></a>"
   ]
  },
  {
   "cell_type": "code",
   "execution_count": null,
   "metadata": {},
   "outputs": [],
   "source": [
    "# Defining a decorator\n",
    "def trace(f):\n",
    "    def wrap(*args, **kwargs):\n",
    "        print(f\"[TRACE] func: {f.__name__}, args: {args}, kwargs: {kwargs}\")\n",
    "        return f(*args, **kwargs)\n",
    "\n",
    "    return wrap\n",
    "\n",
    "# Applying decorator to a function\n",
    "@trace\n",
    "def add_two(x):\n",
    "    return x + 2\n",
    "\n",
    "# Calling the decorated function\n",
    "add_two(3)\n",
    "\n",
    "# Applying decorator to a lambda\n",
    "print('In main : ', (trace(lambda x: x ** 2))(9))"
   ]
  },
  {
   "cell_type": "markdown",
   "metadata": {},
   "source": [
    "[Back to top](#top)\n",
    "\n",
    "---\n",
    "\n",
    "## Yield<a id=\"Yield\"></a>"
   ]
  },
  {
   "cell_type": "code",
   "execution_count": null,
   "metadata": {},
   "outputs": [],
   "source": [
    "import time # Represent Infinite Stream\n",
    "\n",
    "def coucou(maxx):\n",
    "    i = 0\n",
    "    while True: # on peut juste mettre while True\n",
    "        yield i\n",
    "        i += 1\n",
    "        if i > maxx:\n",
    "            raise StopIteration(maxx)\n",
    "\n",
    "try:\n",
    "    for j in coucou(3):\n",
    "        time.sleep(.3)\n",
    "        print(j)\n",
    "except:\n",
    "    pass"
   ]
  },
  {
   "cell_type": "code",
   "execution_count": null,
   "metadata": {},
   "outputs": [],
   "source": [
    "# Pipelining Generators\n",
    "def fibonacci_numbers(nums):\n",
    "    x, y = 0, 1\n",
    "    for _ in range(nums):\n",
    "        x, y = y, x+y\n",
    "        yield x\n",
    "\n",
    "def square(nums):\n",
    "    for num in nums:\n",
    "        yield num**2\n",
    "\n",
    "print(sum(square(fibonacci_numbers(10))))"
   ]
  },
  {
   "cell_type": "markdown",
   "metadata": {},
   "source": [
    "[Back to top](#top)\n",
    "\n",
    "---\n",
    "\n",
    "## POO<a id=\"POO\"></a>"
   ]
  },
  {
   "cell_type": "code",
   "execution_count": null,
   "metadata": {},
   "outputs": [],
   "source": [
    "# Par convention une classe commence par une majuscule\n",
    "class Planet():\n",
    "    # Ceci est un constructeur, il sera appelé quand\n",
    "    # on va créer l'objet\n",
    "    def __init__(self, name, color):\n",
    "        print('Création de ' + name)\n",
    "        self.name = name\n",
    "        self.color = color\n",
    "        \n",
    "    # Par convention, si on veut récupérer un attribut,\n",
    "    # on écrira \"get_...\" ou on utilisera le décorateur\n",
    "    # @property\n",
    "    @property\n",
    "    def get_name(self):\n",
    "        return self.name\n",
    "    \n",
    "    @property\n",
    "    def get_color(self):\n",
    "        return self.color\n",
    "        \n",
    "    # Par convention, si on veut changer un attribut,\n",
    "    # on écrira \"set_...\"\n",
    "    def set_name(self, name):\n",
    "        self.name = name\n",
    "        \n",
    "    def presentation(self):\n",
    "        print('Hi, I\\'m ' + self.name + ' !')\n",
    "        \n",
    "        \n",
    "        \n",
    "terre = Planet('Earth', 'Blue')\n",
    "mars = Planet('Mars', 'Red')\n",
    "\n",
    "print('\\n')\n",
    "print(terre.get_name)\n",
    "print(mars.get_color)\n",
    "\n",
    "print('\\n')\n",
    "terre.set_name('Terre')\n",
    "print(terre.get_name)\n",
    "\n",
    "\n",
    "print('\\n')\n",
    "mars.presentation()\n",
    "terre.presentation()"
   ]
  },
  {
   "cell_type": "markdown",
   "metadata": {},
   "source": [
    "[Back to top](#top)\n",
    "\n",
    "---"
   ]
  },
  {
   "cell_type": "code",
   "execution_count": null,
   "metadata": {},
   "outputs": [],
   "source": [
    "if not({}):\n",
    "    print(\"jjj\")"
   ]
  },
  {
   "cell_type": "code",
   "execution_count": null,
   "metadata": {},
   "outputs": [],
   "source": [
    "test = 'anneeekkkksss'"
   ]
  },
  {
   "cell_type": "code",
   "execution_count": null,
   "metadata": {},
   "outputs": [],
   "source": [
    "def calculate_total_price(prices, discount):\n",
    "    most_exp = max(prices)\n",
    "    prices = prices.remove(most_exp)\n",
    "    \n",
    "    return int(sum(prices) + most_exp*(1-discount/100))"
   ]
  },
  {
   "cell_type": "code",
   "execution_count": null,
   "metadata": {},
   "outputs": [],
   "source": [
    "def calculate_total_price(prices, discount):\n",
    "    if 0 < len(prices) < 100 and 0 <= discount <= 100 and all([0 < p < 10e5 for p in prices]):\n",
    "        most_exp = max(prices)\n",
    "        prices.remove(most_exp)\n",
    "\n",
    "        return int(sum(prices) + most_exp*(1-discount/100))\n",
    "    return None\n",
    "\n",
    "calculate_total_price([10, 20, 50, .8, 10e4], 50)"
   ]
  },
  {
   "cell_type": "code",
   "execution_count": null,
   "metadata": {},
   "outputs": [],
   "source": [
    "# base type : int, lang, float, complex, str, bytes, byte array, list, tuple, set, frozenset, dict\n",
    "listt = [1, 2, 3]\n",
    "print(max(listt), min(listt)), listt.append(4), print(listt.index(1), listt.count(1), sum(listt) / len(listt)),\n",
    "listt.insert(1, 5), listt.pop(3), print(listt), listt.reverse(), print(listt), listt.sort()\n",
    "print(listt), listt.extend([6,7,8]), print(listt);"
   ]
  },
  {
   "cell_type": "code",
   "execution_count": null,
   "metadata": {},
   "outputs": [],
   "source": [
    "dictt = {'a': 1, 'b': 3, 'c': 6, 42: 'la réponse'}\n",
    "{\"dictt[42]\": dictt[42], \"dictt.get('b')\": dictt.get('b'), \"dictt.items()\":dictt.items(), \"dictt.keys()\":dictt.keys(), \n",
    " \"dictt.values()\":dictt.values()}, dictt.pop(42), dictt.popitem(), dictt.update({'b': 2, 'd': 4}), dictt"
   ]
  },
  {
   "cell_type": "code",
   "execution_count": null,
   "metadata": {},
   "outputs": [],
   "source": [
    "tuplee = (\"apple\", \"banana\", \"cherry\")  # inmodifiable, less place than list and faster \n",
    "sett = {\"apple\", \"banana\", \"cherry\"}\n",
    "tuplee[1], sett.difference({'banana', 'pineapple'}), sett.intersection({'banana', 'pineapple'}), sett.union({'banana', 'pineapple'})"
   ]
  },
  {
   "cell_type": "code",
   "execution_count": null,
   "metadata": {},
   "outputs": [],
   "source": [
    "''.join(['eee', ' ', 'bbb']), 'abcdef'[:1], 'abcdef'[1:], 'abcdef'[:-1], 'abcdef'[0::4], 'abcdef'[len('abcdef')::-2], (42, 42 // 10, 42 % 10, 42/10)"
   ]
  },
  {
   "cell_type": "code",
   "execution_count": null,
   "metadata": {},
   "outputs": [],
   "source": [
    "'abc defg hijklm nop qrstu vw xyz'.split(), 'abc defg hijklm nop qrstu vw xyz'[slice(5, 15, 2)], \\\n",
    "'abc defg hijklm nop qrstu vw xyz'[5:15][::2]"
   ]
  },
  {
   "cell_type": "code",
   "execution_count": null,
   "metadata": {},
   "outputs": [],
   "source": [
    "# \"pass\" statement is used as a placeholder for future code\n",
    "def coucou():\n",
    "    pass\n",
    "coucou()"
   ]
  },
  {
   "cell_type": "markdown",
   "metadata": {},
   "source": [
    "- Python memory manager (memory manager In CPython) : private heap space in Python that contains all the Python objects and data structures ## pass by reference\n",
    "- Lambda\n",
    "- Pickling\n",
    "- unittest\n",
    "- generator in Python : written like a regular function, generator is more compact than an iterator due to the fact that __iter__() and next() functions are automatically created in a generator\n",
    "- yield statement to return data during the function call\n",
    "- __ is used for reserved names, _ is used for built-in functions (e.g. if __name__ == '__main__' )\n",
    "- Flask is a micro-framework based on Python to develop web applications\n",
    "- function zip() can be used to aggregate all the iterable objects of an iterator\n",
    "- MySQLdb database has to be connected by passing the URL, username, password, and the name of the database. Once the connection is established, a cursor with cursor() can be opened. On an open cursor, the fetch() function can be used to execute queries and retrieve data from the database tables.\n",
    "- to specify encoding : \n",
    "-   \\#!/usr/bin/python\n",
    "-   \\# -*- coding: <encoding name> -*-      OR      # coding: <encoding name>            <encoding name> = ascii , iso-8859-15, latin-1, utf-8 (by default)\n",
    "- python checker pour vérifier le code : pylint (lancer la commande `pylint moncode.py` dans un terminal), pep8 (`pep8 --first optparse.py`, `pep8 --show-source --show-pep8 testsuite/E40.py`)\n",
    "- A Python Decorator is a mechanism to wrap a Python function and modify its behavior by adding more functionality to it. We can use @ symbol to call a Python Decorator function. \n",
    "```python\n",
    "issubclass(bool,int) # bool is a subclass of int\n",
    "```\n",
    "- “is” is used to check an object against its identity, whereas “==” is used to check the equality of two objects. \n",
    "\n",
    "\n",
    "[Back to top](#top)\n",
    "\n",
    "---\n",
    "\n",
    "https://jonathonbechtel.com/blog/2018/02/06/wines/"
   ]
  },
  {
   "cell_type": "code",
   "execution_count": null,
   "metadata": {},
   "outputs": [],
   "source": [
    "from sklearn.datasets import load_wine\n",
    "import seaborn as sns\n",
    "import pandas as pd"
   ]
  },
  {
   "cell_type": "code",
   "execution_count": null,
   "metadata": {},
   "outputs": [],
   "source": [
    "wine = load_wine()\n",
    "print(wine['DESCR'])\n",
    "\n",
    "X = wine.data\n",
    "y = wine.target"
   ]
  },
  {
   "cell_type": "code",
   "execution_count": null,
   "metadata": {},
   "outputs": [],
   "source": [
    "df = pd.DataFrame(X, columns=wine.feature_names)\n",
    "df['Wine class'] = y\n",
    "df.head()"
   ]
  },
  {
   "cell_type": "code",
   "execution_count": null,
   "metadata": {},
   "outputs": [],
   "source": [
    "sns.pairplot(df, hue='Wine class')"
   ]
  },
  {
   "cell_type": "code",
   "execution_count": null,
   "metadata": {},
   "outputs": [],
   "source": []
  }
 ],
 "metadata": {
  "kernelspec": {
   "display_name": "Python 3",
   "language": "python",
   "name": "python3"
  },
  "language_info": {
   "codemirror_mode": {
    "name": "ipython",
    "version": 3
   },
   "file_extension": ".py",
   "mimetype": "text/x-python",
   "name": "python",
   "nbconvert_exporter": "python",
   "pygments_lexer": "ipython3",
   "version": "3.8.5"
  }
 },
 "nbformat": 4,
 "nbformat_minor": 4
}
