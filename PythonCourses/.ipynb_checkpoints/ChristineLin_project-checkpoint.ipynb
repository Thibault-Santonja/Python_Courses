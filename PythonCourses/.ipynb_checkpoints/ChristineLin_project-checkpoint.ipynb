{
 "cells": [
  {
   "cell_type": "markdown",
   "metadata": {},
   "source": [
    "Study of modal characteristics and the control mechanism of finite periodic and irregular ribbed plates\n",
    "===\n",
    "\n",
    "(le texte c'est du mardown, quelques astuces :\n",
    "## Titre 1\n",
    "### Titre 2\n",
    "#### Titre 3\n",
    "##### Titre 4\n",
    "\n",
    "**Bold**  \n",
    "*Italic*  \n",
    "~Nope~  \n",
    "`code`  \n",
    "```python\n",
    "# Big code\n",
    "\n",
    "def hello():\n",
    "    print('Hello !')\n",
    "    \n",
    "hello()\n",
    "```\n",
    "\n",
    "une ligne :\n",
    "\n",
    "--- \n",
    "\n",
    "\n",
    "une liste :\n",
    "- a\n",
    "- b\n",
    "- c\n",
    "\n",
    "numéroté :\n",
    "1. A\n",
    "2. B\n",
    "3. C\n",
    "\n",
    "Pour revenir à la ligne, soit deux espaces à la fin de la ligne :  \n",
    "soit deux `enter`\n",
    "\n",
    "comme ça :p\n",
    "\n",
    "il y a ça aussi qui existe :\n",
    "> je suis un texte sur fond noir\n",
    "> Moi aussi !!! <3"
   ]
  },
  {
   "cell_type": "code",
   "execution_count": 30,
   "metadata": {},
   "outputs": [
    {
     "data": {
      "application/vnd.jupyter.widget-view+json": {
       "model_id": "b31dd32d562447c4a121861b19b56f59",
       "version_major": 2,
       "version_minor": 0
      },
      "text/plain": [
       "IntProgress(value=0, max=10)"
      ]
     },
     "metadata": {},
     "output_type": "display_data"
    }
   ],
   "source": [
    "from ipywidgets import IntProgress\n",
    "from IPython.display import display\n",
    "import time\n",
    "\n",
    "max_i = 10\n",
    "f = IntProgress(min=0, max=max_i) # instantiate the bar\n",
    "display(f) # display the bar\n",
    "\n",
    "for i in range(max_i):\n",
    "    f.value += 1 \n",
    "    time.sleep(0.5)"
   ]
  },
  {
   "cell_type": "markdown",
   "metadata": {},
   "source": [
    "---"
   ]
  },
  {
   "cell_type": "code",
   "execution_count": 24,
   "metadata": {},
   "outputs": [
    {
     "data": {
      "text/html": [
       "\n",
       "        <iframe\n",
       "            width=\"600\"\n",
       "            height=\"300\"\n",
       "            src=\"../../Downloads/Lin_JASA_2008.pdf\"\n",
       "            frameborder=\"0\"\n",
       "            allowfullscreen\n",
       "        ></iframe>\n",
       "        "
      ],
      "text/plain": [
       "<IPython.lib.display.IFrame at 0x28d8ecdc0d0>"
      ]
     },
     "execution_count": 24,
     "metadata": {},
     "output_type": "execute_result"
    }
   ],
   "source": [
    "from IPython.display import IFrame\n",
    "IFrame(\"../../Downloads/Lin_JASA_2008.pdf\", width=600, height=300)"
   ]
  },
  {
   "cell_type": "code",
   "execution_count": 21,
   "metadata": {},
   "outputs": [],
   "source": [
    "# mettre un \"!\" permet de lancer une commande terminal. Celle ci-dessous \n",
    "# permet de formater en PEP-8 ce document (Untitled.ipynb)\n",
    "# Décommante la ligne si besoin. Pense à installer autopep8 \n",
    "# avant : pip install autopep8 \n",
    "\n",
    "# !autopep8 --in-place --aggressive --aggressive Untitled.ipynb"
   ]
  },
  {
   "cell_type": "code",
   "execution_count": 1,
   "metadata": {},
   "outputs": [],
   "source": [
    "from pylab import *\n",
    "import numpy as np\n",
    "import matplotlib.pyplot as plt"
   ]
  },
  {
   "cell_type": "code",
   "execution_count": 2,
   "metadata": {},
   "outputs": [],
   "source": [
    "ic = complex(0,1)"
   ]
  },
  {
   "cell_type": "markdown",
   "metadata": {},
   "source": [
    "## Mobilité\n",
    "\n",
    "plate parameters  Aluminium"
   ]
  },
  {
   "cell_type": "code",
   "execution_count": 3,
   "metadata": {},
   "outputs": [],
   "source": [
    "rho_p = 2660\n",
    "eta = 0.03\n",
    "E_p = 71e9 * (1 + ic * eta) # N/m^2 #module d'Young complexe de la plaque\n",
    "Lx = 5\n",
    "Ly = 1\n",
    "h_p = 0.008\n",
    "v_p = 0.3\n",
    "D_p = (E_p * h_p**3) / ((1 - v_p**2) * 12)"
   ]
  },
  {
   "cell_type": "markdown",
   "metadata": {},
   "source": [
    "beam parameters  Steel"
   ]
  },
  {
   "cell_type": "code",
   "execution_count": 4,
   "metadata": {},
   "outputs": [],
   "source": [
    "rho_b = 2660\n",
    "E_b = 71e9 * (1 + ic * eta) # N/m^2 #module d'Young complexe des raidisseurs # N/m^2\n",
    "v_b = 0.3\n",
    "G = E_b / 2 / (1 + v_b) # N/m^2\n",
    "b = 0.08 # m\n",
    "h_b = 0.005 # m\n",
    "D_b = (E_b * h_b**3) / ((1 - v_b**2) * 12)\n",
    "beta = 0.2\n",
    "S = b * h_b # m^2\n",
    "ml = rho_b * S # kg/m\n",
    "I = b * h_b**3 / 12   # moment quad de la section de la poutre\n",
    "B = 4.55 * D_b    # flexural stiffness\n",
    "J = beta * b * h_b**3     # torsional constant\n",
    "Ti = D_b / 38.1            # torsional stiffness"
   ]
  },
  {
   "cell_type": "markdown",
   "metadata": {},
   "source": [
    "Force Parameters"
   ]
  },
  {
   "cell_type": "code",
   "execution_count": 5,
   "metadata": {},
   "outputs": [],
   "source": [
    "x0 = 0.2\n",
    "y0 = 0.3\n",
    "F0 = 1\n",
    "N = 9 # nombre de raidisseurs"
   ]
  },
  {
   "cell_type": "markdown",
   "metadata": {},
   "source": [
    "---"
   ]
  },
  {
   "cell_type": "code",
   "execution_count": 6,
   "metadata": {},
   "outputs": [],
   "source": [
    "# xi = (arange(N)+1)*Lx/(N+1)\n",
    "xi = (arange(N) + 1/2) * Lx / N\n",
    "\n",
    "xi = reshape(xi, (1, N))\n",
    "N1 = arange(N)\n",
    "N1 = reshape(N1, (N, 1))\n",
    "\n",
    "m = 19\n",
    "n = 21"
   ]
  },
  {
   "cell_type": "code",
   "execution_count": 7,
   "metadata": {},
   "outputs": [],
   "source": [
    "def phix(x, m):\n",
    "    return sin((m+1)*pi*x/Lx)\n",
    "def phiy(y, n):\n",
    "    return sin((n+1)*pi*y/Ly)\n",
    "\n",
    "def phipx(x, m):\n",
    "    return (m+1)*pi/Lx*cos((m+1)*pi*x/Lx)\n",
    "def phipy(y, n):\n",
    "    return (n+1)*pi/Ly*cos((n+1)*pi*y/Ly)"
   ]
  },
  {
   "cell_type": "code",
   "execution_count": 8,
   "metadata": {},
   "outputs": [],
   "source": [
    "Mo = arange(m)\n",
    "M = reshape(Mo, (m,1))\n",
    "\n",
    "\n",
    "Id = identity(N)\n",
    "Id = reshape(Id,(N,N))\n",
    "\n",
    "kx = arange(1, m+1)*pi/Lx #km\n",
    "kx = reshape(kx, (1, m))\n",
    "ky = arange(1, n+1)*pi/Ly #kn\n",
    "\n",
    "f=50 # fréquence d'excitation pour la validation TD3 Numérique"
   ]
  },
  {
   "cell_type": "code",
   "execution_count": 9,
   "metadata": {},
   "outputs": [],
   "source": [
    "def calculate_x1(N, A, C, B1):\n",
    "    X1 = zeros((2*N,2*N), dtype=complex)\n",
    "    X1[0:N,0:N] = A\n",
    "    X1[0:N,N:2*N] = C\n",
    "    X1[N:2*N,0:N] = C.T           \n",
    "    X1[N:2*N,N:2*N] = B1\n",
    "    return X1"
   ]
  },
  {
   "cell_type": "code",
   "execution_count": 10,
   "metadata": {},
   "outputs": [],
   "source": [
    "def calculate_sub_matrice(N, m, xi, p, Id, Gn, GTn, Gmn, N1, x0):\n",
    "    A = zeros((N,N), dtype=complex)\n",
    "    B1 = zeros((N,N), dtype=complex)\n",
    "    C = zeros((N,N), dtype=complex)\n",
    "    Hssi= zeros((N,1),dtype=complex)\n",
    "    Hsci = zeros((N,1), dtype=complex)\n",
    "\n",
    "    for k in range(m):\n",
    "\n",
    "        #calcul de la sous-matrice représentant les intéractions des les couples de cisaillement entre plaque et poutre\n",
    "        A+= phix(xi,k)*phix(xi.T,k)/Gmn[k,p]+Id/Gn[N1]\n",
    "\n",
    "        #calcul de la sous-matrice représentant les intéractions des moments entre plaque et poutre\n",
    "        B1+= phipx(xi,k)*phipx(xi.T,k)/Gmn[k,p]-Id/GTn[N1]\n",
    "\n",
    "        #calcul de la sous-matrice de couplage croisé\n",
    "        C+= phix(xi,k)*phipx(xi.T,k)/Gmn[k,p]\n",
    "\n",
    "        #éléments pris en compte dans l'équation (7)\n",
    "        Hssi+= phix(xi.T,k)*phix(x0,k)/Gmn[k,p]\n",
    "        Hsci += phix(x0,k)*phipx(xi.T,k)/Gmn[k,p]\n",
    "        \n",
    "    return A, B1, C, Hssi, Hsci"
   ]
  },
  {
   "cell_type": "code",
   "execution_count": 11,
   "metadata": {},
   "outputs": [],
   "source": [
    "def WMN(f):#La fonction WMN permet de calculer la réponse modale d'une plaque non nervurée, en entrée, nous fournissons une fréquence \n",
    "    \n",
    "    omega = 2*pi*f\n",
    "    \n",
    "    kp = (rho_p*h_p/D_p)**0.25*sqrt(omega)\n",
    "    kb = (ml/B)**0.25*sqrt(omega) \n",
    "    \n",
    "    kt = sqrt(rho_b*I/Ly/Ti)*omega\n",
    "    \n",
    "    Gn = B*(ky**4 - kb**4)*Ly/2\n",
    "    \n",
    "    GTn = Ti*Ly/2*(ky**2 - kt**2)\n",
    "    \n",
    "    kmn = sqrt(kx.T**2 + ky**2)\n",
    "    \n",
    "    Gmn = D_p*(kmn**4 - kp**4)*Lx*Ly/4\n",
    "    \n",
    "                \n",
    "    wmn=zeros((m,n), dtype=complex)\n",
    "    for p in range(n):\n",
    "        A, B1, C, Hssi, Hsci = calculate_sub_matrice(N, m, xi, p, Id, Gn, GTn, Gmn, N1, x0)\n",
    "    \n",
    "        # Calcul de Qi Mi pour i=1,..., N\n",
    "        # Construction de la matrice contenant A, B1 et C\n",
    "        # X1_inv = zeros((2*N,2*N), dtype=complex)\n",
    "        X1_inv = np.linalg.inv(calculate_x1(N, A, C, B1)) # Inversion de la matrice\n",
    "        \n",
    "        #Calcul du vercteur de force\n",
    "        Y1 = zeros((2*N,1), dtype=complex)\n",
    "        Y1[0:N,:] = complex(F0*phiy(y0, p),0) * Hssi\n",
    "        Y1[N:2*N,:] = complex(F0*phiy(y0, p),0) * Hsci\n",
    "                \n",
    "        Q = np.dot(X1_inv[0:N,:], Y1)\n",
    "        Mom = np.dot(X1_inv[N:2*N,:], Y1)\n",
    "         \n",
    "        #Calcul des coefficients modaux\n",
    "        \n",
    "        #Calcul de 1/Gmn\n",
    "        Gmninv = reshape(1/Gmn[:,p],(1,m))\n",
    "\n",
    "        #Calcul du dénominateur de l'équation (15)\n",
    "        u = reshape((F0*phix(x0,M)*phiy(y0,p)-np.dot(phix(xi[0,:],M),Q)-np.dot(phipx(xi[0,:],M),Mom)),(1,m))\n",
    "        \n",
    "        wmn[:,p] = u*Gmninv\n",
    "        \n",
    "    return wmn"
   ]
  },
  {
   "cell_type": "code",
   "execution_count": 12,
   "metadata": {},
   "outputs": [],
   "source": [
    "def reponse(Wmn):\n",
    "    rep = sum((dot(phix(X,M.T),Wmn)*phiy(Y,P.T)),2)\n",
    "    return rep"
   ]
  },
  {
   "cell_type": "code",
   "execution_count": 15,
   "metadata": {},
   "outputs": [],
   "source": [
    "def mobility(Wmn):\n",
    "    mob=sum((dot(phix(x0,M.T),Wmn)*phiy(y0,P.T)))\n",
    "    return mob"
   ]
  },
  {
   "cell_type": "code",
   "execution_count": 13,
   "metadata": {},
   "outputs": [],
   "source": [
    "wmn = WMN(f)\n",
    "    \n",
    "Nx = 100\n",
    "Ny = 100\n",
    "\n",
    "x = linspace(0, Lx, Nx)\n",
    "y = linspace(0, Ly, Ny)\n",
    "[X,Y] = meshgrid(x,y)\n",
    "X = reshape(X, (Ny, Nx,1))\n",
    "Y = reshape(Y, (Ny, Nx,1))\n",
    "P = reshape(arange(n), (n,1))\n",
    "\n",
    "rep = reponse(wmn)"
   ]
  },
  {
   "cell_type": "code",
   "execution_count": 14,
   "metadata": {},
   "outputs": [
    {
     "data": {
      "image/png": "[encoded data removed]",
      "text/plain": [
       "<Figure size 432x288 with 1 Axes>"
      ]
     },
     "metadata": {
      "needs_background": "light"
     },
     "output_type": "display_data"
    }
   ],
   "source": [
    "figure(2)\n",
    "subplot(121)\n",
    "cla()\n",
    "plt.title('Déformée pour f=50Hz', loc = 'center')\n",
    "xlabel('x (m)'); ylabel('y (m)')\n",
    "imshow(rep.real, origin = 'lower', extent = [0, Lx, 0, Ly])\n",
    "plot(x0, y0, 'ro')\n",
    "\n",
    "for j in range(N):\n",
    "    plot([xi[0][j], xi[0][j]], [0, Ly], 'k-' )"
   ]
  },
  {
   "cell_type": "code",
   "execution_count": 16,
   "metadata": {},
   "outputs": [],
   "source": [
    "Nf=1000 # nombre de fréquences calculées\n",
    "freq = linspace(1,1000,Nf)\n",
    "mob = zeros((Nf,1))\n",
    "indice = 0\n",
    "\n",
    "for f in freq:\n",
    "    wmn = WMN(f)\n",
    "    mob[indice,0] = abs(mobility(wmn)*2*pi*f/F0)#abs(abs(mobility(wmn))*2*pi*f/F0)\n",
    "    indice += 1\n",
    "    \n",
    "mini = mob.min() # détermination du minimum de la mobilité\n",
    "maxi = mob.max() # détermination du maximum\n",
    "freq = list(freq)\n",
    "mob = list(mob)"
   ]
  },
  {
   "cell_type": "code",
   "execution_count": 17,
   "metadata": {},
   "outputs": [
    {
     "data": {
      "text/plain": [
       "[<matplotlib.lines.Line2D at 0x28d8ecfe940>]"
      ]
     },
     "execution_count": 17,
     "metadata": {},
     "output_type": "execute_result"
    },
    {
     "data": {
      "image/png": "[encoded data removed]",
      "text/plain": [
       "<Figure size 432x288 with 1 Axes>"
      ]
     },
     "metadata": {
      "needs_background": "light"
     },
     "output_type": "display_data"
    }
   ],
   "source": [
    "figure()\n",
    "plt.scatter(freq,mob,s=1)\n",
    "title('Point force input mobility of the finite periodic ribbed plate')\n",
    "xlabel('Frequency (Hz)')\n",
    "ylabel('Input mobility (m/Ns)')\n",
    "\n",
    "\n",
    "plt.xlim(10,1000)\n",
    "plt.ylim(mini,maxi)\n",
    "plt.xscale('log')\n",
    "plt.yscale('log')\n",
    "plt.plot(freq, mob, linestyle = 'solid')"
   ]
  },
  {
   "cell_type": "markdown",
   "metadata": {},
   "source": [
    "---"
   ]
  },
  {
   "cell_type": "markdown",
   "metadata": {},
   "source": [
    "*Christine* ***Lin***  \n",
    "*Fname* ***Lname***  \n",
    "2021"
   ]
  }
 ],
 "metadata": {
  "kernelspec": {
   "display_name": "Python 3",
   "language": "python",
   "name": "python3"
  },
  "language_info": {
   "codemirror_mode": {
    "name": "ipython",
    "version": 3
   },
   "file_extension": ".py",
   "mimetype": "text/x-python",
   "name": "python",
   "nbconvert_exporter": "python",
   "pygments_lexer": "ipython3",
   "version": "3.8.5"
  }
 },
 "nbformat": 4,
 "nbformat_minor": 4
}
