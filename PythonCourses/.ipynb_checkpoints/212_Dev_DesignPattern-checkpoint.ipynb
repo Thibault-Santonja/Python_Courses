{
 "cells": [
  {
   "cell_type": "markdown",
   "metadata": {},
   "source": [
    "Learn Programmation with Python <a class=\"anchor\" id=\"Title\"></a>\n",
    "==="
   ]
  },
  {
   "cell_type": "markdown",
   "metadata": {},
   "source": [
    "## Intro\n",
    "We'll see some Python basis, some Design Patterns algorithm and their Python implementation and finally, how to test your code (and it's really important and not so difficult !). \n",
    "\n",
    "## Table of contents\n",
    "\n",
    "* [1. Python basis](#Basis)  \n",
    "\\\n",
    "* [2. Design Patterns](#Intro)\n",
    "    * [2.1. Singleton (Creational)](#Singleton)\n",
    "    * [2.2. Factory (Creational)](#Factory)\n",
    "    * [2.3. Strategy (Behavioral)](#Strategy)\n",
    "    * [2.4. Observer (Behavioral)](#Observer)\n",
    "    * [2.5. Builder (Creational)](#Builder)\n",
    "    * [2.6. Adapter (Structural)](#Adapter)\n",
    "    * [2.7. State (Behavioral)](#State)  \n",
    "\\\n",
    "* [3. Testing Your Code](#Test)"
   ]
  },
  {
   "cell_type": "markdown",
   "metadata": {},
   "source": [
    "[Back to the top.](#Title)\n",
    "\n",
    "---\n",
    "# 1. Python basis  <a class=\"anchor\" id=\"Basis\"></a>"
   ]
  },
  {
   "cell_type": "code",
   "execution_count": 1,
   "metadata": {},
   "outputs": [],
   "source": [
    "# base type : int, lang, float, complex, str, bytes, byte array, list, tuple, set, frozenset, dict"
   ]
  },
  {
   "cell_type": "code",
   "execution_count": 2,
   "metadata": {},
   "outputs": [
    {
     "name": "stdout",
     "output_type": "stream",
     "text": [
      "3 1\n",
      "0 1 2.5\n",
      "[1, 5, 2, 4]\n",
      "[4, 2, 5, 1]\n",
      "[1, 2, 4, 5]\n",
      "[1, 2, 4, 5, 6, 7, 8]\n"
     ]
    }
   ],
   "source": [
    "listt = [1, 2, 3]\n",
    "print(max(listt), min(listt)), listt.append(4), print(listt.index(1), listt.count(1), sum(listt) / len(listt)),\n",
    "listt.insert(1, 5), listt.pop(3), print(listt), listt.reverse(), print(listt), listt.sort()\n",
    "print(listt), listt.extend([6,7,8]), print(listt);"
   ]
  },
  {
   "cell_type": "code",
   "execution_count": 3,
   "metadata": {},
   "outputs": [
    {
     "data": {
      "text/plain": [
       "({'dictt[42]': 'la réponse',\n",
       "  \"dictt.get('b')\": 3,\n",
       "  'dictt.items()': dict_items([('a', 1), ('b', 2), ('d', 4)]),\n",
       "  'dictt.keys()': dict_keys(['a', 'b', 'd']),\n",
       "  'dictt.values()': dict_values([1, 2, 4])},\n",
       " 'la réponse',\n",
       " ('c', 6),\n",
       " None,\n",
       " {'a': 1, 'b': 2, 'd': 4})"
      ]
     },
     "execution_count": 3,
     "metadata": {},
     "output_type": "execute_result"
    }
   ],
   "source": [
    "dictt = {'a': 1, 'b': 3, 'c': 6, 42: 'la réponse'}\n",
    "{\"dictt[42]\": dictt[42], \"dictt.get('b')\": dictt.get('b'), \"dictt.items()\":dictt.items(), \"dictt.keys()\":dictt.keys(), \n",
    " \"dictt.values()\":dictt.values()}, dictt.pop(42), dictt.popitem(), dictt.update({'b': 2, 'd': 4}), dictt\n"
   ]
  },
  {
   "cell_type": "code",
   "execution_count": 4,
   "metadata": {},
   "outputs": [
    {
     "data": {
      "text/plain": [
       "('banana',\n",
       " {'apple', 'cherry'},\n",
       " {'banana'},\n",
       " {'apple', 'banana', 'cherry', 'pineapple'})"
      ]
     },
     "execution_count": 4,
     "metadata": {},
     "output_type": "execute_result"
    }
   ],
   "source": [
    "tuplee = (\"apple\", \"banana\", \"cherry\")  # inmodifiable, less place than list and faster \n",
    "sett = {\"apple\", \"banana\", \"cherry\"}\n",
    "tuplee[1], sett.difference({'banana', 'pineapple'}), sett.intersection({'banana', 'pineapple'}), sett.union({'banana', 'pineapple'})"
   ]
  },
  {
   "cell_type": "code",
   "execution_count": 5,
   "metadata": {},
   "outputs": [
    {
     "data": {
      "text/plain": [
       "('eee bbb', 'a', 'bcdef', 'abcde', 'ae', 'fdb', (42, 4, 2, 4.2))"
      ]
     },
     "execution_count": 5,
     "metadata": {},
     "output_type": "execute_result"
    }
   ],
   "source": [
    "''.join(['eee', ' ', 'bbb']), 'abcdef'[:1], 'abcdef'[1:], 'abcdef'[:-1], 'abcdef'[0::4], 'abcdef'[len('abcdef')::-2], (42, 42 // 10, 42 % 10, 42/10)"
   ]
  },
  {
   "cell_type": "code",
   "execution_count": 6,
   "metadata": {},
   "outputs": [
    {
     "data": {
      "text/plain": [
       "(['abc', 'defg', 'hijklm', 'nop', 'qrstu', 'vw', 'xyz'], 'eghjl', 'eghjl')"
      ]
     },
     "execution_count": 6,
     "metadata": {},
     "output_type": "execute_result"
    }
   ],
   "source": [
    "'abc defg hijklm nop qrstu vw xyz'.split(), 'abc defg hijklm nop qrstu vw xyz'[slice(5, 15, 2)], \\\n",
    "'abc defg hijklm nop qrstu vw xyz'[5:15][::2]"
   ]
  },
  {
   "cell_type": "code",
   "execution_count": 7,
   "metadata": {},
   "outputs": [],
   "source": [
    "# \"pass\" statement is used as a placeholder for future code\n",
    "def coucou():\n",
    "    pass\n",
    "coucou()"
   ]
  },
  {
   "cell_type": "markdown",
   "metadata": {},
   "source": [
    "- Python memory manager (memory manager In CPython) : private heap space in Python that contains all the Python objects and data structures ## pass by reference\n",
    "- Lambda\n",
    "- Pickling\n",
    "- unittest\n",
    "- generator in Python : written like a regular function, generator is more compact than an iterator due to the fact that __iter__() and next() functions are automatically created in a generator\n",
    "- yield statement to return data during the function call\n",
    "- __ is used for reserved names, _ is used for built-in functions (e.g. if __name__ == '__main__' )\n",
    "- Flask is a micro-framework based on Python to develop web applications\n",
    "- function zip() can be used to aggregate all the iterable objects of an iterator\n",
    "- MySQLdb database has to be connected by passing the URL, username, password, and the name of the database. Once the connection is established, a cursor with cursor() can be opened. On an open cursor, the fetch() function can be used to execute queries and retrieve data from the database tables.\n",
    "- to specify encoding : \n",
    "-   \\#!/usr/bin/python\n",
    "-   \\# -*- coding: <encoding name> -*-      OR      # coding: <encoding name>            <encoding name> = ascii , iso-8859-15, latin-1, utf-8 (by default)\n",
    "- python checker pour vérifier le code : pylint (lancer la commande `pylint moncode.py` dans un terminal), pep8 (`pep8 --first optparse.py`, `pep8 --show-source --show-pep8 testsuite/E40.py`)\n",
    "- A Python Decorator is a mechanism to wrap a Python function and modify its behavior by adding more functionality to it. We can use @ symbol to call a Python Decorator function. \n",
    "```python\n",
    "issubclass(bool,int) # bool is a subclass of int\n",
    "```\n",
    "- “is” is used to check an object against its identity, whereas “==” is used to check the equality of two objects. "
   ]
  },
  {
   "cell_type": "markdown",
   "metadata": {},
   "source": [
    "## 1. Yield"
   ]
  },
  {
   "cell_type": "code",
   "execution_count": 8,
   "metadata": {},
   "outputs": [
    {
     "name": "stdout",
     "output_type": "stream",
     "text": [
      "0\n",
      "1\n",
      "2\n",
      "3\n"
     ]
    }
   ],
   "source": [
    "import time # Represent Infinite Stream\n",
    "\n",
    "def coucou(maxx):\n",
    "    i = 0\n",
    "    while True: # on peut juste mettre while True\n",
    "        yield i\n",
    "        i += 1\n",
    "        if i > maxx:\n",
    "            raise StopIteration(maxx)\n",
    "\n",
    "try:\n",
    "    for j in coucou(3):\n",
    "        time.sleep(.5)\n",
    "        print(j)\n",
    "except:\n",
    "    pass"
   ]
  },
  {
   "cell_type": "code",
   "execution_count": 9,
   "metadata": {},
   "outputs": [
    {
     "name": "stdout",
     "output_type": "stream",
     "text": [
      "4895\n"
     ]
    }
   ],
   "source": [
    "# Pipelining Generators\n",
    "def fibonacci_numbers(nums):\n",
    "    x, y = 0, 1\n",
    "    for _ in range(nums):\n",
    "        x, y = y, x+y\n",
    "        yield x\n",
    "\n",
    "def square(nums):\n",
    "    for num in nums:\n",
    "        yield num**2\n",
    "\n",
    "print(sum(square(fibonacci_numbers(10))))"
   ]
  },
  {
   "cell_type": "markdown",
   "metadata": {},
   "source": [
    "## 1. `zip()` \n",
    "for generator and list (Range is a generator)"
   ]
  },
  {
   "cell_type": "code",
   "execution_count": 10,
   "metadata": {},
   "outputs": [
    {
     "name": "stdout",
     "output_type": "stream",
     "text": [
      "[1, 2, 4, 8, 16, 32, 64, 128]\n"
     ]
    },
    {
     "data": {
      "text/plain": [
       "(None, [(1, 1, 'A'), (2, 2, 'B'), (3, 4, 'C'), (4, 8, 'D'), (5, 16, 'E')])"
      ]
     },
     "execution_count": 10,
     "metadata": {},
     "output_type": "execute_result"
    }
   ],
   "source": [
    "def PowTwoGen(max=0):\n",
    "    n = 0\n",
    "    while n < max:\n",
    "        yield 2 ** n\n",
    "        n += 1\n",
    "        \n",
    "list(zip(range(1, 9), PowTwoGen(8), 'ABCDE'))"
   ]
  },
  {
   "cell_type": "markdown",
   "metadata": {},
   "source": [
    "## 1. Python Doc"
   ]
  },
  {
   "cell_type": "code",
   "execution_count": null,
   "metadata": {},
   "outputs": [],
   "source": [
    "def random_function():\n",
    "    \"\"\"random_function does nothing\n",
    "    args:\n",
    "    returns bool\n",
    "    \"\"\"\n",
    "    return True\n",
    "print(random_function.__doc__)"
   ]
  },
  {
   "cell_type": "markdown",
   "metadata": {},
   "source": [
    "## 1. Lambda"
   ]
  },
  {
   "cell_type": "code",
   "execution_count": null,
   "metadata": {},
   "outputs": [],
   "source": [
    "(lambda x, y=0: x + y)(5,10), (lambda x, y=0: x + y)(5)"
   ]
  },
  {
   "cell_type": "code",
   "execution_count": null,
   "metadata": {},
   "outputs": [],
   "source": [
    "list(map(lambda x: x+2, [1,2,3])), [x+2 for x in [1,2,3]]"
   ]
  },
  {
   "cell_type": "code",
   "execution_count": null,
   "metadata": {},
   "outputs": [],
   "source": [
    "my_lambda = lambda x: x+2\n",
    "my_lambda(2)"
   ]
  },
  {
   "cell_type": "code",
   "execution_count": null,
   "metadata": {},
   "outputs": [],
   "source": [
    "# Defining a decorator\n",
    "def trace(f):\n",
    "    def wrap(*args, **kwargs):\n",
    "        print(f\"[TRACE] func: {f.__name__}, args: {args}, kwargs: {kwargs}\")\n",
    "        return f(*args, **kwargs)\n",
    "\n",
    "    return wrap\n",
    "\n",
    "# Applying decorator to a function\n",
    "@trace\n",
    "def add_two(x):\n",
    "    return x + 2\n",
    "\n",
    "# Calling the decorated function\n",
    "add_two(3)\n",
    "\n",
    "# Applying decorator to a lambda\n",
    "print((trace(lambda x: x ** 2))(3))"
   ]
  },
  {
   "cell_type": "code",
   "execution_count": null,
   "metadata": {},
   "outputs": [],
   "source": [
    "addtwo = lambda x: x + 2\n",
    "addtwo.__doc__ = \"\"\"Add 2 to a number.\n",
    "    >>> addtwo(2)\n",
    "    4\n",
    "    >>> addtwo(2.2)\n",
    "    4.2\n",
    "    >>> addtwo(3) # Should fail\n",
    "    6\n",
    "    \"\"\"\n",
    "\n",
    "if __name__ == '__main__':\n",
    "    import doctest\n",
    "    doctest.testmod(verbose=True)"
   ]
  },
  {
   "cell_type": "markdown",
   "metadata": {},
   "source": [
    "[Back to the top.](#Title)\n",
    "\n",
    "---\n",
    "# 2. Design Patterns <a class=\"anchor\" id=\"Intro\"></a>\n",
    "\n",
    "Design Patterns give some standards solutions to recurrent programming problems. It's like a plan to describe how to build the best solution to a know concepting problem. It will gives you a global architecture for your software, that is easy to reproduce (because each design pattern is well known and documented) and to understand (because it's recurrent).\n",
    "\n",
    "Three types of Design patterns : \n",
    "- Creational (Factory, Singleton, Builder, Prototype...): describes how to instantiate and configure classes and objects\n",
    "- Structural (Adapter, Decorator...): describes how to organise classes in a larger structure\n",
    "- Behavioral (Iterator, Mediator, Observer, Strategy...): describes how to organise objects to create an easy collaboration between them"
   ]
  },
  {
   "cell_type": "markdown",
   "metadata": {},
   "source": [
    "[Back to the top.](#Title)\n",
    "\n",
    "---\n",
    "## 2.1. Singleton (Creational)<a class=\"anchor\" id=\"Singleton\"></a>\n",
    "\n",
    "> Singleton is a creational design pattern that lets you ensure that a class has only one instance, while providing a global access point to this instance.\n",
    "\n",
    "**The Problem**  \n",
    "Ensure to have only one class instance. Why ? In general because some other classes need to share a common ressource (database, file, ...) and sometime, a part need to be protected.\n",
    "\n",
    "**The Solution**  \n",
    "- Create a private constructor to prevent a new instance of this class.\n",
    "- Create a static creation function that calls the constructor or return the cached object.\n",
    "\n",
    "**Structure**  \n",
    "![](https://puu.sh/HAsh2/6dc66d0414.png)\n",
    "\n",
    "**Python Implementation**  \n",
    "`__new__` method will be called when an object is created and `__init__` method will be called to initialize the object. In the base class object, the `__new__` method is defined as a static method which requires to pass a parameter cls. cls represents the class that is needed to be instantiated, and the compiler automatically provides this parameter at the time of instantiation."
   ]
  },
  {
   "cell_type": "code",
   "execution_count": null,
   "metadata": {},
   "outputs": [],
   "source": [
    "class ASingletonClass(object):\n",
    "    \"\"\"\n",
    "    ASingletonClass is an exemple class to create a Singleton.\n",
    "    \"\"\"\n",
    "    \n",
    "    # Private object that store the class instance\n",
    "    __instance = None\n",
    "    \n",
    "    def __new__(cls, val):\n",
    "        # If no instance exists, create one\n",
    "        if ASingletonClass.__instance is None:\n",
    "            ASingletonClass.__instance = object.__new__(cls)\n",
    "            \n",
    "        # For exemple, if we need to store a variable `val`:\n",
    "        ASingletonClass.__instance.val = val\n",
    "        \n",
    "        # Return the new or the already exists instance\n",
    "        return ASingletonClass.__instance\n",
    "    \n",
    "    \n",
    "    @property\n",
    "    def arg(self):\n",
    "        \"\"\"\n",
    "        Returns the singleton variables.\n",
    "        \"\"\"\n",
    "        return ASingletonClass.__instance.val\n",
    "    \n",
    "    def __getattr__(self, name):\n",
    "        return getattr(self.__instance, name)"
   ]
  },
  {
   "cell_type": "markdown",
   "metadata": {},
   "source": [
    "Ok let's try our implementation :"
   ]
  },
  {
   "cell_type": "code",
   "execution_count": null,
   "metadata": {},
   "outputs": [],
   "source": [
    "# Create a new instance with the value 'bouh'.\n",
    "x = ASingletonClass('bouh')\n",
    "print(\"Value of X : \" + str(x.arg))"
   ]
  },
  {
   "cell_type": "code",
   "execution_count": null,
   "metadata": {},
   "outputs": [],
   "source": [
    "# Ok, it works !\n",
    "\n",
    "# Create a new instance with the value 'paf'.\n",
    "# Theorically, it will not create a new instance\n",
    "# but just update the singleton value to 'paf'\n",
    "y = ASingletonClass('paf')\n",
    "\n",
    "# Let's check that...\n",
    "print(\"Value of X : \" + str(x.arg))\n",
    "print(\"Value of Y : \" + str(y.arg))"
   ]
  },
  {
   "cell_type": "code",
   "execution_count": null,
   "metadata": {},
   "outputs": [],
   "source": [
    "# Yeah ! the two values are same !\n",
    "\n",
    "# Just in case, let's verify if it's really\n",
    "# the same object...\n",
    "print(\"Address of Y : \" + str(y))\n",
    "print(\"Address of X : \" + str(x))\n",
    "print(\"So... X and Y are the same object ? \" + str(x is y))\n",
    "# Note to check with 'is' and not '==' because\n",
    "# we want to check the object and not it's value"
   ]
  },
  {
   "cell_type": "markdown",
   "metadata": {},
   "source": [
    "Congrat' ! Now, you know how to create a Singleton in Python !  \n",
    "\n",
    "**Pros & Cons** (of Singleton)  \n",
    "\n",
    "| Pros | Cons |\n",
    "|:-----|:-----|\n",
    "| Insure only one instance | In multi-threading, must have a special treatment to prevent multiple thread duplication |\n",
    "| Global access point | Violates the Single Responsibility Principle because the pattern solves two problems at the time. |\n",
    "| Initialize only for the first call | Can mask a bad design |\n",
    "\n",
    "If you need more information, take a look there : [Refactoring.Guru/Singleton](https://refactoring.guru/design-patterns/singleton)"
   ]
  },
  {
   "cell_type": "markdown",
   "metadata": {},
   "source": [
    "[Back to the top.](#Title)\n",
    "\n",
    "---\n",
    "\n",
    "## 2.2. Factory (Creational)<a class=\"anchor\" id=\"Factory\"></a>\n",
    "\n",
    "Factory provides an interface to create object in the superclass, but it allows subclasses to alter the type of created object.\n",
    "\n",
    "**Problem**  \n",
    "Create some object that are quite same but not exactly, for example : transport by air, by truck or by boat. All of this are transportation and use the function 'transportation' but each time in a little different way.\n",
    "\n",
    "**Solution**  \n",
    "Create an abstract creator which will creates some concrete classes.\n",
    "\n",
    "**Structure**\n",
    "\n",
    "![](https://puu.sh/HAyz5/ccfcb64570.png)\n",
    "\n",
    "For example, we need an object that can be a Circle, a Rectangle or a Square :"
   ]
  },
  {
   "cell_type": "code",
   "execution_count": null,
   "metadata": {},
   "outputs": [],
   "source": [
    "import abc\n",
    "\n",
    "# Create the abstract method\n",
    "class Shape(metaclass=abc.ABCMeta):\n",
    "    @abc.abstractmethod\n",
    "    def calculate_area(self):\n",
    "        pass\n",
    "\n",
    "    @abc.abstractmethod\n",
    "    def calculate_perimeter(self):\n",
    "        pass\n",
    "\n",
    "\n",
    "# Create all shape forms\n",
    "class Rectangle(Shape):  # ConcreteProduct\n",
    "    def __init__(self, height, width):\n",
    "        self.height = height\n",
    "        self.width = width\n",
    "\n",
    "    def calculate_area(self):\n",
    "        return self.height * self.width \n",
    "\n",
    "    def calculate_perimeter(self):\n",
    "        return 2 * (self.height + self.width) \n",
    "\n",
    "    \n",
    "class Square(Shape):  # ConcreteProduct\n",
    "    def __init__(self, width):\n",
    "        self.width = width\n",
    "\n",
    "    def calculate_area(self):\n",
    "        return self.width ** 2\n",
    "\n",
    "    def calculate_perimeter(self):\n",
    "        return 4 * self.width\n",
    "\n",
    "    \n",
    "class Circle(Shape):  # ConcreteProduct\n",
    "    def __init__(self, radius):\n",
    "        self.radius = radius\n",
    "\n",
    "    def calculate_area(self):\n",
    "        return 3.14 * self.radius * self.radius\n",
    "\n",
    "    def calculate_perimeter(self):\n",
    "        return 2 * 3.14 * self.radius"
   ]
  },
  {
   "cell_type": "code",
   "execution_count": null,
   "metadata": {},
   "outputs": [],
   "source": [
    "# Create the factory\n",
    "class ShapeFactory:  # Creator\n",
    "    __instance = None\n",
    "    def __new__(cls):\n",
    "        if ShapeFactory.__instance is None:\n",
    "            ShapeFactory.__instance = object.__new__(cls)\n",
    "        \n",
    "        return ShapeFactory.__instance\n",
    "    \n",
    "    def create_shape(self, name, value1=0, value2=0):\n",
    "        if name == 'circle':\n",
    "            radius = value1 #  input(\"Enter the radius of the circle: \")\n",
    "            return Circle(float(radius))\n",
    "\n",
    "        elif name == 'rectangle':\n",
    "            height = value2 #  input(\"Enter the height of the rectangle: \")\n",
    "            width = value1 #  input(\"Enter the width of the rectangle: \")\n",
    "            return Rectangle(int(height), int(width))\n",
    "\n",
    "        elif name == 'square':\n",
    "            width = value1 #  input(\"Enter the width of the square: \")\n",
    "            return Square(int(width))"
   ]
  },
  {
   "cell_type": "code",
   "execution_count": null,
   "metadata": {},
   "outputs": [],
   "source": [
    "factory = ShapeFactory()\n",
    "shape = factory.create_shape('circle', value1=10.0)\n",
    "print('- Circle -\\n   Area : ' + str(shape.calculate_area()) + '\\n   Perimeter : ' + str(shape.calculate_perimeter()))\n",
    "\n",
    "shape = factory.create_shape('rectangle', value1=10.0, value2=1.0)\n",
    "print('\\n\\n- Rectangle -\\n   Area : ' + str(shape.calculate_area()) + '\\n   Perimeter : ' + str(shape.calculate_perimeter()))\n",
    "\n",
    "shape = factory.create_shape('square', value1=10.0)\n",
    "print('\\n\\n- Square -\\n   Area : ' + str(shape.calculate_area()) + '\\n   Perimeter : ' + str(shape.calculate_perimeter()))"
   ]
  },
  {
   "cell_type": "markdown",
   "metadata": {},
   "source": [
    "[Back to the top.](#Title)\n",
    "\n",
    "---\n",
    "\n",
    "## 2.3. Strategy (Behavioral) <a class=\"anchor\" id=\"Strategy\"></a>\n",
    "\n",
    "[Interesting link, click me !](https://sourcemaking.com/design_patterns/strategy)\n",
    "\n",
    "The strategy pattern allows grouping related algorithms under an abstraction, which allows switching out one algorithm or policy for another without modifying the client. Instead of directly implementing a single algorithm, the code receives runtime instructions specifying which of the group of algorithms to run.\n",
    "\n",
    "![](https://sourcemaking.com/files/v2/content/patterns/Strategy_.png?id=786363dbbdb04e551aa8)"
   ]
  },
  {
   "cell_type": "code",
   "execution_count": null,
   "metadata": {},
   "outputs": [],
   "source": [
    "import abc\n",
    "\n",
    "\n",
    "# Define the interface of interest to clients.\n",
    "class Context:\n",
    "    \"\"\"    \n",
    "    Maintain a reference to a Strategy object.\n",
    "    \"\"\"\n",
    "\n",
    "    def __init__(self, strategy):\n",
    "        self._strategy = strategy\n",
    "\n",
    "    def context_interface(self):\n",
    "        self._strategy.algorithm_interface()"
   ]
  },
  {
   "cell_type": "code",
   "execution_count": null,
   "metadata": {},
   "outputs": [],
   "source": [
    "# Declare an interface common to all supported algorithms. \n",
    "class Strategy(metaclass=abc.ABCMeta):\n",
    "    \"\"\"\n",
    "    Context uses this interface to call the algorithm defined by a\n",
    "    ConcreteStrategy.\n",
    "    \"\"\"\n",
    "    \n",
    "    @abc.abstractmethod\n",
    "    def algorithm_interface(self):\n",
    "        pass\n",
    "\n",
    "\n",
    "class Wolf(Strategy):\n",
    "    \"\"\"Implement the algorithm using the Strategy interface.\"\"\"\n",
    "\n",
    "    def algorithm_interface(self):\n",
    "        print(\"Ahouuuuu\")\n",
    "\n",
    "    \n",
    "class Turtle(Strategy):\n",
    "    \"\"\"Implement the algorithm using the Strategy interface.\"\"\"\n",
    "\n",
    "    def algorithm_interface(self):\n",
    "        print(\"aaahhhhh\")\n",
    "\n",
    "    \n",
    "class Goat(Strategy):\n",
    "    \"\"\"Implement the algorithm using the Strategy interface.\"\"\"\n",
    "\n",
    "    def algorithm_interface(self):\n",
    "        print(\"beeeeee\")"
   ]
  },
  {
   "cell_type": "code",
   "execution_count": null,
   "metadata": {},
   "outputs": [],
   "source": [
    "print(\"\\nFirst context:\")\n",
    "my_wolf = Wolf()\n",
    "context = Context(my_wolf)\n",
    "context.context_interface()\n",
    "\n",
    "print(\"\\nChange the context:\")\n",
    "context = Context(Turtle())\n",
    "context.context_interface()"
   ]
  },
  {
   "cell_type": "markdown",
   "metadata": {},
   "source": [
    "[Back to the top.](#Title)\n",
    "\n",
    "---\n",
    "\n",
    "## 2.4. Observer (Behavioral) <a class=\"anchor\" id=\"Observer\"></a>\n",
    "\n",
    "Define a one-to-many dependency between objects so that when one object changes state, all its dependents are notified and updatedautomatically.  \n",
    "\n",
    "**Problem**  \n",
    "A client need to be notified when a specific product is available. Two naive solutions exists :\n",
    "- Firstly, the client can go many times to the shop, but a lot of the time, it is useless as the product isn't available\n",
    "- A second naive solution is to notify every clients when a new product is available, but the shop will spam all client with a lot of useless messages\n",
    "In both of these cases, we have a problem, in a case, clients needs a lot of ressources to check the shop, in the other case, the shop spend a lot of ressources to notify (spam) all clients.  \n",
    "\n",
    "**Solution**  \n",
    "Some *subscribers* will follow (or unfollow) a *publisher*. The publisher have the list of subscribers and all subscribers can ask to add them or remove them from the list. When a notification arrives to the publisher, it will call the notify function of the list of subscribers."
   ]
  },
  {
   "cell_type": "code",
   "execution_count": null,
   "metadata": {},
   "outputs": [],
   "source": [
    "from __future__ import annotations\n",
    "import typing\n",
    "import abc\n",
    "import numpy as np\n",
    "\n",
    "class Subject(abc.ABC):  # Publisher interface\n",
    "    \"\"\"\n",
    "    The Subject interface declares a set of methods for managing subscribers.\n",
    "    \"\"\"\n",
    "    \n",
    "    @abc.abstractmethod\n",
    "    def attach(self, observer: Observer) -> None:\n",
    "        \"\"\"\n",
    "        Attach an observer to the subject.\n",
    "        \"\"\"\n",
    "        pass\n",
    "\n",
    "    @abc.abstractmethod\n",
    "    def detach(self, observer: Observer) -> None:\n",
    "        \"\"\"\n",
    "        Detach an observer from the subject.\n",
    "        \"\"\"\n",
    "        pass\n",
    "\n",
    "    @abc.abstractmethod\n",
    "    def notify(self) -> None:\n",
    "        \"\"\"\n",
    "        Notify all observers about an event.\n",
    "        \"\"\"\n",
    "        pass\n",
    "    \n",
    "    \n",
    "class ConcreteSubjectPublisher(Subject):\n",
    "    \"\"\"\n",
    "    The Subject owns some important state and notifies observers when the state\n",
    "    changes.\n",
    "    \"\"\"\n",
    "    \n",
    "    # List of subscribers. In real life, the list of subscribers can be stored\n",
    "    # more comprehensively (categorized by event type, etc.).\n",
    "    # Use a set unless a list to prevent adding two times the same observer.\n",
    "    _observers: typing.Set[Observer] = set([])\n",
    "    # Random state\n",
    "    _state: int = None\n",
    "    \n",
    "    # Subscription management methods.\n",
    "    def attach(self, observer: Observer) -> None:\n",
    "        print(\"Subject: Attached an observer.\")\n",
    "        self._observers.add(observer)\n",
    "\n",
    "    def detach(self, observer: Observer) -> None:\n",
    "        print(\"Subject: Detached an observer.\")\n",
    "        self._observers.remove(observer)\n",
    "        \n",
    "    # Trigger an update and notify each Observer\n",
    "    def notify(self) -> None:\n",
    "        print(\"Subject: Notifying observers...\")\n",
    "        for observer in self._observers:\n",
    "            observer.update(self)\n",
    "       \n",
    "    # Usually, the subscription is just a little part of what the subject does.\n",
    "    def run_some_logic(self) -> None:\n",
    "        # ...\n",
    "        # Do some business\n",
    "        # ...\n",
    "        self._state = np.random.randint(6, size=1)\n",
    "        print(\"Subject: State = \" + str(self._state))\n",
    "        \n",
    "        # Trigger notification\n",
    "        self.notify()"
   ]
  },
  {
   "cell_type": "code",
   "execution_count": null,
   "metadata": {},
   "outputs": [],
   "source": [
    "class Observer(abc.ABC):  # Subscriber interface\n",
    "    \"\"\"\n",
    "    The Observer interface declares the update method, used by subjects.\n",
    "    \"\"\"\n",
    "\n",
    "    @abc.abstractmethod\n",
    "    def update(self, subject: Subject) -> None:\n",
    "        # Receive update from subject.\n",
    "        pass\n",
    "\n",
    "    \n",
    "class ConcreteObserverA(Observer):\n",
    "    def update(self, subject: Subject) -> None:\n",
    "        if subject._state < 3:\n",
    "            print(\"ConcreteObserverA: Reacted to the event\")\n",
    "\n",
    "\n",
    "class ConcreteObserverB(Observer):\n",
    "    def update(self, subject: Subject) -> None:\n",
    "        if subject._state == 0 or subject._state >= 2:\n",
    "            print(\"ConcreteObserverB: Reacted to the event\")\n",
    "\n",
    "\n",
    "class ConcreteObserverC(Observer):\n",
    "    def update(self, subject: Subject) -> None:\n",
    "        if subject._state <= 2 or subject._state >= 5:\n",
    "            print(\"ConcreteObserverC: Reacted to the event\")"
   ]
  },
  {
   "cell_type": "code",
   "execution_count": null,
   "metadata": {},
   "outputs": [],
   "source": [
    "# Create the Publisher\n",
    "subject = ConcreteSubjectPublisher()\n",
    "\n",
    "# Create and add some observer\n",
    "observer_a = ConcreteObserverA()\n",
    "subject.attach(observer_a)\n",
    "\n",
    "observer_b = ConcreteObserverB()\n",
    "subject.attach(observer_b)\n",
    "\n",
    "observer_c = ConcreteObserverC()\n",
    "subject.attach(observer_c)\n",
    " \n",
    "# Run some logics\n",
    "for i in range(3):\n",
    "    subject.run_some_logic()\n",
    "\n",
    "subject.detach(observer_a)\n",
    "\n",
    "for i in range(3):\n",
    "    subject.run_some_logic()"
   ]
  },
  {
   "cell_type": "markdown",
   "metadata": {},
   "source": [
    "[Back to the top.](#Title)\n",
    "\n",
    "---\n",
    "\n",
    "## 2.5. Builder (Creational) <a class=\"anchor\" id=\"Builder\"></a>\n",
    "\n",
    "Separate the construction of a complex object from its representation so that the same construction process can create different representations. It's like a factory but for more complex objects."
   ]
  },
  {
   "cell_type": "code",
   "execution_count": null,
   "metadata": {},
   "outputs": [],
   "source": [
    "from __future__ import annotations\n",
    "import abc\n",
    "\n",
    "class Builder(abc.ABC):\n",
    "    \"\"\"\n",
    "    The Builder interface specifies methods for creating the different parts of\n",
    "    the Product objects.\n",
    "    \"\"\"\n",
    "\n",
    "    @abc.abstractproperty\n",
    "    def product(self) -> None:\n",
    "        pass\n",
    "\n",
    "    @abc.abstractmethod\n",
    "    def produce_part_a(self) -> None:\n",
    "        pass\n",
    "\n",
    "    @abc.abstractmethod\n",
    "    def produce_part_b(self) -> None:\n",
    "        pass\n",
    "\n",
    "    @abc.abstractmethod\n",
    "    def produce_part_c(self) -> None:\n",
    "        pass\n",
    "    \n",
    "\n",
    "class ConcreteBuilder1(Builder):\n",
    "    def __init__(self) -> None:\n",
    "        \"\"\"\n",
    "        A fresh builder instance should contain a blank product object, which is\n",
    "        used in further assembly.\n",
    "        \"\"\"\n",
    "        self.reset()\n",
    "        \n",
    "    def reset(self) -> None:\n",
    "        self._product = Product1()\n",
    "        \n",
    "    @property\n",
    "    def product(self) -> Product1:\n",
    "        \"\"\"\n",
    "        Concrete Builders are supposed to provide their own methods for\n",
    "        retrieving results. That's because various types of builders may create\n",
    "        entirely different products that don't follow the same interface.\n",
    "        Therefore, such methods cannot be declared in the base Builder interface\n",
    "        (at least in a statically typed programming language).\n",
    "\n",
    "        Usually, after returning the end result to the client, a builder\n",
    "        instance is expected to be ready to start producing another product.\n",
    "        That's why it's a usual practice to call the reset method at the end of\n",
    "        the `getProduct` method body. However, this behavior is not mandatory,\n",
    "        and you can make your builders wait for an explicit reset call from the\n",
    "        client code before disposing of the previous result.\n",
    "        \"\"\"\n",
    "        product = self._product\n",
    "        self.reset()\n",
    "        return product\n",
    "\n",
    "    def produce_part_a(self) -> None:\n",
    "        self._product.add(\"PartA1\")\n",
    "\n",
    "    def produce_part_b(self) -> None:\n",
    "        self._product.add(\"PartB1\")\n",
    "\n",
    "    def produce_part_c(self) -> None:\n",
    "        self._product.add(\"PartC1\")"
   ]
  },
  {
   "cell_type": "code",
   "execution_count": null,
   "metadata": {},
   "outputs": [],
   "source": [
    "class Product1():\n",
    "    \"\"\"\n",
    "    It makes sense to use the Builder pattern only when your products are quite\n",
    "    complex and require extensive configuration.\n",
    "\n",
    "    Unlike in other creational patterns, different concrete builders can produce\n",
    "    unrelated products. In other words, results of various builders may not\n",
    "    always follow the same interface.\n",
    "    \"\"\"\n",
    "\n",
    "    def __init__(self) -> None:\n",
    "        self.parts = []\n",
    "\n",
    "    def add(self, part: Any) -> None:\n",
    "        self.parts.append(part)\n",
    "\n",
    "    def list_parts(self) -> None:\n",
    "        print(f\"Product parts: {', '.join(self.parts)}\", end=\"\")"
   ]
  },
  {
   "cell_type": "code",
   "execution_count": null,
   "metadata": {},
   "outputs": [],
   "source": [
    "class Director:\n",
    "    \"\"\"\n",
    "    The Director is only responsible for executing the building steps in a\n",
    "    particular sequence. It is helpful when producing products according to a\n",
    "    specific order or configuration. Strictly speaking, the Director class is\n",
    "    optional, since the client can control builders directly.\n",
    "    \"\"\"\n",
    "\n",
    "    def __init__(self) -> None:\n",
    "        self._builder = None\n",
    "\n",
    "    @property\n",
    "    def builder(self) -> Builder:\n",
    "        return self._builder\n",
    "\n",
    "    @builder.setter\n",
    "    def builder(self, builder: Builder) -> None:\n",
    "        \"\"\"\n",
    "        The Director works with any builder instance that the client code passes\n",
    "        to it. This way, the client code may alter the final type of the newly\n",
    "        assembled product.\n",
    "        \"\"\"\n",
    "        self._builder = builder\n",
    "\n",
    "    \"\"\"\n",
    "    The Director can construct several product variations using the same\n",
    "    building steps.\n",
    "    \"\"\"\n",
    "\n",
    "    def build_minimal_viable_product(self) -> None:\n",
    "        self.builder.produce_part_a()\n",
    "\n",
    "    def build_full_featured_product(self) -> None:\n",
    "        self.builder.produce_part_a()\n",
    "        self.builder.produce_part_b()\n",
    "        self.builder.produce_part_c()"
   ]
  },
  {
   "cell_type": "code",
   "execution_count": null,
   "metadata": {},
   "outputs": [],
   "source": [
    "director = Director()\n",
    "builder = ConcreteBuilder1()\n",
    "director.builder = builder\n",
    "\n",
    "print(\"Standard basic product: \")\n",
    "director.build_minimal_viable_product()\n",
    "builder.product.list_parts()\n",
    "\n",
    "print(\"\\n\")\n",
    "\n",
    "print(\"Standard full featured product: \")\n",
    "director.build_full_featured_product()\n",
    "builder.product.list_parts()\n",
    "\n",
    "print(\"\\n\")\n",
    "\n",
    "# Remember, the Builder pattern can be used without a Director class.\n",
    "print(\"Custom product: \")\n",
    "builder.produce_part_a()\n",
    "builder.produce_part_b()\n",
    "builder.product.list_parts()"
   ]
  },
  {
   "cell_type": "markdown",
   "metadata": {},
   "source": [
    "[Back to the top.](#Title)\n",
    "\n",
    "---\n",
    "\n",
    "## 2.6. Adapter (Structural) <a class=\"anchor\" id=\"Adapter\"></a>\n",
    "\n",
    "([A good source !](https://refactoring.guru/fr/design-patterns/adapter))\n",
    "\n",
    "Convert the interface of a class into another interface clients expect. Adapter lets classes work together that couldn't otherwise because of incompatible interfaces."
   ]
  },
  {
   "cell_type": "markdown",
   "metadata": {},
   "source": [
    "[Back to the top.](#Title)\n",
    "\n",
    "---\n",
    "\n",
    "## 2.7. State (Behavioral) <a class=\"anchor\" id=\"State\"></a>\n",
    "\n",
    "Allow an object to alter its behavior when its internal state changes. The object will appear to change its class.\n",
    "> An object-oriented state machine  \n",
    "> wrapper + polymorphic wrappee + collaboration\n",
    "\n",
    "![](https://sourcemaking.com/files/v2/content/patterns/State1.png?id=04f059639115e34a7628)"
   ]
  },
  {
   "cell_type": "code",
   "execution_count": null,
   "metadata": {},
   "outputs": [],
   "source": [
    "import abc\n",
    "\n",
    "\n",
    "# Define the context class which keeps an instance of State subclass\n",
    "class Context:\n",
    "    \"\"\"\n",
    "    Maintain an instance of a ConcreteState subclass that defines the\n",
    "    current state.\n",
    "    \"\"\"\n",
    "    \n",
    "    _state = None\n",
    "    \n",
    "    def __init__(self, state:State):\n",
    "        self.transition_to(state)\n",
    "        \n",
    "    def transition_to(self, state: State):\n",
    "        self._state = state\n",
    "        self._state.set_context(self)\n",
    "        \n",
    "    def request(self):\n",
    "        self._state.handle()"
   ]
  },
  {
   "cell_type": "code",
   "execution_count": null,
   "metadata": {},
   "outputs": [],
   "source": [
    "# Define main abstract State class\n",
    "class State(metaclass=abc.ABCMeta):\n",
    "    \"\"\"\n",
    "    Define an interface for encapsulating the behavior associated with a\n",
    "    particular state of the Context.\n",
    "    \"\"\"\n",
    "    def get_context(self) -> Context:\n",
    "        return self._context\n",
    "\n",
    "    def set_context(self, context: Context) -> None:\n",
    "        self._context = context\n",
    "\n",
    "    @abc.abstractmethod\n",
    "    def handle(self):\n",
    "        pass\n",
    "    \n",
    "    \n",
    "# Define all substates heritate from State   \n",
    "class ConcreteStateA(State):\n",
    "    \"\"\"\n",
    "    Implement a behavior associated with a state of the Context.\n",
    "    \"\"\"\n",
    "\n",
    "    def handle(self):\n",
    "        print(\"Change state A -> B\")\n",
    "        self.get_context().transition_to(ConcreteStateB())\n",
    "\n",
    "\n",
    "class ConcreteStateB(State):\n",
    "    \"\"\"\n",
    "    Implement a behavior associated with a state of the Context.\n",
    "    \"\"\"\n",
    "\n",
    "    def handle(self):\n",
    "        print(\"Change state B -> A\")\n",
    "        self.get_context().transition_to(ConcreteStateA())"
   ]
  },
  {
   "cell_type": "code",
   "execution_count": null,
   "metadata": {},
   "outputs": [],
   "source": [
    "context = Context(ConcreteStateA())\n",
    "context.request()\n",
    "context.request()\n",
    "context.request()\n",
    "context.request()\n",
    "context.request()"
   ]
  },
  {
   "cell_type": "markdown",
   "metadata": {},
   "source": [
    "This example is used for an ON/OFF button. First push, light is on, next tap, light is off, et cetera. But it can be also interesting to switch only if trigger certain request.  \n",
    "\n",
    "Here, an example with many handle() / request()"
   ]
  },
  {
   "cell_type": "code",
   "execution_count": null,
   "metadata": {},
   "outputs": [],
   "source": [
    "import abc\n",
    "\n",
    "\n",
    "# Define the context class which keeps an instance of State subclass\n",
    "class Context:\n",
    "    \"\"\"\n",
    "    Maintain an instance of a ConcreteState subclass that defines the\n",
    "    current state.\n",
    "    \"\"\"\n",
    "    \n",
    "    _state = None\n",
    "    \n",
    "    def __init__(self, state:State):\n",
    "        self.transition_to(state)\n",
    "        \n",
    "    def transition_to(self, state: State):\n",
    "        self._state = state\n",
    "        self._state.set_context(self)\n",
    "        \n",
    "    def request1(self):\n",
    "        self._state.handle1()\n",
    "\n",
    "    def request2(self):\n",
    "        self._state.handle2()\n",
    "        \n",
    "        \n",
    "# Define main abstract State class\n",
    "class State(metaclass=abc.ABCMeta):\n",
    "    \"\"\"\n",
    "    Define an interface for encapsulating the behavior associated with a\n",
    "    particular state of the Context.\n",
    "    \"\"\"\n",
    "    def get_context(self) -> Context:\n",
    "        return self._context\n",
    "\n",
    "    def set_context(self, context: Context) -> None:\n",
    "        self._context = context\n",
    "\n",
    "    @abc.abstractmethod\n",
    "    def handle1(self):\n",
    "        pass\n",
    "    @abc.abstractmethod\n",
    "    def handle2(self):\n",
    "        pass\n",
    "    \n",
    "    \n",
    "# Define all substates heritate from State   \n",
    "class ConcreteStateA(State):\n",
    "    \"\"\"\n",
    "    Implement a behavior associated with a state of the Context.\n",
    "    \"\"\"\n",
    "\n",
    "    def handle1(self):\n",
    "        print(\"A : trigger request 1\")\n",
    "        print(\"A request bhange state to B\")\n",
    "        self.get_context().transition_to(ConcreteStateB())\n",
    "\n",
    "    def handle2(self):\n",
    "        print(\"A : trigger request 2\")\n",
    "        \n",
    "\n",
    "class ConcreteStateB(State):\n",
    "    \"\"\"\n",
    "    Implement a behavior associated with a state of the Context.\n",
    "    \"\"\"\n",
    "\n",
    "    def handle1(self):\n",
    "        print(\"B : trigger request 1\")\n",
    "        \n",
    "    def handle2(self):\n",
    "        print(\"B : trigger request 2\")\n",
    "        print(\"B request bhange state to A\")\n",
    "        self.get_context().transition_to(ConcreteStateA())\n",
    "\n",
    "    \n",
    "context = Context(ConcreteStateA())\n",
    "context.request1()\n",
    "context.request1()\n",
    "context.request2()\n",
    "context.request1()\n",
    "context.request2()\n",
    "context.request2()\n",
    "context.request2()\n",
    "context.request1()"
   ]
  },
  {
   "cell_type": "markdown",
   "metadata": {},
   "source": [
    "[Back to the top.](#Title)\n",
    "\n",
    "---"
   ]
  },
  {
   "cell_type": "markdown",
   "metadata": {},
   "source": [
    "# 3. Testing Your Code  <a class=\"anchor\" id=\"Test\"></a>\n",
    "\n",
    "Testing your code is very important.\n",
    "\n",
    "Getting used to writing testing code and running this code in parallel is now considered a good habit. Used wisely, this method helps to define your code’s intent more precisely and have a more decoupled architecture.\n",
    "\n",
    "Some general rules of testing:\n",
    "\n",
    "- A testing unit should focus on one tiny bit of functionality and prove it correct.\n",
    "- Each test unit must be fully independent. Each test must be able to run alone, and also within the test suite, regardless of the order that they are called. The implication of this rule is that each test must be loaded with a fresh dataset and may have to do some cleanup afterwards. This is usually handled by setUp() and tearDown() methods.\n",
    "- Try hard to make tests that run fast. If one single test needs more than a few milliseconds to run, development will be slowed down or the tests will not be run as often as is desirable. In some cases, tests can’t be fast because they need a complex data structure to work on, and this data structure must be loaded every time the test runs. Keep these heavier tests in a separate test suite that is run by some scheduled task, and run all other tests as often as needed.\n",
    "- Learn your tools and learn how to run a single test or a test case. Then, when developing a function inside a module, run this function’s tests frequently, ideally automatically when you save the code.\n",
    "- Always run the full test suite before a coding session, and run it again after. This will give you more confidence that you did not break anything in the rest of the code.\n",
    "- It is a good idea to implement a hook that runs all tests before pushing code to a shared repository.\n",
    "- If you are in the middle of a development session and have to interrupt your work, it is a good idea to write a broken unit test about what you want to develop next. When coming back to work, you will have a pointer to where you were and get back on track faster.\n",
    "- The first step when you are debugging your code is to write a new test pinpointing the bug. While it is not always possible to do, those bug catching tests are among the most valuable pieces of code in your project.\n",
    "- Use long and descriptive names for testing functions. The style guide here is slightly different than that of running code, where short names are often preferred. The reason is testing functions are never called explicitly. square() or even sqr() is ok in running code, but in testing code you would have names such as test_square_of_number_2(), test_square_negative_number(). These function names are displayed when a test fails, and should be as descriptive as possible.\n",
    "- When something goes wrong or has to be changed, and if your code has a good set of tests, you or other maintainers will rely largely on the testing suite to fix the problem or modify a given behavior. Therefore the testing code will be read as much as or even more than the running code. A unit test whose purpose is unclear is not very helpful in this case.\n",
    "- Another use of the testing code is as an introduction to new developers. When someone will have to work on the code base, running and reading the related testing code is often the best thing that they can do to start. They will or should discover the hot spots, where most difficulties arise, and the corner cases. If they have to add some functionality, the first step should be to add a test to ensure that the new functionality is not already a working path that has not been plugged into the interface."
   ]
  },
  {
   "cell_type": "code",
   "execution_count": null,
   "metadata": {},
   "outputs": [],
   "source": [
    "# With Unittest :\n",
    "\n",
    "import unittest\n",
    "\n",
    "def fct(x):\n",
    "    return x + 1\n",
    "\n",
    "class MyTest(unittest.TestCase):\n",
    "    def run(self):\n",
    "        print(\"Run all tests :\")\n",
    "        self.test()\n",
    "        print(\"\\nRun all test is finished !\")\n",
    "        \n",
    "    def test(self):\n",
    "        print(\" - test fct()\")\n",
    "        self.assertEqual(fct(3), 4)\n",
    "\n",
    "MyTest().run()"
   ]
  },
  {
   "cell_type": "markdown",
   "metadata": {},
   "source": [
    "```python\n",
    "# With Doctest\n",
    "\n",
    "import doctest\n",
    "\n",
    "def int_square_fct(x):\n",
    "    \"\"\"Return the square of x.\n",
    "    \n",
    "    >>> int_square_fct(2)\n",
    "    4\n",
    "    >>> int_square_fct(-2)\n",
    "    4\n",
    "    \"\"\"\n",
    "\n",
    "    return x * x\n",
    "\n",
    "doctest.testmod()\n",
    "```"
   ]
  },
  {
   "cell_type": "code",
   "execution_count": null,
   "metadata": {},
   "outputs": [],
   "source": []
  },
  {
   "cell_type": "markdown",
   "metadata": {},
   "source": [
    "[Back to the top.](#Title)\n",
    "\n",
    "---"
   ]
  },
  {
   "cell_type": "markdown",
   "metadata": {},
   "source": [
    "Thibault **Santonja**  \n",
    "2021"
   ]
  }
 ],
 "metadata": {
  "kernelspec": {
   "display_name": "Python 3",
   "language": "python",
   "name": "python3"
  },
  "language_info": {
   "codemirror_mode": {
    "name": "ipython",
    "version": 3
   },
   "file_extension": ".py",
   "mimetype": "text/x-python",
   "name": "python",
   "nbconvert_exporter": "python",
   "pygments_lexer": "ipython3",
   "version": "3.8.5"
  }
 },
 "nbformat": 4,
 "nbformat_minor": 4
}
