{
 "cells": [
  {
   "cell_type": "markdown",
   "metadata": {},
   "source": [
    "Machine learning\n",
    "==="
   ]
  },
  {
   "cell_type": "markdown",
   "metadata": {},
   "source": [
    "Types de problèmes:\n",
    "- **Régression**: nombre infini de valeurs, variable continue, tenter de prédire une valeur à une variable continue (ex : prix selon différents paramètres)\n",
    "- **classification**: variable discrète, classer une variable (ex : vrai / faux)\n",
    "\n",
    "Type d'apprentissage:\n",
    "- **Supervisé**: on donne pour des valeurs X le résultat Y pour permettre à la machine d'apprendre et trouver l'association f(x) = y\n",
    "- **Non-supervisé**:\n",
    "\n",
    "Pour l'apprentissage supervisé, on utilise des dataset pour permettre à l'IA d'apprendre, avec n colonnes (features / paramètre) et m lignes (targets / exemples). Par convention, on note un dataset de cette manière :\n",
    "\n",
    "|Y|X1|X2|X3|...|Xn|\n",
    "|:---:|:---:|:---:|:---:|:---:|:---:|\n",
    "|y^(1)|x^(1)1|x^(1)2|x^(1)3|..|x^(1)n|\n",
    "|y^(2)|x^(2)1|x^(2)2|x^(2)3|..|x^(2)n|\n",
    "|..|..|..|..|..|..|\n",
    "|y^(m)|x^(m)1|x^(m)2|x^(m)3|..|x^(m)n|\n",
    "\n",
    "On choisi le modèle (fonction linéaire, polynome degré 2, polynome degré 3...) mais c'est l'IA qui choisi les paramètres a, b, c... `f(x) = ... + ax² + bx + c`\n",
    "\n",
    "Enfin, on va chercher à minimiser la fonction coût représentant l'erreur entre un point et le modèle."
   ]
  },
  {
   "cell_type": "markdown",
   "metadata": {},
   "source": [
    "\n",
    "On va créer un problème random, comme le prix des apparts selon leur surface. On va créer un dataset avec 6 points pour commencer.\n",
    "\n",
    "---\n",
    "## 1. Étudions le problème\n",
    "### 1.1. Questions de bases\n",
    "Resolvons ces 4 questions fondamentales pour bien préparer notre algo :\n",
    "1. Quel data set ? Sachant notre problème : \n",
    "    - (x, y) avec une seule variable, donc un seul x donc `n = 1`\n",
    "    - 6 points, donc `m = 6`\n",
    "2. Quel modèle ? régression linaire donc modèle linéaire : `f(x) = ax + b`\n",
    "3. Quelle fonction coût ? on va regarder la moyenne de la norme euclidienne pour chaque point, donc l'erreur quadratique moyenne : \n",
    "    - Norme euclidienne ou distance au carré ou erreur quadratique (= au carré) : `(f(x^(i)) - y^(i))²`\n",
    "    - On regarde la moyenne (donc : `1/m * somme(erreur_euclidienne)`), soit l'erreur quadratique moyenne : `1/m * SUM( (f(x^(i)) - y^(i))² )` \n",
    "    - Pour simplifier pour la suite (pour une dérivée), on va juste rajouter un coef 1/2 : `J(a, b) = 1/2m * SUM( (f(x^(i)) - y^(i))² )` \n",
    "4. Minimisation / apprentissage ? un fonction carré est une parabole, et on va chercher le minimum de `J` selon `a`\n",
    "    - on peut utiliser les moindres carrés, donc chercher où la tagente à la courbe est parallèle aux absisses\n",
    "    - On peut aussi utiliser la descente de gradient. C'est la solution la plus utilisée car la plus rapide, surtout sur des gros datasets. \n",
    "    \n",
    "### 1.2. La descente de gradient ?\n",
    "Le principe est de faire des petits pas pour trouver le minimum d'une fonction **CONVEXE** (et seulemenent convexe, sinon on risque de trouver un minimum local, mais pas le global.... Aie). On va donc faire la dérivée de notre fonction coût en un point a pour voir la direction de la courbe. Ensuite, nous ferons un pas alpha : `a` (= learning rate / vitesse de convergence). Plus alpha est grand, plus on va vite arriver au minimum mais moins il sera précis et il risque de toujours éviter le minimum. On a donc :\n",
    "```\n",
    "ai+1 = ai - alpha * dJ(ai)/da\n",
    "```\n",
    "- si la pente descent, `dJ/da` sera négatif, donc `- alpha * dJ/da` sera positif et donc `ai+1` va avancer un peu. Et vice versa.\n",
    "\n",
    "### 1.3. La dérivée\n",
    "`J(a, b)` est une fontion composée : `(g • f)(a, b)` (on a `(f(x^(i)) - y^(i))²`) avec :\n",
    "- `f(a, b) = ax + b`\n",
    "- `g(f) = f^2`\n",
    "\n",
    "Pour rappel, `(g • f)' = f' * g'(f)`, donc:\n",
    "- $$\n",
    "\\frac{\\delta J}{\\delta a}   = \\frac{\\delta [\\frac{1}{2m} * \\Sigma( f(xi) - yi)² ]}{\\delta a}\n",
    "                            = \\frac{\\delta [\\frac{1}{2m} * \\Sigma( ax + b - yi)² ]}{\\delta a}\n",
    "                            = 2 * \\frac{1}{2m} * \\Sigma x(ax + b - y)  \n",
    "                            = \\frac{1}{m} * \\Sigma x(ax + b - y)\n",
    "$$\n",
    "- $$\n",
    "\\frac{\\delta J}{\\delta b}   = \\frac{\\delta [\\frac{1}{2m} * \\Sigma( f(xi) - yi)² ]}{\\delta a}\n",
    "                            = \\frac{1}{m} * \\Sigma ax + b - y\n",
    "$$\n",
    "\n",
    "Les expressions sont donc : \n",
    "$$\n",
    "a = a - \\alpha * \\frac{1}{m} * \\Sigma x(ax + b - y)\n",
    "$$\n",
    "$$\n",
    "b = b - \\alpha * \\frac{1}{m} * \\Sigma ax + b - y\n",
    "$$"
   ]
  },
  {
   "cell_type": "markdown",
   "metadata": {},
   "source": [
    "---\n",
    "## 2. Numpy & matrices\n",
    "\n",
    "Maintenant que l'on a notre modèle, nous allons devoir le matrixifié... Ok ça n'existe pas mais on s'est compris !\n",
    "\n",
    "### 2.1. Calculs de base avec Numpy"
   ]
  },
  {
   "cell_type": "code",
   "execution_count": 1,
   "metadata": {},
   "outputs": [
    {
     "name": "stdout",
     "output_type": "stream",
     "text": [
      "notre matrice :\n",
      "[[1 2]\n",
      " [3 4]\n",
      " [5 6]]\n",
      "\n",
      "Ses dimension (m lignes x n colonnes) sont donc :\n",
      "(3, 2)\n"
     ]
    }
   ],
   "source": [
    "# On va utiliser les matrices et notamment grâce à la librairie Numpy :\n",
    "import numpy as np\n",
    "\n",
    "# Petits exemples :\n",
    "A = np.array([[1, 2], [3, 4], [5, 6]])\n",
    "print('notre matrice :')\n",
    "print(A)\n",
    "print('\\nSes dimension (m lignes x n colonnes) sont donc :')\n",
    "print(A.shape)"
   ]
  },
  {
   "cell_type": "code",
   "execution_count": 2,
   "metadata": {},
   "outputs": [
    {
     "data": {
      "text/plain": [
       "array([[1, 3, 5],\n",
       "       [2, 4, 6]])"
      ]
     },
     "execution_count": 2,
     "metadata": {},
     "output_type": "execute_result"
    }
   ],
   "source": [
    "# On va aussi devoir utiliser la transposé :\n",
    "A.T"
   ]
  },
  {
   "cell_type": "code",
   "execution_count": 3,
   "metadata": {},
   "outputs": [
    {
     "data": {
      "text/plain": [
       "(array([[2., 3.],\n",
       "        [4., 5.],\n",
       "        [6., 7.]]),\n",
       " array([[0., 1.],\n",
       "        [2., 3.],\n",
       "        [4., 5.]]),\n",
       " array([[ 5, 11, 17],\n",
       "        [11, 25, 39],\n",
       "        [17, 39, 61]]))"
      ]
     },
     "execution_count": 3,
     "metadata": {},
     "output_type": "execute_result"
    }
   ],
   "source": [
    "# On peut aisément créer une matrice de 0 avec 'zeros' ou encore de 1 avec 'ones' :\n",
    "B = np.ones((3, 2))\n",
    "\n",
    "# Et enfin additionner, soustraire ou faire le produit matriciel les matrices entre elles:\n",
    "A + B, A - B, A.dot(A.T)"
   ]
  },
  {
   "cell_type": "markdown",
   "metadata": {},
   "source": [
    "### 2.2. Expression matricielle du modèle\n",
    "On avait pour chaque prédiction : $$ f(x^{(i)}) = a * x^{(i)} + b $$  \n",
    "On va trasformer `f` en vecteur `F` contenant toutes nos predictions : \n",
    "$$ \n",
    "F = X . \\theta \n",
    "\\\\ \\mbox{avec : } \\theta = \\left[ \\begin{array}{c} a \\\\ b \\end{array} \\right]\n",
    "\\\\ \\mbox{et X contenant } \\left[ \\begin{array}{c c c} x^{(1)} \\mbox{ } 1 \\\\ x^{(2)} \\mbox{ } 1 \\\\ ... \\mbox{ } ... \\\\ x^{(m)} \\mbox{ } 1 \\end{array} \\right]\n",
    "$$ \n",
    "\n",
    "Étudions les dimensions, nous aurons `X = m * (n + 1)` et `theta = (n + 1) * 1` avec n = 1 (+1 représentant l'ajout du biais), et il en résultera `F = m * 1`.\n",
    "\n",
    "\n",
    "### 2.3. Expression matricielle de la fonction coût\n",
    "\n",
    "Pour rappel, nous avions :\n",
    "$$\n",
    "\\frac{J(a, b)}{1*1} = \\frac{1}{2m} \\sum_{i=1}^{m} (ax^{(i)} + b - y^{(i)})²\n",
    "$$\n",
    "`ax^(i) + b` deviendra `XTheta` (dim m*1), y deviendra `Y` (dim m*1). `XTheta + Y` sera donc de dimension m * 1 et tous ses éléments seront mis au carré.  \n",
    "Enfin, on va additionner tous les éléments, nous donnant donc un seul nombre (un scalaire) que l'on multipliera par `1/2m` et donc nous aurons toujours qu'un seul nombre.  \n",
    "On aura donc l'expression matricielle de la fonction coût qui sera :\n",
    "$$\n",
    "{J(\\theta)} = \\frac{1}{2m} \\sum (X\\theta - Y)²\n",
    "$$\n",
    "\n",
    "\n",
    "### 2.4. Expression matricielle de la fonction coût\n",
    "Nous avions tout à l'heure :\n",
    "- $$\n",
    "\\frac{\\delta J}{\\delta a}   = \\frac{1}{m} * \\Sigma x * (ax + b - y)\n",
    "$$\n",
    "- $$\n",
    "\\frac{\\delta J}{\\delta b}   = \\frac{1}{m} * \\Sigma 1 * (ax + b - y)\n",
    "$$\n",
    "\n",
    "Afin de simplifier, nous allons les regrouper dans une matrice selon theta :\n",
    "$$\n",
    "\\frac{\\delta J(\\theta)}{\\delta \\theta}   = \\frac{1}{m} * X^T (X\\theta - Y)\n",
    "$$\n",
    "\n",
    "`X * theta - Y` vient de notre expression `ax + b - y` et la transposée de X vient du fait que pour `a` on a multiplié par tous les `xi` et pour `b`, nous multiplions que par `1`. Pour rapelle, X est composé d'une colonne avec les `xi` et d'une colonne de `1`. Donc, afin de pouvoir effectuer le produit matriciel avec `X * theta - Y`, on va prendre la transposée de X.\n",
    "\n",
    "\n",
    "### 2.5. Expression matricielle de la descente de gradiant\n",
    "Il ne reste plus qu'à tout remplacer et nous avons donc :\n",
    "$$\n",
    "\\theta_{n+1} = \\theta_n - \\alpha \\frac{\\delta J(\\theta_n)}{\\delta \\theta_n}\n",
    "$$"
   ]
  },
  {
   "cell_type": "markdown",
   "metadata": {},
   "source": [
    "---\n",
    "## 3. Python\n",
    "C'est parti pour la partie programmation !"
   ]
  },
  {
   "cell_type": "code",
   "execution_count": 4,
   "metadata": {},
   "outputs": [],
   "source": [
    "# réimportons, soyons fou, ça ne coute rien !\n",
    "import numpy as np\n",
    "# Pour nos graphs\n",
    "import matplotlib.pyplot as plt\n",
    "# pour se simplifier la vie, on va utiliser scikit pour générer un set de données\n",
    "from sklearn.datasets import make_regression"
   ]
  },
  {
   "cell_type": "markdown",
   "metadata": {},
   "source": [
    "### 3.1. Dataset"
   ]
  },
  {
   "cell_type": "code",
   "execution_count": 5,
   "metadata": {},
   "outputs": [
    {
     "data": {
      "text/plain": [
       "<matplotlib.collections.PathCollection at 0x24b893bdb20>"
      ]
     },
     "execution_count": 5,
     "metadata": {},
     "output_type": "execute_result"
    },
    {
     "data": {
      "image/png": "[encoded data removed]",
      "text/plain": [
       "<Figure size 432x288 with 1 Axes>"
      ]
     },
     "metadata": {
      "needs_background": "light"
     },
     "output_type": "display_data"
    }
   ],
   "source": [
    "x, y = make_regression(n_samples=100, n_features=1, noise=5)\n",
    "plt.scatter(x, y)"
   ]
  },
  {
   "cell_type": "code",
   "execution_count": 6,
   "metadata": {},
   "outputs": [
    {
     "name": "stdout",
     "output_type": "stream",
     "text": [
      "(100, 1)\n",
      "(100,)\n",
      "(100, 1)\n"
     ]
    }
   ],
   "source": [
    "print(x.shape)\n",
    "print(y.shape)  # outch, y n'est pas à la bonne dimension...\n",
    "\n",
    "y = y.reshape(y.shape[0], 1)\n",
    "print(y.shape)  # mieux !"
   ]
  },
  {
   "cell_type": "code",
   "execution_count": 7,
   "metadata": {},
   "outputs": [],
   "source": [
    "# Initialisons X\n",
    "# hstack permet de combiner deux matrices, ici on veut que X soit composé d'une colonne x et une colonne de 1\n",
    "X = np.hstack((x, np.ones(x.shape)))"
   ]
  },
  {
   "cell_type": "code",
   "execution_count": 8,
   "metadata": {},
   "outputs": [
    {
     "data": {
      "text/plain": [
       "((2, 1),\n",
       " array([[-0.32041649],\n",
       "        [ 1.43231427]]))"
      ]
     },
     "execution_count": 8,
     "metadata": {},
     "output_type": "execute_result"
    }
   ],
   "source": [
    "# Initialisons Theta\n",
    "# sachant que l'on ne connait pas les valeurs de theta (c'est à la machine de les trouver),\n",
    "# on va l'initialiser de manière rondom\n",
    "theta = np.random.randn((y.shape[1] + 1), 1)\n",
    "theta.shape, theta"
   ]
  },
  {
   "cell_type": "markdown",
   "metadata": {},
   "source": [
    "### 3.2. Modèle"
   ]
  },
  {
   "cell_type": "code",
   "execution_count": 9,
   "metadata": {},
   "outputs": [
    {
     "data": {
      "image/png": "[encoded data removed]",
      "text/plain": [
       "<Figure size 432x288 with 1 Axes>"
      ]
     },
     "metadata": {
      "needs_background": "light"
     },
     "output_type": "display_data"
    }
   ],
   "source": [
    "def model(X, theta):\n",
    "    return X.dot(theta)\n",
    "\n",
    "def plot(x, y, prediction):\n",
    "    plt.scatter(x, y)\n",
    "    plt.plot(x, prediction, c='r')\n",
    "    \n",
    "plot(x, y, model(X, theta))"
   ]
  },
  {
   "cell_type": "markdown",
   "metadata": {},
   "source": [
    "### 3.3. Cost Function"
   ]
  },
  {
   "cell_type": "code",
   "execution_count": 10,
   "metadata": {},
   "outputs": [
    {
     "data": {
      "text/plain": [
       "17.741251464362705"
      ]
     },
     "execution_count": 10,
     "metadata": {},
     "output_type": "execute_result"
    }
   ],
   "source": [
    "def cost_function(X, y, theta):\n",
    "    m = len(y)\n",
    "    return 1/(2*m) * np.sum((model(X, theta) - y)**2)\n",
    "\n",
    "cost_function(X, y, theta)  # Pour tester en speed... aie, très gros coût, mais on s'en doutait !"
   ]
  },
  {
   "cell_type": "markdown",
   "metadata": {},
   "source": [
    "### 3.4. Gradients et descente"
   ]
  },
  {
   "cell_type": "code",
   "execution_count": 11,
   "metadata": {},
   "outputs": [],
   "source": [
    "def gradient(X, y, theta):\n",
    "    m = len(y)\n",
    "    return 1/m * X.T.dot(model(X, theta) - y)"
   ]
  },
  {
   "cell_type": "code",
   "execution_count": 12,
   "metadata": {},
   "outputs": [],
   "source": [
    "def gradient_descent(x, y, theta, learning_rate, iterations):\n",
    "    for i in range(0, iterations):\n",
    "        theta = theta - learning_rate * gradient(X, y, theta)\n",
    "        \n",
    "    return theta"
   ]
  },
  {
   "cell_type": "markdown",
   "metadata": {},
   "source": [
    "### 3.5. Machine learning"
   ]
  },
  {
   "cell_type": "code",
   "execution_count": 13,
   "metadata": {},
   "outputs": [
    {
     "data": {
      "text/plain": [
       "array([[3.11817579],\n",
       "       [0.46794399]])"
      ]
     },
     "execution_count": 13,
     "metadata": {},
     "output_type": "execute_result"
    }
   ],
   "source": [
    "res_theta = gradient_descent(X, y, theta, learning_rate=10e-3, iterations=1000)\n",
    "res_theta"
   ]
  },
  {
   "cell_type": "code",
   "execution_count": 14,
   "metadata": {},
   "outputs": [
    {
     "data": {
      "image/png": "[encoded data removed]",
      "text/plain": [
       "<Figure size 432x288 with 1 Axes>"
      ]
     },
     "metadata": {
      "needs_background": "light"
     },
     "output_type": "display_data"
    }
   ],
   "source": [
    "predictions = model(X, res_theta)\n",
    "plot(x, y, predictions)"
   ]
  },
  {
   "cell_type": "markdown",
   "metadata": {},
   "source": [
    "### 3.6. Allons un peu plus loin\n",
    "\n",
    "Pour voir l'évolution de la fonction coût, on va update gradient_descent():"
   ]
  },
  {
   "cell_type": "code",
   "execution_count": 15,
   "metadata": {},
   "outputs": [],
   "source": [
    "def gradient_descent(X, y, theta, learning_rate, iterations):\n",
    "    cost_history = np.zeros(iterations)\n",
    "    \n",
    "    for i in range(0, iterations):\n",
    "        theta = theta - learning_rate * gradient(X, y, theta)\n",
    "        cost_history[i] = cost_function(X, y, theta)\n",
    "        \n",
    "    return theta, cost_history"
   ]
  },
  {
   "cell_type": "code",
   "execution_count": 16,
   "metadata": {},
   "outputs": [
    {
     "data": {
      "text/plain": [
       "[<matplotlib.lines.Line2D at 0x24b8a7190a0>]"
      ]
     },
     "execution_count": 16,
     "metadata": {},
     "output_type": "execute_result"
    },
    {
     "data": {
      "image/png": "[encoded data removed]",
      "text/plain": [
       "<Figure size 432x288 with 1 Axes>"
      ]
     },
     "metadata": {
      "needs_background": "light"
     },
     "output_type": "display_data"
    }
   ],
   "source": [
    "res_theta, cost_history = gradient_descent(X, y, theta, learning_rate=10e-3, iterations=1000)\n",
    "plt.plot(range(1000), cost_history)"
   ]
  },
  {
   "cell_type": "markdown",
   "metadata": {},
   "source": [
    "On voit ici que très vite, le modèle à trouver la solution et que l'on aurait pu économiser de la ressource.\n",
    "\n",
    "### 3.7. Coeficient de détermination\n",
    "\n",
    "Pour montrer si le modèle est bon (ou non), on va calculer le coef de détermination R²:\n",
    "$$\n",
    "R² = 1 - \\frac{\\sum(y - f(x))²}{\\sum(y - \\overline{y})²}\n",
    "$$\n",
    "\n",
    "Plus c'est proche de 1, plus le modèle est fiable. \n",
    "\n",
    "Testons !"
   ]
  },
  {
   "cell_type": "code",
   "execution_count": 17,
   "metadata": {},
   "outputs": [
    {
     "data": {
      "text/plain": [
       "0.3602750155803165"
      ]
     },
     "execution_count": 17,
     "metadata": {},
     "output_type": "execute_result"
    }
   ],
   "source": [
    "def determination_coeficient(y, pred):\n",
    "    u = ((y - pred)**2).sum()\n",
    "    v = ((y - y.mean())**2).sum()\n",
    "    \n",
    "    return 1 - u/v\n",
    "\n",
    "determination_coeficient(y, predictions)"
   ]
  },
  {
   "cell_type": "markdown",
   "metadata": {},
   "source": [
    "Barvo, 0.997 c'est un très bon score !\n",
    "\n",
    "---\n",
    "## 4. Modèle Polynomial & Régression linéaire multiple\n",
    "### 4.1. Modèle Polynomial\n",
    "La régression linéaire est très sympa mais..... elle est linéaire. Nous avons souvent des problèmes complexes non linéaire dans le monde. Pour le modéliser, on peut se servier de modèles linéaires multiples et donc garder nos fonctions précédentes !"
   ]
  },
  {
   "cell_type": "code",
   "execution_count": 18,
   "metadata": {},
   "outputs": [
    {
     "data": {
      "text/plain": [
       "<matplotlib.collections.PathCollection at 0x24b8a76e7f0>"
      ]
     },
     "execution_count": 18,
     "metadata": {},
     "output_type": "execute_result"
    },
    {
     "data": {
      "image/png": "[encoded data removed]",
      "text/plain": [
       "<Figure size 432x288 with 1 Axes>"
      ]
     },
     "metadata": {
      "needs_background": "light"
     },
     "output_type": "display_data"
    }
   ],
   "source": [
    "x, y = make_regression(n_samples=100, n_features=1, noise=5)\n",
    "y = y.reshape(y.shape[0], 1)\n",
    "\n",
    "y = y * y/2  # on délinéarise un peu\n",
    "\n",
    "plt.scatter(x, y)"
   ]
  },
  {
   "cell_type": "code",
   "execution_count": 19,
   "metadata": {},
   "outputs": [
    {
     "name": "stdout",
     "output_type": "stream",
     "text": [
      "(100, 3)\n"
     ]
    },
    {
     "data": {
      "text/plain": [
       "array([[ 0.10463699],\n",
       "       [ 1.90029438],\n",
       "       [-0.64115712]])"
      ]
     },
     "execution_count": 19,
     "metadata": {},
     "output_type": "execute_result"
    }
   ],
   "source": [
    "X = np.hstack((x, np.ones(x.shape)))\n",
    "X = np.hstack((x**2, X))\n",
    "print(X.shape)\n",
    "\n",
    "theta = np.random.randn(X.shape[1], 1)\n",
    "theta"
   ]
  },
  {
   "cell_type": "code",
   "execution_count": 20,
   "metadata": {},
   "outputs": [
    {
     "name": "stdout",
     "output_type": "stream",
     "text": [
      "(100, 3)\n",
      "(100, 1)\n",
      "(3, 1)\n",
      "[[3630.95242118]\n",
      " [ -86.85508427]\n",
      " [  34.58897801]]\n"
     ]
    },
    {
     "data": {
      "text/plain": [
       "<matplotlib.collections.PathCollection at 0x24b8a7c5e50>"
      ]
     },
     "execution_count": 20,
     "metadata": {},
     "output_type": "execute_result"
    },
    {
     "data": {
      "image/png": "[encoded data removed]",
      "text/plain": [
       "<Figure size 432x288 with 1 Axes>"
      ]
     },
     "metadata": {
      "needs_background": "light"
     },
     "output_type": "display_data"
    }
   ],
   "source": [
    "res_theta, cost_history = gradient_descent(X, y, theta, learning_rate=10e-3, iterations=1000)\n",
    "\n",
    "print(res_theta)\n",
    "\n",
    "predictions = model(X, res_theta)\n",
    "\n",
    "plt.scatter(x, y)\n",
    "plt.scatter(x, predictions, c='r')"
   ]
  },
  {
   "cell_type": "code",
   "execution_count": 21,
   "metadata": {},
   "outputs": [
    {
     "name": "stdout",
     "output_type": "stream",
     "text": [
      "0.9953774749966572\n"
     ]
    },
    {
     "data": {
      "text/plain": [
       "[<matplotlib.lines.Line2D at 0x24b8a8244f0>]"
      ]
     },
     "execution_count": 21,
     "metadata": {},
     "output_type": "execute_result"
    },
    {
     "data": {
      "image/png": "[encoded data removed]",
      "text/plain": [
       "<Figure size 432x288 with 1 Axes>"
      ]
     },
     "metadata": {
      "needs_background": "light"
     },
     "output_type": "display_data"
    }
   ],
   "source": [
    "print(determination_coeficient(y, predictions))\n",
    "plt.plot(range(1000), cost_history)"
   ]
  },
  {
   "cell_type": "markdown",
   "metadata": {},
   "source": [
    "### 4.2. Régression linéaire multiple\n",
    "On va refaire un modèle mais cette fois avec plusieurs x (ici, 2) :"
   ]
  },
  {
   "cell_type": "code",
   "execution_count": 22,
   "metadata": {},
   "outputs": [
    {
     "data": {
      "text/plain": [
       "<matplotlib.collections.PathCollection at 0x24b8a880130>"
      ]
     },
     "execution_count": 22,
     "metadata": {},
     "output_type": "execute_result"
    },
    {
     "data": {
      "image/png": "[encoded data removed]",
      "text/plain": [
       "<Figure size 432x288 with 1 Axes>"
      ]
     },
     "metadata": {
      "needs_background": "light"
     },
     "output_type": "display_data"
    }
   ],
   "source": [
    "x, y = make_regression(n_samples=100, n_features=2, noise=5)\n",
    "y = y.reshape(y.shape[0], 1)\n",
    "\n",
    "plt.scatter(x[:,0], y)"
   ]
  },
  {
   "cell_type": "code",
   "execution_count": 23,
   "metadata": {},
   "outputs": [
    {
     "name": "stdout",
     "output_type": "stream",
     "text": [
      "(100, 3)\n"
     ]
    },
    {
     "data": {
      "text/plain": [
       "array([[ 1.54123537],\n",
       "       [-0.51206163],\n",
       "       [-0.29051022]])"
      ]
     },
     "execution_count": 23,
     "metadata": {},
     "output_type": "execute_result"
    }
   ],
   "source": [
    "X = np.hstack((x, np.ones((x.shape[0], 1))))\n",
    "print(X.shape)\n",
    "\n",
    "theta = np.random.randn(X.shape[1], 1)\n",
    "theta"
   ]
  },
  {
   "cell_type": "code",
   "execution_count": 24,
   "metadata": {},
   "outputs": [
    {
     "name": "stdout",
     "output_type": "stream",
     "text": [
      "[[22.39202438]\n",
      " [98.7621632 ]\n",
      " [ 0.1345058 ]]\n"
     ]
    },
    {
     "data": {
      "text/plain": [
       "<matplotlib.collections.PathCollection at 0x24b8a8d9790>"
      ]
     },
     "execution_count": 24,
     "metadata": {},
     "output_type": "execute_result"
    },
    {
     "data": {
      "image/png": "[encoded data removed]",
      "text/plain": [
       "<Figure size 432x288 with 1 Axes>"
      ]
     },
     "metadata": {
      "needs_background": "light"
     },
     "output_type": "display_data"
    }
   ],
   "source": [
    "res_theta, cost_history = gradient_descent(X, y, theta, learning_rate=10e-3, iterations=1000)\n",
    "\n",
    "print(res_theta)\n",
    "\n",
    "predictions = model(X, res_theta)\n",
    "\n",
    "# ATTENTION, ici on a plusieurs variables donc l'affichage 2D sera assez étrange à regarder.\n",
    "# En effet, le résultat ne sera pas une ligne mais une surface !\n",
    "plt.scatter(x[:,1], y)\n",
    "plt.scatter(x[:,1], predictions, c='r')"
   ]
  },
  {
   "cell_type": "code",
   "execution_count": 25,
   "metadata": {},
   "outputs": [
    {
     "data": {
      "text/plain": [
       "<mpl_toolkits.mplot3d.art3d.Path3DCollection at 0x24b8a9522b0>"
      ]
     },
     "execution_count": 25,
     "metadata": {},
     "output_type": "execute_result"
    },
    {
     "data": {
      "image/png": "[encoded data removed]",
      "text/plain": [
       "<Figure size 432x288 with 1 Axes>"
      ]
     },
     "metadata": {
      "needs_background": "light"
     },
     "output_type": "display_data"
    }
   ],
   "source": [
    "# Testons donc en 3D :\n",
    "from mpl_toolkits.mplot3d import Axes3D\n",
    "%matplotlib notebook\n",
    "\n",
    "# Si la commande ci-dessous ne fonctionne pas, installez ceci :\n",
    "# pip install ipympl\n",
    "# conda install -c conda-forge nodejs\n",
    "# jupyter labextension install @jupyter-widgets/jupyterlab-manager jupyter-matplotlib\n",
    "#\n",
    "# ou utilisez inline avec ça : %matplotlib inline\n",
    "# %matplotlib widget\n",
    "%matplotlib inline\n",
    "\n",
    "\n",
    "fig = plt.figure()\n",
    "ax = fig.add_subplot(111, projection='3d')\n",
    "\n",
    "ax.scatter(x[:, 0], x[:, 1], y)\n",
    "ax.scatter(x[:, 0], x[:, 1], predictions)"
   ]
  },
  {
   "cell_type": "code",
   "execution_count": 26,
   "metadata": {},
   "outputs": [
    {
     "name": "stdout",
     "output_type": "stream",
     "text": [
      "0.9981889754699558\n"
     ]
    },
    {
     "data": {
      "text/plain": [
       "[<matplotlib.lines.Line2D at 0x24b8a9bfeb0>]"
      ]
     },
     "execution_count": 26,
     "metadata": {},
     "output_type": "execute_result"
    },
    {
     "data": {
      "image/png": "[encoded data removed]",
      "text/plain": [
       "<Figure size 432x288 with 1 Axes>"
      ]
     },
     "metadata": {
      "needs_background": "light"
     },
     "output_type": "display_data"
    }
   ],
   "source": [
    "print(determination_coeficient(y, predictions))\n",
    "plt.plot(range(1000), cost_history)"
   ]
  },
  {
   "cell_type": "markdown",
   "metadata": {},
   "source": [
    "---"
   ]
  },
  {
   "cell_type": "markdown",
   "metadata": {},
   "source": [
    "Thibault **Santonja**  \n",
    "2021"
   ]
  }
 ],
 "metadata": {
  "kernelspec": {
   "display_name": "Python 3",
   "language": "python",
   "name": "python3"
  },
  "language_info": {
   "codemirror_mode": {
    "name": "ipython",
    "version": 3
   },
   "file_extension": ".py",
   "mimetype": "text/x-python",
   "name": "python",
   "nbconvert_exporter": "python",
   "pygments_lexer": "ipython3",
   "version": "3.8.5"
  }
 },
 "nbformat": 4,
 "nbformat_minor": 4
}
