{
 "cells": [
  {
   "cell_type": "markdown",
   "metadata": {},
   "source": [
    "Généralités et éléments de Python avancés\n",
    "===\n",
    "\n",
    "Si vous êtes ici, c'est que vous maitrisez déjà la programmation Python, mais qu'il vous en faut plus ! \n",
    "\n",
    "**Sommaire**\n",
    "- [1. Variables spéciales](#chap1PyAdv)\n",
    "- [3. Decorateur](#chap3PyAdv)\n",
    "- [4. Yield](#chap4PyAdv)"
   ]
  },
  {
   "cell_type": "markdown",
   "metadata": {},
   "source": [
    "[Back to top](#top)\n",
    "\n",
    "---\n",
    "\n",
    "## 1. Variables spéciales <a id=\"chap1PyAdv\"></a>\n",
    "Il existe en Python des variables spéciales qui commencent et finissent par deux `_`. On peut les trouver quand on réalise :\n",
    "```python\n",
    "if __name__ == '__main__':\n",
    "    do_something()\n",
    "```\n",
    "\n",
    "Ce sont des variables que Python auto gère et qui peuvent s'avérer utiles (notamment quand on veut savoir si on est dans le main file ou non, ou si l'on veut récupérer la doc d'une fonction !)"
   ]
  },
  {
   "cell_type": "code",
   "execution_count": 1,
   "metadata": {},
   "outputs": [
    {
     "name": "stdout",
     "output_type": "stream",
     "text": [
      "random_function does nothing\n",
      "    args:\n",
      "    returns bool\n",
      "    \n"
     ]
    }
   ],
   "source": [
    "def random_function():\n",
    "    \"\"\"random_function does nothing\n",
    "    args:\n",
    "    returns bool\n",
    "    \"\"\"\n",
    "    return True\n",
    "print(random_function.__doc__)"
   ]
  },
  {
   "cell_type": "code",
   "execution_count": null,
   "metadata": {},
   "outputs": [],
   "source": []
  },
  {
   "cell_type": "markdown",
   "metadata": {},
   "source": [
    "[Back to top](#top)\n",
    "\n",
    "---\n",
    "\n",
    "## 3. Décorateurs <a id=\"chap3PyAdv\"></a>"
   ]
  },
  {
   "cell_type": "code",
   "execution_count": 2,
   "metadata": {},
   "outputs": [
    {
     "name": "stdout",
     "output_type": "stream",
     "text": [
      "[TRACE] func: add_two, args: (3,), kwargs: {}\n",
      "[TRACE] func: <lambda>, args: (9,), kwargs: {}\n",
      "In main :  81\n"
     ]
    }
   ],
   "source": [
    "# Defining a decorator\n",
    "def trace(f):\n",
    "    def wrap(*args, **kwargs):\n",
    "        print(f\"[TRACE] func: {f.__name__}, args: {args}, kwargs: {kwargs}\")\n",
    "        return f(*args, **kwargs)\n",
    "\n",
    "    return wrap\n",
    "\n",
    "# Applying decorator to a function\n",
    "@trace\n",
    "def add_two(x):\n",
    "    return x + 2\n",
    "\n",
    "# Calling the decorated function\n",
    "add_two(3)\n",
    "\n",
    "# Applying decorator to a lambda\n",
    "print('In main : ', (trace(lambda x: x ** 2))(9))"
   ]
  },
  {
   "cell_type": "markdown",
   "metadata": {},
   "source": [
    "[Back to top](#top)\n",
    "\n",
    "---\n",
    "\n",
    "## 4. Yield <a id=\"chap4PyAdv\"></a>"
   ]
  },
  {
   "cell_type": "code",
   "execution_count": 3,
   "metadata": {},
   "outputs": [
    {
     "name": "stdout",
     "output_type": "stream",
     "text": [
      "0\n",
      "1\n",
      "2\n",
      "3\n"
     ]
    }
   ],
   "source": [
    "import time # Represent Infinite Stream\n",
    "\n",
    "def coucou(maxx):\n",
    "    i = 0\n",
    "    while True: # on peut juste mettre while True\n",
    "        yield i\n",
    "        i += 1\n",
    "        if i > maxx:\n",
    "            raise StopIteration(maxx)\n",
    "\n",
    "try:\n",
    "    for j in coucou(3):\n",
    "        time.sleep(.3)\n",
    "        print(j)\n",
    "except:\n",
    "    pass"
   ]
  },
  {
   "cell_type": "code",
   "execution_count": 4,
   "metadata": {},
   "outputs": [
    {
     "name": "stdout",
     "output_type": "stream",
     "text": [
      "4895\n"
     ]
    }
   ],
   "source": [
    "# Pipelining Generators\n",
    "def fibonacci_numbers(nums):\n",
    "    x, y = 0, 1\n",
    "    for _ in range(nums):\n",
    "        x, y = y, x+y\n",
    "        yield x\n",
    "\n",
    "def square(nums):\n",
    "    for num in nums:\n",
    "        yield num**2\n",
    "\n",
    "print(sum(square(fibonacci_numbers(10))))"
   ]
  },
  {
   "cell_type": "code",
   "execution_count": 5,
   "metadata": {},
   "outputs": [
    {
     "name": "stdout",
     "output_type": "stream",
     "text": [
      "[1, 2, 4, 8, 16, 32, 64, 128]\n"
     ]
    },
    {
     "data": {
      "text/plain": [
       "(None, [(1, 1, 'A'), (2, 2, 'B'), (3, 4, 'C'), (4, 8, 'D'), (5, 16, 'E')])"
      ]
     },
     "execution_count": 5,
     "metadata": {},
     "output_type": "execute_result"
    }
   ],
   "source": [
    "def PowTwoGen(max=0):\n",
    "    n = 0\n",
    "    while n < max:\n",
    "        yield 2 ** n\n",
    "        n += 1\n",
    "        \n",
    "print([n for n in PowTwoGen(8)]), list(zip(range(1, 9), PowTwoGen(8), 'ABCDE'))"
   ]
  },
  {
   "cell_type": "code",
   "execution_count": null,
   "metadata": {},
   "outputs": [],
   "source": []
  },
  {
   "cell_type": "code",
   "execution_count": null,
   "metadata": {},
   "outputs": [],
   "source": []
  },
  {
   "cell_type": "code",
   "execution_count": null,
   "metadata": {},
   "outputs": [],
   "source": []
  },
  {
   "cell_type": "code",
   "execution_count": null,
   "metadata": {},
   "outputs": [],
   "source": []
  },
  {
   "cell_type": "code",
   "execution_count": null,
   "metadata": {},
   "outputs": [],
   "source": []
  },
  {
   "cell_type": "markdown",
   "metadata": {},
   "source": [
    "---"
   ]
  },
  {
   "cell_type": "markdown",
   "metadata": {},
   "source": [
    "Thibault **Santonja**  \n",
    "2021"
   ]
  }
 ],
 "metadata": {
  "kernelspec": {
   "display_name": "Python 3",
   "language": "python",
   "name": "python3"
  },
  "language_info": {
   "codemirror_mode": {
    "name": "ipython",
    "version": 3
   },
   "file_extension": ".py",
   "mimetype": "text/x-python",
   "name": "python",
   "nbconvert_exporter": "python",
   "pygments_lexer": "ipython3",
   "version": "3.8.5"
  }
 },
 "nbformat": 4,
 "nbformat_minor": 4
}
