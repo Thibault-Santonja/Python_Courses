{
 "cells": [
  {
   "cell_type": "markdown",
   "id": "7a26059e-f6a0-4aaf-a0d1-6415d6b220bd",
   "metadata": {},
   "source": [
    "dataset : https://www.kaggle.com/sudalairajkumar/novel-corona-virus-2019-dataset"
   ]
  },
  {
   "cell_type": "code",
   "execution_count": null,
   "id": "e9ce1e98-8fc2-40cd-a7f8-ebf8bd95eb9d",
   "metadata": {},
   "outputs": [],
   "source": [
    "from tools import find_file"
   ]
  },
  {
   "cell_type": "code",
   "execution_count": null,
   "id": "b6c46578-cad5-48c0-a0da-781a03f8420a",
   "metadata": {},
   "outputs": [],
   "source": [
    "import pandas as pd\n",
    "import numpy as np\n",
    "import matplotlib.pyplot as plt"
   ]
  },
  {
   "cell_type": "code",
   "execution_count": null,
   "id": "5128797e-ef26-4fc4-9926-1a17c5e56f40",
   "metadata": {},
   "outputs": [],
   "source": [
    "df_conf = pd.read_csv(find_file(\"time_series_covid_19_confirmed.csv\"))\n",
    "df_death = pd.read_csv(find_file(\"time_series_covid_19_deaths.csv\"))\n",
    "df_recovered = pd.read_csv(find_file(\"time_series_covid_19_recovered.csv\"))"
   ]
  },
  {
   "cell_type": "code",
   "execution_count": null,
   "id": "915d6fc6-2f67-43da-81c0-c6d05800e0e0",
   "metadata": {},
   "outputs": [],
   "source": [
    "df_conf = df_conf.sort_values(\n",
    "    by=['Province/State','Country/Region'])\n",
    "df_conf = df_conf.reset_index(drop=True)\n",
    "\n",
    "df_death = df_death.sort_values(\n",
    "    by=['Province/State','Country/Region'])\n",
    "df_death = df_death.reset_index(drop=True)\n",
    "\n",
    "df_recovered = df_recovered.sort_values(\n",
    "    by=['Province/State','Country/Region'])\n",
    "df_recovered = df_recovered.reset_index(drop=True)"
   ]
  },
  {
   "cell_type": "code",
   "execution_count": null,
   "id": "5a3106cb-9f25-4e5a-aae8-6f6bac383821",
   "metadata": {},
   "outputs": [],
   "source": [
    "df_conf_melted = df_conf.melt(id_vars=['Province/State', \n",
    "                              'Country/Region', 'Lat', 'Long'], \n",
    "                              value_vars=dates_conf, \n",
    "                              var_name='Date',\n",
    "                              value_name='Confirmed')\n",
    "\n",
    "df_death_melted = df_death.melt(id_vars=['Province/State', \n",
    "                                'Country/Region', 'Lat', 'Long'],                                \n",
    "                                value_vars=dates_death,\n",
    "                                var_name='Date', \n",
    "                                value_name='Deaths')\n",
    "\n",
    "df_combined = pd.concat([df_conf_melted, \n",
    "                         df_death_melted[\"Deaths\"]], \n",
    "                         axis = 1, \n",
    "                         sort = False)\n",
    "\n",
    "\n",
    "df_daily = df_combined.groupby([\"Date\",\"Country/Region\"]).aggregate(\n",
    "    {'Confirmed': 'sum', 'Deaths': 'sum'})"
   ]
  },
  {
   "cell_type": "code",
   "execution_count": null,
   "id": "e53968cb-9bb6-4f45-bd2f-649187078ad5",
   "metadata": {},
   "outputs": [],
   "source": [
    "\n",
    "plt.style.use('ggplot')\n",
    "plt.rcParams[\"figure.figsize\"] = (12,7)\n",
    "\n",
    "for country, df_country in df_daily.groupby(level=1):    \n",
    "    dates = list(df_country.index.get_level_values('Date'))\n",
    "    confirmed = list(df_country.Confirmed)\n",
    "    deaths = list(df_country.Deaths)\n",
    "    \n",
    "    plt.bar(dates, confirmed, color='lightblue', \n",
    "        label=\"Nombre total de cas confirmés\")\n",
    "    plt.bar(dates, deaths, color='red',\n",
    "        label=\"Nombre total de décès signalés\")\n",
    "    plt.xlabel(\"Dates\")\n",
    "    plt.ylabel(\"Nombre de personnes\")\n",
    "    plt.title(country)\n",
    "    plt.legend()\n",
    "    plt.show()"
   ]
  },
  {
   "cell_type": "code",
   "execution_count": null,
   "id": "2fa2e963-e964-4377-a85f-735d710da793",
   "metadata": {},
   "outputs": [],
   "source": [
    "def plot_pie(df, column, title):\n",
    "    labels = list(df.index)\n",
    "    sizes = list(df[column])\n",
    "    explode = [0 for n in range(10)]\n",
    "    \n",
    "    with plt.style.context(\n",
    "        { \"axes.prop_cycle\" : plt.cycler(\"color\", \n",
    "        plt.cm.tab20c.colors)}):\n",
    "        fig1, ax1 = plt.subplots()\n",
    "        ax1.pie(sizes, \n",
    "                explode=explode, \n",
    "                labels=labels, \n",
    "                autopct='%1.2f%%', \n",
    "                shadow=False, \n",
    "                startangle=0)\n",
    "        ax1.axis('equal')  # Un rapport d'aspect égal garantit que le diagramme \n",
    "                           # sera dessiné en cercle.\n",
    "        plt.legend()\n",
    "        plt.title(title)\n",
    "    \n",
    "    centre_circle = plt.Circle((0,0),0.70,fc='white')\n",
    "    fig = plt.gcf()\n",
    "    fig.gca().add_artist(centre_circle)\n",
    "    plt.show()\n",
    "    \n",
    "top10_countries_confirmed = df_most_confirmed_recent_sorted.head(10)\n",
    "plot_pie(top10_countries_confirmed, \n",
    "         \"Confirmed\", \n",
    "         \"Top 10 Pays pour les cas confirmés\")"
   ]
  },
  {
   "cell_type": "code",
   "execution_count": null,
   "id": "b81e78d5-b1ca-49ef-9889-230010d25347",
   "metadata": {},
   "outputs": [],
   "source": [
    "import folium\n",
    "# obtenir la date la plus récente du DataFrame\n",
    "most_recent_date = df_combined['Date'].max()\n",
    "# obtenir toutes les données de cette date la plus récente\n",
    "df_latest_day = df_combined[df_combined.Date==most_recent_date]\n",
    "# créer une carte\n",
    "folium_map = folium.Map(location=[40.738, -73.98], zoom_start=4)\n",
    "color=\"#E37222\"\n",
    "scale = 5000\n",
    "for place in df_latest_day.index:\n",
    "    lat = df_latest_day.loc[place][\"Lat\"]\n",
    "    lng = df_latest_day.loc[place][\"Long\"]    \n",
    "    confirmed = df_latest_day.loc[place][\"Confirmed\"]\n",
    "    deaths    = df_latest_day.loc[place][\"Deaths\"]\n",
    "    # Cas Confirmés\n",
    "    # dessiner un cercle sur la province/état/région/pays\n",
    "    marker_confirmed = folium.CircleMarker(location=[lat, lng],\n",
    "                                 radius=confirmed/scale,\n",
    "                                 color=\"green\",\n",
    "                                 fill=True)\n",
    "    marker_confirmed.add_to(folium_map)\n",
    "    \n",
    "    # Cas Décès\n",
    "    # dessiner un cercle sur la province/état/région/pays\n",
    "    radius = deaths/scale if deaths>0 else 0.000000001\n",
    "    marker_deaths = folium.CircleMarker(location=[lat, lng],\n",
    "                                 radius=radius,\n",
    "                                 color=\"red\",\n",
    "                                 fill=True)\n",
    "    marker_deaths.add_to(folium_map)\n",
    "folium_map.save(\"Covid-19 Map.html\")"
   ]
  },
  {
   "cell_type": "code",
   "execution_count": null,
   "id": "5bc6ed15-04c7-426b-bdef-2ee5e245fd1d",
   "metadata": {},
   "outputs": [],
   "source": []
  }
 ],
 "metadata": {
  "kernelspec": {
   "display_name": "Python 3",
   "language": "python",
   "name": "python3"
  },
  "language_info": {
   "codemirror_mode": {
    "name": "ipython",
    "version": 3
   },
   "file_extension": ".py",
   "mimetype": "text/x-python",
   "name": "python",
   "nbconvert_exporter": "python",
   "pygments_lexer": "ipython3",
   "version": "3.8.8"
  }
 },
 "nbformat": 4,
 "nbformat_minor": 5
}
