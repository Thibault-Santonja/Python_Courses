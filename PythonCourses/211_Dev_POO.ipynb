{
 "cells": [
  {
   "cell_type": "markdown",
   "metadata": {},
   "source": [
    "Programmation Orienté Objet<a id=\"top\"></a>\n",
    "===\n",
    "\n",
    "La POO ou OOP (en anglais) est un paradigme de programmation très répendu aujourd'hui en programmation. En effet, cela permet de pouvoir facilemenet créer des briques logicielles afin de représenter quelque chose. Comprendre ce paradygme est donc aujourd'hui important, et c'est pour céla que je vous conseille de jeter un oeil au moins à la première partie.\n",
    "\n",
    "Pour ce cours, vous n'aurez besoin que de connaitre la base de Python.\n",
    "\n",
    "**Sommaire**\n",
    "- [1. La base de la base (à savoir dans tous les cas)](#chap1POO)\n",
    "- [2. Todo](#chap2POO)\n"
   ]
  },
  {
   "cell_type": "markdown",
   "metadata": {},
   "source": [
    "[Back to top](#top)\n",
    "\n",
    "---\n",
    "\n",
    "## 1. La base de la base (à savoir dans tous les cas)<a id=\"chap1POO\"></a>\n",
    "En gros, notre monde est rempli d'**objets** (prenons la Terre) d'un certain type (aussi nommé **classe**, par exemple, une planète, un satellite...), avec différents **attributs** (sa taille, sa masse, son nom...) et elle effectue différentes actions (rotation sur elle-même, rotation autour du soleil, héberger la vie...), ou plutôt des **méthodes** dans le jargon objet. Ces objets peuvent interagir entre eux (la Terre influe sur la Lune et Lune influe sur la Terre, la Terre attire les différents satellites l'orbitant...).\n",
    "\n",
    "On peut d'ailleurs faire des parallèles intéressant :\n",
    "- Une classe = un type d'objet (une planète)\n",
    "- Un objet = un nom (la Terre)\n",
    "- Un attribut = un adjectif (bleu)\n",
    "- Une action = un verbe (orbiter)\n",
    "\n",
    "exemple :"
   ]
  },
  {
   "cell_type": "code",
   "execution_count": 1,
   "metadata": {},
   "outputs": [
    {
     "name": "stdout",
     "output_type": "stream",
     "text": [
      "Création de Earth\n",
      "Création de Mars\n",
      "\n",
      "\n",
      "Earth\n",
      "Red\n",
      "\n",
      "\n",
      "Terre\n",
      "\n",
      "\n",
      "Hi, I'm Mars !\n",
      "Hi, I'm Terre !\n"
     ]
    }
   ],
   "source": [
    "# Par convention une classe commence par une majuscule\n",
    "class Planet():\n",
    "    # Ceci est un constructeur, il sera appelé quand\n",
    "    # on va créer l'objet\n",
    "    def __init__(self, name, color):\n",
    "        print('Création de ' + name)\n",
    "        self.name = name\n",
    "        self.color = color\n",
    "        \n",
    "    # Par convention, si on veut récupérer un attribut,\n",
    "    # on écrira \"get_...\"\n",
    "    def get_name(self):\n",
    "        return self.name\n",
    "    def get_color(self):\n",
    "        return self.color\n",
    "        \n",
    "    # Par convention, si on veut changer un attribut,\n",
    "    # on écrira \"set_...\"\n",
    "    def set_name(self, name):\n",
    "        self.name = name\n",
    "        \n",
    "    def presentation(self):\n",
    "        print('Hi, I\\'m ' + self.name + ' !')\n",
    "        \n",
    "        \n",
    "        \n",
    "terre = Planet('Earth', 'Blue')\n",
    "mars = Planet('Mars', 'Red')\n",
    "\n",
    "print('\\n')\n",
    "print(terre.get_name())\n",
    "print(mars.get_color())\n",
    "\n",
    "print('\\n')\n",
    "terre.set_name('Terre')\n",
    "print(terre.get_name())\n",
    "\n",
    "\n",
    "print('\\n')\n",
    "mars.presentation()\n",
    "terre.presentation()"
   ]
  },
  {
   "cell_type": "markdown",
   "metadata": {},
   "source": [
    "Pourquoi je vous parle de cela ? Et bien c'est très simple, Python est REMPLI d'objet, presque tout est d'ailleurs objet en Python.\n",
    "\n",
    "Prenon l'exemple de la librairie Numpy. Elle a un objet nommé array permettant de créer des tableaux de n dimension. Dedans, on aura les attributs `shape`, `size`, `T`, ainsi que les méthodes `sort()`, `sum()`...\n",
    "\n",
    "Bien comprendre la logique est donc important."
   ]
  },
  {
   "cell_type": "code",
   "execution_count": 2,
   "metadata": {},
   "outputs": [],
   "source": [
    "import numpy as np"
   ]
  },
  {
   "cell_type": "code",
   "execution_count": 3,
   "metadata": {},
   "outputs": [
    {
     "name": "stdout",
     "output_type": "stream",
     "text": [
      "dimension (shape) :  (3, 2)\n",
      "nombre d'éléments (size) :  6\n"
     ]
    }
   ],
   "source": [
    "my_array = np.array([[1,2], [3,4], [5, 6]])\n",
    "\n",
    "print('dimension (shape) : ', my_array.shape)\n",
    "print('nombre d\\'éléments (size) : ', my_array.size)"
   ]
  },
  {
   "cell_type": "code",
   "execution_count": 4,
   "metadata": {},
   "outputs": [
    {
     "name": "stdout",
     "output_type": "stream",
     "text": [
      "21\n"
     ]
    },
    {
     "data": {
      "text/plain": [
       "array([[1, 2],\n",
       "       [3, 4],\n",
       "       [5, 6]])"
      ]
     },
     "execution_count": 4,
     "metadata": {},
     "output_type": "execute_result"
    }
   ],
   "source": [
    "print(my_array.sum())\n",
    "my_array"
   ]
  },
  {
   "cell_type": "markdown",
   "metadata": {},
   "source": [
    "Maintenant si vous comprenez ça, vous avez la base et globalement ça vous suffira tant que l'on ne vous demande pas de programmer en objet. Sinon... il va falloir continuer un peu... Désolé !"
   ]
  },
  {
   "cell_type": "markdown",
   "metadata": {},
   "source": [
    "[Back to top](#top)\n",
    "\n",
    "---\n",
    "\n",
    "## 2. POO <a id=\"chap2POO\"></a>"
   ]
  },
  {
   "cell_type": "code",
   "execution_count": null,
   "metadata": {},
   "outputs": [],
   "source": []
  },
  {
   "cell_type": "code",
   "execution_count": null,
   "metadata": {},
   "outputs": [],
   "source": []
  },
  {
   "cell_type": "code",
   "execution_count": null,
   "metadata": {},
   "outputs": [],
   "source": []
  },
  {
   "cell_type": "code",
   "execution_count": null,
   "metadata": {},
   "outputs": [],
   "source": []
  },
  {
   "cell_type": "code",
   "execution_count": null,
   "metadata": {},
   "outputs": [],
   "source": []
  },
  {
   "cell_type": "code",
   "execution_count": null,
   "metadata": {},
   "outputs": [],
   "source": []
  },
  {
   "cell_type": "markdown",
   "metadata": {},
   "source": [
    "[Back to top](#top)\n",
    "\n",
    "---"
   ]
  },
  {
   "cell_type": "markdown",
   "metadata": {},
   "source": [
    "Thibault **Santonja**  \n",
    "2021"
   ]
  }
 ],
 "metadata": {
  "kernelspec": {
   "display_name": "Python 3 (ipykernel)",
   "language": "python",
   "name": "python3"
  },
  "language_info": {
   "codemirror_mode": {
    "name": "ipython",
    "version": 3
   },
   "file_extension": ".py",
   "mimetype": "text/x-python",
   "name": "python",
   "nbconvert_exporter": "python",
   "pygments_lexer": "ipython3",
   "version": "3.8.8"
  }
 },
 "nbformat": 4,
 "nbformat_minor": 4
}
