{
 "cells": [
  {
   "cell_type": "markdown",
   "id": "b60d0e3f-a075-47be-92c2-678699ad6eac",
   "metadata": {},
   "source": [
    "Les k plus proches voisins (k Nearest Neighbors – kNN)\n",
    "===\n",
    "\n",
    "Regarde tous les points, selectionne les k plus proche et analyse leur classe. La majorité l'emporte. Très simple et efficace, surtout sur de petits dataset et avec une bonne valeur de k (ni trop petite (sensible aux aberrations), ni trop grande (perte de précision)).\n",
    "\n",
    "Avantages\n",
    "- L’algorithme est super simple et facile à mettre en œuvre.\n",
    "- Il n’est pas nécessaire de construire un modèle, d’ajuster plusieurs paramètres ou de faire des hypothèses supplémentaires.\n",
    "- L’algorithme est polyvalent. Il peut être utilisé pour la classification, la régression et la recherche d’informations (comme nous le verrons dans la section suivante).\n",
    "\n",
    "Inconvénients\n",
    "- L’algorithme ralentit considérablement à mesure que le nombre d’observations et/ou de variables dépendantes/indépendantes augmente. En effet, l’algorithme parcourt l’ensemble des observations pour calculer chaque distance."
   ]
  },
  {
   "cell_type": "code",
   "execution_count": 12,
   "id": "6cf589db-fe36-49d6-a5fa-41c7aff90758",
   "metadata": {},
   "outputs": [],
   "source": [
    "from tools import find_file\n",
    "from collections import Counter\n",
    "import math"
   ]
  },
  {
   "cell_type": "code",
   "execution_count": 2,
   "id": "4641ae71-f394-4524-95b9-33616d8159d5",
   "metadata": {},
   "outputs": [],
   "source": [
    "def mean(labels):\n",
    "    \"\"\"Calcul de la moyenne des k étiquettes\"\"\"\n",
    "    return sum(labels) / len(labels)\n",
    "\n",
    "def mode(labels):\n",
    "    \"\"\"Calcul du mode des k étiquettes\"\"\"\n",
    "    return Counter(labels).most_common(1)[0][0]\n",
    "\n",
    "def euclidean_distance(point1, point2):\n",
    "    \"\"\"Calcul de la distance euclidienne\"\"\"\n",
    "    sum_squared_distance = 0\n",
    "    for i in range(len(point1)):\n",
    "        sum_squared_distance += math.pow(point1[i] - point2[i], 2)\n",
    "    return math.sqrt(sum_squared_distance)"
   ]
  },
  {
   "cell_type": "code",
   "execution_count": 3,
   "id": "720d2883-71c8-460c-a2fb-20576c22a97b",
   "metadata": {},
   "outputs": [],
   "source": [
    "# 1. Charger les données\n",
    "# 2. Initialiser k au nombre de plus proches voisins choisi\n",
    "\n",
    "def knn(data, query, k, distance_fn, choice_fn):\n",
    "    \"\"\"Algorithme des k plus proches voisins kNN\"\"\"\n",
    "    \n",
    "    neighbor_distances_and_indices = []\n",
    "    \n",
    "    # 3. Pour chaque observation des données\n",
    "    for index, example in enumerate(data):\n",
    "        # 3.1 Calculer la distance entre notre requête et l'observation itérative actuelle\n",
    "        # de la boucle depuis les données.\n",
    "        distance = distance_fn(example[:-1], query)\n",
    "        \n",
    "        # 3.2 Ajouter la distance et l'indice de l'observation concernée \n",
    "        # à une collection ordonnée de données\n",
    "        neighbor_distances_and_indices.append((distance, index))\n",
    "    \n",
    "    # 4. Trier cette collection ordonnée contenant distances et indices de\n",
    "    # la plus petite distance à la plus grande (dans l'ordre croissant)\n",
    "    sorted_neighbor_distances_and_indices = sorted(neighbor_distances_and_indices)\n",
    "    \n",
    "    # 5. Sélectionner les k premières entrées de la précédente collection de données\n",
    "    k_nearest_distances_and_indices = sorted_neighbor_distances_and_indices[:k]\n",
    "    \n",
    "    # 6. Obtenir les étiquettes des k entrées sélectionnées\n",
    "    k_nearest_labels = [data[i][1] for distance, i in k_nearest_distances_and_indices]\n",
    "    # 7. Si régression (choice_fn = mean), retourner la moyenne des k étiquettes\n",
    "    # 8. Si classification (choice_fn = mode), retourner le mode des k étiquettes\n",
    "    return k_nearest_distances_and_indices , choice_fn(k_nearest_labels)"
   ]
  },
  {
   "cell_type": "code",
   "execution_count": 9,
   "id": "e08aa89c-ec05-4c17-99e6-e9e23cb538dc",
   "metadata": {},
   "outputs": [
    {
     "name": "stdout",
     "output_type": "stream",
     "text": [
      "poid estimé d'une personne de 60 pouces (152.4 cm) : 128.24666666666667 pounds, soit 58.16175359032502 Kg.\n",
      "Liste des 3 plus proches voisins: \n"
     ]
    },
    {
     "data": {
      "text/plain": [
       "[(5.75, 0), (6.489999999999995, 9), (7.790000000000006, 4)]"
      ]
     },
     "execution_count": 9,
     "metadata": {},
     "output_type": "execute_result"
    }
   ],
   "source": [
    "'''\n",
    "# Données de régression\n",
    "# \n",
    "# Colonne 0: taille (en pouces)\n",
    "# Colonne 1: poids (en livres)\n",
    "'''\n",
    "reg_data = [\n",
    "   [65.75, 112.99],\n",
    "   [71.52, 136.49],\n",
    "   [69.40, 153.03],\n",
    "   [68.22, 142.34],\n",
    "   [67.79, 144.30],\n",
    "   [68.70, 123.30],\n",
    "   [69.80, 141.49],\n",
    "   [70.01, 136.46],\n",
    "   [67.90, 112.37],\n",
    "   [66.49, 127.45],\n",
    "]\n",
    "\n",
    "# Question:\n",
    "# Compte tenu des données dont nous disposons, quelle est la meilleure \n",
    "# estimation du poids d'une personne mesurant 60 pouces?\n",
    "reg_query = [60]\n",
    "k = 3\n",
    "reg_k_nearest_neighbors, reg_prediction = knn(\n",
    "    reg_data, reg_query, k=k, distance_fn=euclidean_distance, choice_fn=mean\n",
    ")\n",
    "print(f\"poid estimé d'une personne de 60 pouces (152.4 cm) : {reg_prediction} pounds, soit {reg_prediction/ 2.205} Kg.\\nListe des {k} plus proches voisins: \")\n",
    "reg_k_nearest_neighbors"
   ]
  },
  {
   "cell_type": "code",
   "execution_count": 11,
   "id": "6cfd1da4-d5b7-4cf1-9125-3cbfcdc5544b",
   "metadata": {},
   "outputs": [
    {
     "name": "stdout",
     "output_type": "stream",
     "text": [
      "Une personne de 33 ans aime-t-elle l'ananas sur sa pizza : 0.\n",
      "Liste des 3 plus proches voisins: \n"
     ]
    },
    {
     "data": {
      "text/plain": [
       "[(2.0, 8), (4.0, 7), (6.0, 6)]"
      ]
     },
     "execution_count": 11,
     "metadata": {},
     "output_type": "execute_result"
    }
   ],
   "source": [
    "'''\n",
    "# Données de Classification\n",
    "# \n",
    "# Colonne 0: age\n",
    "# Colonne 1: aime l'ananas\n",
    "'''\n",
    "clf_data = [\n",
    "   [22, 1],\n",
    "   [23, 1],\n",
    "   [21, 1],\n",
    "   [18, 1],\n",
    "   [19, 1],\n",
    "   [25, 0],\n",
    "   [27, 0],\n",
    "   [29, 0],\n",
    "   [31, 0],\n",
    "   [45, 0],\n",
    "]\n",
    "# Question:\n",
    "# À la lumière des données dont nous disposons, une personne de 33 ans aime-t-elle\n",
    "# l'ananas sur sa pizza?\n",
    "clf_query = [33]\n",
    "clf_k_nearest_neighbors, clf_prediction = knn(\n",
    "    clf_data, clf_query, k=3, distance_fn=euclidean_distance, choice_fn=mode\n",
    ")\n",
    "print(f\"Une personne de 33 ans aime-t-elle l'ananas sur sa pizza : {clf_prediction}.\\nListe des {k} plus proches voisins: \")\n",
    "clf_k_nearest_neighbors"
   ]
  },
  {
   "cell_type": "markdown",
   "id": "0c19a876-fc69-46eb-bca8-ef34aa8dd1d0",
   "metadata": {},
   "source": [
    "Cet algorithme est très intéressant quand on veut faire un système de recommandation, on analyse qui à des gouts similaires pour proposer des articles pertinents (Amazon, Medium, Netflix, Youtube). Bien que ces derniers utilisent des algorithmes plus rapide, on peut imaginer ce système :\n",
    "\n",
    "\n",
    "*À quelle question essayons-nous de répondre ?*\n",
    "Compte tenu de notre ensemble de données de films, quels sont les 5 films les plus similaires à une requête de film?\n",
    "\n",
    "*Recueillir des données de films*\n",
    "On peut utiliser notre dataset ou un autre que l'on trouve online : https://archive.ics.uci.edu/ml/datasets/Movie\n",
    "\n",
    "*Exploration, nettoyage et préparation des données*\n",
    "- valeurs manquantes ? remplacer / renseigner / supprimer ?\n",
    "- données exclusivement numériques ?\n",
    "\n",
    "*Utilisation de l'algorithme*\n",
    "On va d'abords récupérer notre film de référence et mettre ses features dans une liste : **feature vector**. Ensuite on execute kNN. "
   ]
  },
  {
   "cell_type": "code",
   "execution_count": 13,
   "id": "ed1f5d76-b11c-4166-9916-e2da1e65d2df",
   "metadata": {},
   "outputs": [],
   "source": [
    "def recommend_movies(movie_query, k_recommendations):\n",
    "    raw_movies_data = []\n",
    "    \n",
    "    with open(find_file('movies_recommendation_data.csv'), 'r') as md:\n",
    "        # Eliminer la première ligne (header)\n",
    "        next(md)\n",
    "        # Lire les données\n",
    "        for line in md.readlines():\n",
    "            data_row = line.strip().split(',')\n",
    "            raw_movies_data.append(data_row)\n",
    "            \n",
    "    # Préparer les données à être utiliser dans l'algorithme kNN en\n",
    "    # choissant les colonnes appropriées et en convertissant les colonnes \n",
    "    # numériques en nombres car elles ont été lues sous forme de string\n",
    "    movies_recommendation_data = []\n",
    "    for row in raw_movies_data:\n",
    "        data_row = list(map(float, row[2:]))\n",
    "        movies_recommendation_data.append(data_row)\n",
    "        \n",
    "    # Utiliser l'algorithme kNN pour obtenir les 5 films les plus similaires\n",
    "    # à Pentagon Papers.\n",
    "    recommendation_indices, _ = knn(\n",
    "        movies_recommendation_data, movie_query, k=k_recommendations,\n",
    "        distance_fn=euclidean_distance, choice_fn=lambda x: None\n",
    "    )\n",
    "    movie_recommendations = []\n",
    "    for _, index in recommendation_indices:\n",
    "        movie_recommendations.append(raw_movies_data[index])\n",
    "    return movie_recommendations\n",
    "\n",
    "the_post = [7.2, 1, 1, 0, 0, 0, 0, 1, 0] # feature vector pour Pentagon Papers\n",
    "recommended_movies = [] # recommend_movies(movie_query=the_post, k_recommendations=5)\n",
    "\n",
    "# Afficher les titres des films recommandés\n",
    "for recommendation in recommended_movies:\n",
    "    print(recommendation[1])"
   ]
  },
  {
   "cell_type": "code",
   "execution_count": null,
   "id": "5e01bdc4-2e39-4d9d-acec-52d12b805d2a",
   "metadata": {},
   "outputs": [],
   "source": []
  }
 ],
 "metadata": {
  "kernelspec": {
   "display_name": "Python 3",
   "language": "python",
   "name": "python3"
  },
  "language_info": {
   "codemirror_mode": {
    "name": "ipython",
    "version": 3
   },
   "file_extension": ".py",
   "mimetype": "text/x-python",
   "name": "python",
   "nbconvert_exporter": "python",
   "pygments_lexer": "ipython3",
   "version": "3.8.8"
  }
 },
 "nbformat": 4,
 "nbformat_minor": 5
}
