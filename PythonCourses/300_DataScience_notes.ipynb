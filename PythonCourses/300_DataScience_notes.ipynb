{
 "cells": [
  {
   "cell_type": "markdown",
   "id": "d51c908a-ace4-4bb3-ad12-3d9b6d757714",
   "metadata": {},
   "source": [
    "à voir \n",
    "- Supervisé : Support Vector Machine, Random Forest, SGDRegressor, KNeighborsClassifier, MLPClassifier\n",
    "- non-supervisé : K-Mean Clustering\n",
    "\n",
    "Sources :\n",
    "- https://www.math.univ-toulouse.fr/~besse/Wikistat/\n",
    "- https://swidhar4stats.substack.com/p/estimate-the-area-under-a-normal\n",
    "- https://medium.com/earthcube-stories/techsecret-how-to-use-deep-learning-on-satellite-imagery-episode-1-playing-with-the-loss-8fc05c90a63a\n",
    "\n",
    "Cours\n",
    "- https://www.coursera.org/specializations/deep-learning Spécialisation Deep Learning, Andrew Ng\n",
    "- https://www.coursera.org/learn/machine-learning Apprentissage automatique, Andrew Ng\n",
    "- https://www.coursera.org/professional-certificates/google-data-analytics Nombre de Analyse de données Google Certificat Professionnel, Google\n",
    "- https://www.coursera.org/learn/discrete-optimization"
   ]
  },
  {
   "cell_type": "markdown",
   "id": "dd3ec301-2259-42ac-bb25-ed87d18547bd",
   "metadata": {},
   "source": [
    "3 techniques les plus utilisées en Machine Learning et leurs alogrithmes :\n",
    "* La Regression :\n",
    "  - Régression linéaire : trouver une ligne représentant au mieux les datas\n",
    "  - Régression multiple (ou régression linéaire multiple) : regression linaire sur plusieurs dimensions\n",
    "  - Lasso (ou régression lasso) pour least absolute shrinkage and selection operator \n",
    "\n",
    "* La Classification :\n",
    "  - Les Arbres de décision (structure logique ramifiée pour répertorier les données dans des catégories définies)\n",
    "  - Classification naïve bayésienne (approche probabiliste, pouvant aider à ranger les données dans des groupes simples)\n",
    "  - Machines à vecteurs de support (Support Vector Machine ou SVM) : pour dissocier les données en tirant une ligne qui traverse un plan (axes x et y)\n",
    "  - K plus proches voisins (K Nearest Neighbors - KNN) : on analyse la classe des k plus proches voisins d'un point pour l'associer à une catégorie\n",
    "  - Régression logistique : semblable à une regression linéaire mais avec des résultats entre 0 et 1\n",
    "  - Réseaux de neurones\n",
    "\n",
    "* Le Clustering :\n",
    "  - K-moyennes (K-means) : algorithme non supervisé pour distinguer les « centroïdes » et localiser les clusters\n",
    "  - Décalage moyen (Mean Shift clustering) : aussi basé sur les centroides, utilisé seul ou pour améliorer K-means\n",
    "  - DBSCAN (Density-Based Spatial Clustering of Applications with Noise )\n",
    "  - Modèle de mélange gaussien (Gaussian Mixture Model-GMM) : trouver des groupes via la distribution de variables aléatoires modélisées sous la forme d’une somme de plusieurs gaussiennes au lieu de considérer les données comme des points singuliers.\n",
    "  - Regroupement hiérarchique : Similaire à un arbre de décision\n",
    "\n",
    "\n",
    "\n",
    "\n",
    "Why DL than ML ?\n",
    "- DL is more powerful\n",
    "- DL is better for Feature Engineering (Feature extraction and Feature selection) because it's automatized !\n",
    "\n",
    "3 types de Réseaux de neurones :\n",
    "* ANN : artificial neural networks, capable d'apprendre de fonctions non linéaires, grace aux fonctions d'activation. Mais l'ANN n'est pas bon sur les images (trop de calculs + perds la notion d'emplacement du pixel sur l'image). L'ANN est surtout utilisé sur des données dans un tableau.\n",
    "* RNN : recurrent neural networks, la différence avec l'ANN est qu'ici on a une looping constraint sur les couches cachées. Il est surtout utilisé sur des datas textuelles, audio ou sur des timeseries, de manière générale, tout ce qui a une séquence, par exemple les liens entre des mots. \n",
    "* CNN : convolutional neural networks, très puissant sur l'image et la vidéo, analyse les features avec leurs localisations dans l'espace. Utilise des filtres pour \"réduire\" la taille de l'image en gardant la logique d'emplacement\n",
    "\n",
    "ATTENTION au Vanishing and Exploding Gradient\n",
    "\n",
    "source : https://www.analyticsvidhya.com/blog/2020/02/cnn-vs-rnn-vs-mlp-analyzing-3-types-of-neural-networks-in-deep-learning/\n",
    "\n",
    "\n"
   ]
  },
  {
   "cell_type": "code",
   "execution_count": null,
   "id": "57d89cd2-f34c-46bb-b0f1-68d991a2a71b",
   "metadata": {},
   "outputs": [],
   "source": []
  }
 ],
 "metadata": {
  "kernelspec": {
   "display_name": "Python 3",
   "language": "python",
   "name": "python3"
  },
  "language_info": {
   "codemirror_mode": {
    "name": "ipython",
    "version": 3
   },
   "file_extension": ".py",
   "mimetype": "text/x-python",
   "name": "python",
   "nbconvert_exporter": "python",
   "pygments_lexer": "ipython3",
   "version": "3.8.8"
  }
 },
 "nbformat": 4,
 "nbformat_minor": 5
}
