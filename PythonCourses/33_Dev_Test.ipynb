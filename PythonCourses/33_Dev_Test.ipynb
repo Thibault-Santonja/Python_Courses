{
 "cells": [
  {
   "cell_type": "markdown",
   "metadata": {},
   "source": [
    "# 4. Le test\n",
    "\n",
    "# TODO   TODO   TODO   TODO   TODO\n",
    "\n",
    "\n",
    "## 4.1. UnitTest\n",
    "```python\n",
    "import unittest\n",
    "\n",
    "addtwo = lambda x: x + 2\n",
    "\n",
    "class LambdaTest(unittest.TestCase):\n",
    "    def test_add_two(self):\n",
    "        self.assertEqual(addtwo(2), 4)\n",
    "\n",
    "    def test_add_two_point_two(self):\n",
    "        self.assertEqual(addtwo(2.2), 4.2)\n",
    "\n",
    "    def test_add_three(self):\n",
    "        # Should fail\n",
    "        self.assertEqual(addtwo(3), 6)\n",
    "\n",
    "unittest.main(verbosity=2)\n",
    "```\n",
    "\n",
    "## 4.2. Doctest"
   ]
  },
  {
   "cell_type": "code",
   "execution_count": 1,
   "metadata": {},
   "outputs": [
    {
     "name": "stdout",
     "output_type": "stream",
     "text": [
      "Trying:\n",
      "    addtwo(2)\n",
      "Expecting:\n",
      "    4\n",
      "ok\n",
      "Trying:\n",
      "    addtwo(2.2)\n",
      "Expecting:\n",
      "    4.2\n",
      "ok\n",
      "Trying:\n",
      "    addtwo(3) # Should fail\n",
      "Expecting:\n",
      "    6\n",
      "**********************************************************************\n",
      "File \"__main__\", line 7, in __main__.addtwo\n",
      "Failed example:\n",
      "    addtwo(3) # Should fail\n",
      "Expected:\n",
      "    6\n",
      "Got:\n",
      "    5\n",
      "1 items had no tests:\n",
      "    __main__\n",
      "**********************************************************************\n",
      "1 items had failures:\n",
      "   1 of   3 in __main__.addtwo\n",
      "3 tests in 2 items.\n",
      "2 passed and 1 failed.\n",
      "***Test Failed*** 1 failures.\n"
     ]
    }
   ],
   "source": [
    "addtwo = lambda x: x + 2\n",
    "addtwo.__doc__ = \"\"\"Add 2 to a number.\n",
    "    >>> addtwo(2)\n",
    "    4\n",
    "    >>> addtwo(2.2)\n",
    "    4.2\n",
    "    >>> addtwo(3) # Should fail\n",
    "    6\n",
    "    \"\"\"\n",
    "\n",
    "if __name__ == '__main__':\n",
    "    import doctest\n",
    "    doctest.testmod(verbose=True)"
   ]
  },
  {
   "cell_type": "markdown",
   "metadata": {},
   "source": [
    "## 4.3. Python DeBug (PDB)\n",
    "\n",
    "```python\n",
    "import pdb  # Python DeBug\n",
    "pdb.set_trace();  # launch debug mode\n",
    "```"
   ]
  },
  {
   "cell_type": "code",
   "execution_count": null,
   "metadata": {},
   "outputs": [],
   "source": []
  },
  {
   "cell_type": "code",
   "execution_count": null,
   "metadata": {},
   "outputs": [],
   "source": []
  },
  {
   "cell_type": "code",
   "execution_count": null,
   "metadata": {},
   "outputs": [],
   "source": []
  },
  {
   "cell_type": "code",
   "execution_count": null,
   "metadata": {},
   "outputs": [],
   "source": []
  },
  {
   "cell_type": "code",
   "execution_count": null,
   "metadata": {},
   "outputs": [],
   "source": []
  },
  {
   "cell_type": "markdown",
   "metadata": {},
   "source": [
    "---"
   ]
  },
  {
   "cell_type": "markdown",
   "metadata": {},
   "source": [
    "Thibault **Santonja**  \n",
    "2021"
   ]
  }
 ],
 "metadata": {
  "kernelspec": {
   "display_name": "Python 3",
   "language": "python",
   "name": "python3"
  },
  "language_info": {
   "codemirror_mode": {
    "name": "ipython",
    "version": 3
   },
   "file_extension": ".py",
   "mimetype": "text/x-python",
   "name": "python",
   "nbconvert_exporter": "python",
   "pygments_lexer": "ipython3",
   "version": "3.8.5"
  }
 },
 "nbformat": 4,
 "nbformat_minor": 4
}
