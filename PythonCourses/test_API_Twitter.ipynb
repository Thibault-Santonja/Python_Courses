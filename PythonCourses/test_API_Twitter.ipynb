{
 "cells": [
  {
   "cell_type": "markdown",
   "id": "67692d82-e190-458f-aed5-f8f1bbf0f8a8",
   "metadata": {},
   "source": [
    "Scraping Twitter<a id=\"top\"></a>\n",
    "===\n",
    "\n",
    "\n",
    "- Tester Tweepi\n",
    "- Tester l'API (créer un compte Twitter)\n",
    "- Tester via `requests`\n",
    "- Tester le scraping via BSoup si rien n'est OK\n",
    "\n",
    "\n",
    "sources intéressantes :\n",
    "- https://developer.twitter.com/en/docs/twitter-api/tweets/sampled-stream/quick-start"
   ]
  },
  {
   "cell_type": "code",
   "execution_count": 1,
   "id": "7e472ce0-07a0-475c-9951-4cef3fbb0095",
   "metadata": {},
   "outputs": [],
   "source": [
    "import tweepy as tw\n",
    "import pandas as pd\n",
    "import numpy as np\n",
    "import requests\n",
    "import re\n",
    "import datetime\n",
    "import time\n",
    "\n",
    "# For a progress bar\n",
    "from ipywidgets import IntProgress\n",
    "from IPython.display import display"
   ]
  },
  {
   "cell_type": "code",
   "execution_count": 2,
   "id": "388d6796-78f6-46ad-bd82-cfded29b0159",
   "metadata": {},
   "outputs": [],
   "source": [
    "# FIXME : To replace with a relatif path\n",
    "API_keys_path = \"D:\\Creation_Code\\TwitterAnalysisTest\\keys.json\""
   ]
  },
  {
   "cell_type": "code",
   "execution_count": 3,
   "id": "70f4ea88-cf95-418d-9f3d-4f8e8c88308d",
   "metadata": {},
   "outputs": [],
   "source": [
    "# Get keys & tokens\n",
    "API_keys = pd.read_json(API_keys_path).to_dict()\n",
    "\n",
    "consumer_key = API_keys[\"API key\"].get(0)\n",
    "consumer_secret = API_keys[\"API secret key\"].get(0)\n",
    "access_token = API_keys[\"access token\"].get(0)\n",
    "access_token_secret = API_keys[\"access token secret\"].get(0)\n",
    "bearer_token = API_keys[\"bearer Token\"].get(0)"
   ]
  },
  {
   "cell_type": "code",
   "execution_count": 4,
   "id": "1e1bec06-9186-4b3c-bb0d-f8f6639350df",
   "metadata": {},
   "outputs": [],
   "source": [
    "def authenticate_to_twitter_API(API_keys:dict) -> tw.api:\n",
    "    '''\n",
    "    Connect to Twitter API and return it\n",
    "    args:\n",
    "        API_keys : dict of tokens\n",
    "    returns:\n",
    "        tw.api\n",
    "    '''\n",
    "    \n",
    "    # Authenticate to Twitter API using Tweepy\n",
    "    auth = tw.OAuthHandler(API_keys[\"API key\"].get(0), API_keys[\"API secret key\"].get(0))\n",
    "    auth.set_access_token(API_keys[\"access token\"].get(0), API_keys[\"access token secret\"].get(0))\n",
    "    \n",
    "    return tw.API(auth, wait_on_rate_limit=True)\n",
    "\n",
    "api = authenticate_to_twitter_API(API_keys)"
   ]
  },
  {
   "cell_type": "code",
   "execution_count": 5,
   "id": "6337f1fe-1cf6-486a-b2b5-bc370ff2584e",
   "metadata": {},
   "outputs": [],
   "source": [
    "def print_tweet(tweet:tw.models.Status):\n",
    "    '''\n",
    "    Print tweet content\n",
    "    '''\n",
    "    \n",
    "    print(f\"\"\"\n",
    "author : \n",
    "    - name : {tweet.author.name}\n",
    "    - screen_name @ : {tweet.author.screen_name}\n",
    "    - location : {tweet.author.location}\n",
    "    - followers_count : {tweet.author.followers_count} (= followers)\n",
    "    - friends_count : {tweet.author.friends_count} (= following)\n",
    "    - created_at : {tweet.author.created_at}\n",
    "tweet : \n",
    "    - coordinates : {tweet.coordinates}\n",
    "    - geo : {tweet.geo}\n",
    "    - created_at : {tweet.created_at}\n",
    "    - favorite_count : {tweet.favorite_count}\n",
    "    - retweet_count : {tweet.retweet_count}\n",
    "    - source : {tweet.source}\n",
    "    - text : \n",
    "{tweet.text}\n",
    "\"\"\")"
   ]
  },
  {
   "cell_type": "code",
   "execution_count": 6,
   "id": "7776bd17-861f-4b94-8a0b-f34af76d655a",
   "metadata": {},
   "outputs": [],
   "source": [
    "def get_tweet(API_keys:dict, tweet_id:int) -> requests.models.Response:\n",
    "    '''\n",
    "    Asks to Twitter API for a specific tweet and returns it.\n",
    "    \n",
    "    args:\n",
    "        API_keys : dict of ID tokens\n",
    "        tweet_id : int represents ID of the tweet\n",
    "    returns\n",
    "        requests.models.Response\n",
    "    '''\n",
    "    headers = {\n",
    "        'Authorization': f\"Bearer {API_keys['bearer Token'].get(0)}\",\n",
    "    }\n",
    "\n",
    "    return requests.get(f'https://api.twitter.com/2/tweets/{tweet_id}', headers=headers)"
   ]
  },
  {
   "cell_type": "code",
   "execution_count": 7,
   "id": "20116a42-fba7-4b02-acb3-1102c185b70d",
   "metadata": {},
   "outputs": [],
   "source": [
    "def get_hashtag(text:str) -> list:\n",
    "    '''\n",
    "    Search for \"#\" in a text and returns all # and their text.\n",
    "    \n",
    "    args:\n",
    "        text : str\n",
    "    returns:\n",
    "        list\n",
    "    '''\n",
    "    \n",
    "    #if \"#\" in text:\n",
    "    #    print(re.findall(r'#\\w+|@\\w+', text))\n",
    "    #    tag_list = re.findall(r'@\\w+', text)\n",
    "    #    ref_list = re.findall(r'#\\w+', text)\n",
    "\n",
    "    return re.findall(r'#\\w+', text) #, tag_list"
   ]
  },
  {
   "cell_type": "code",
   "execution_count": 8,
   "id": "39b9c575-a254-44b6-9b3b-18ba2850c1da",
   "metadata": {},
   "outputs": [],
   "source": [
    "def push_to_API(hashtags:pd.DataFrame, project_API:str=\"http://127.0.0.1:8000/hashtag/\"):\n",
    "    for idx, row in hashtags.iterrows():\n",
    "        data = {\n",
    "            \"hashtag\": row['hashtag'],\n",
    "            \"date\": row['date']\n",
    "        }\n",
    "\n",
    "        r = requests.post(project_API, data=data)\n",
    "\n",
    "        if r.status_code != 201:\n",
    "            print(r)"
   ]
  },
  {
   "cell_type": "code",
   "execution_count": 9,
   "id": "3df8d86d-4738-4e6b-946f-76afbfbb5995",
   "metadata": {
    "tags": []
   },
   "outputs": [],
   "source": [
    "def get_random_tweets(API_keys:dict, api:tw.api, since:datetime.date, until:datetime.date=None,\n",
    "                      min_retweets:int=0, lang:str=\"en\", show:bool=False, n_returns:int=5) -> list:\n",
    "    '''\n",
    "    Queries Twitter API to get some random tweet.\n",
    "    \n",
    "    args:\n",
    "        API_keys : dict of ID tokens\n",
    "        api : tw.api\n",
    "        since : datetime.date represent a date at this format : YYYY-MM-DD\n",
    "        until : datetime.date represent a date at this format : YYYY-MM-DD\n",
    "        min_retweets : int, minimum retweet of the tweet (to get most important ones)\n",
    "        lang : str=\"en\", represents the tweet language\n",
    "        show : bool=False, set at True if you want to print tweets\n",
    "        n_returns : int=5, quantity of returned tweets\n",
    "    returns:\n",
    "        list of tweets information\n",
    "    '''\n",
    "    \n",
    "    # Progress bar\n",
    "    f = IntProgress(min=0, max=n_returns)\n",
    "    display(f) # display the bar\n",
    "    \n",
    "    # Query\n",
    "    search_words = f\"since:{since} -filter:replies min_retweets:{min_retweets} lang:{lang} \"\n",
    "    if until:\n",
    "        search_words += f'until:{until}'\n",
    "    \n",
    "    # Collect tweets\n",
    "    tweets = tw.Cursor(api.search,\n",
    "                  q=search_words,\n",
    "                  lang=lang,\n",
    "                  since=since).items(n_returns)\n",
    "\n",
    "    tweet_list = []\n",
    "    hashtags_list = {'hashtag': [], 'date': []}\n",
    "    \n",
    "    # Iterate and save and print tweets\n",
    "    #[tweet.text for tweet in tweets]\n",
    "    for tweet in tweets:\n",
    "        # Increment the progress bar\n",
    "        f.value += 1\n",
    "        \n",
    "        # If tweet text is truncated, go search it\n",
    "        if tweet.truncated:\n",
    "            # If except is triggered, maybe an authentication error\n",
    "            try:\n",
    "                res = get_tweet(API_keys, tweet.id)\n",
    "                content = res.json().get('data').get('text')\n",
    "            except:\n",
    "                # If except is triggered, maybe a connection error or too much demands\n",
    "                try:\n",
    "                    print(f'{res.status} {res.title} : \"{res.detail}\"')\n",
    "                except:\n",
    "                    print(res)\n",
    "                    return tweet_list, hashtags_list\n",
    "                    \n",
    "                content = tweet.text\n",
    "        else:\n",
    "            content = tweet.text\n",
    "            \n",
    "        hash_list = get_hashtag(content)\n",
    "            \n",
    "        tweet_list.append({\n",
    "            'author_id': tweet.author.id,\n",
    "            'author_name': tweet.author.name,\n",
    "            'author_screen_name': tweet.author.screen_name,\n",
    "            'author_location': tweet.author.location,\n",
    "            'author_followers_count': tweet.author.followers_count,\n",
    "            'author_friends_count': tweet.author.friends_count,\n",
    "            'author_created_at': tweet.author.created_at,\n",
    "            'tweet_id': tweet.id,\n",
    "            'tweet_coordinates': tweet.coordinates,\n",
    "            'tweet_created_at': tweet.created_at,\n",
    "            'tweet_favorite_count' : tweet.favorite_count,\n",
    "            'tweet_retweet_count' : tweet.retweet_count,\n",
    "            'tweet_source' : tweet.source,\n",
    "            'tweet_text' : content,\n",
    "            'tweet_hashtags': hash_list\n",
    "        })\n",
    "        hashtags_list['hashtag'] += hash_list\n",
    "        hashtags_list['date'] += [tweet.created_at]*len(hash_list)\n",
    "    \n",
    "        if show:\n",
    "            print_tweet(tweet)\n",
    "            \n",
    "    return tweet_list, hashtags_list"
   ]
  },
  {
   "cell_type": "code",
   "execution_count": null,
   "id": "81d0905b-79e0-4abb-a237-432c5b6c23ac",
   "metadata": {},
   "outputs": [
    {
     "name": "stdout",
     "output_type": "stream",
     "text": [
      "[2021-07-23 10:47:24.253746] : Sleep 15 minutes\n"
     ]
    },
    {
     "data": {
      "application/vnd.jupyter.widget-view+json": {
       "model_id": "97e3abb7341246308b2936ddb03dc7ca",
       "version_major": 2,
       "version_minor": 0
      },
      "text/plain": [
       "IntProgress(value=0, max=200)"
      ]
     },
     "metadata": {},
     "output_type": "display_data"
    },
    {
     "data": {
      "application/vnd.jupyter.widget-view+json": {
       "model_id": "1c3900f7e6e741718de5576c5d82cec7",
       "version_major": 2,
       "version_minor": 0
      },
      "text/plain": [
       "IntProgress(value=0, max=200)"
      ]
     },
     "metadata": {},
     "output_type": "display_data"
    },
    {
     "data": {
      "application/vnd.jupyter.widget-view+json": {
       "model_id": "4314d53c093545c58536a04a7339ae48",
       "version_major": 2,
       "version_minor": 0
      },
      "text/plain": [
       "IntProgress(value=0, max=200)"
      ]
     },
     "metadata": {},
     "output_type": "display_data"
    },
    {
     "data": {
      "application/vnd.jupyter.widget-view+json": {
       "model_id": "9d85e127b098455d8ac0b32b113288ea",
       "version_major": 2,
       "version_minor": 0
      },
      "text/plain": [
       "IntProgress(value=0, max=200)"
      ]
     },
     "metadata": {},
     "output_type": "display_data"
    },
    {
     "data": {
      "application/vnd.jupyter.widget-view+json": {
       "model_id": "8ef4e2ae66504e52b43274bb4d3507ba",
       "version_major": 2,
       "version_minor": 0
      },
      "text/plain": [
       "IntProgress(value=0, max=200)"
      ]
     },
     "metadata": {},
     "output_type": "display_data"
    },
    {
     "data": {
      "application/vnd.jupyter.widget-view+json": {
       "model_id": "ca1eb386687c4b2794e66af8c1aae414",
       "version_major": 2,
       "version_minor": 0
      },
      "text/plain": [
       "IntProgress(value=0, max=200)"
      ]
     },
     "metadata": {},
     "output_type": "display_data"
    },
    {
     "data": {
      "application/vnd.jupyter.widget-view+json": {
       "model_id": "a40189ae7235443eb873796b36705b04",
       "version_major": 2,
       "version_minor": 0
      },
      "text/plain": [
       "IntProgress(value=0, max=200)"
      ]
     },
     "metadata": {},
     "output_type": "display_data"
    },
    {
     "data": {
      "application/vnd.jupyter.widget-view+json": {
       "model_id": "268f1a65bc0241708e3c6db2c65e90bc",
       "version_major": 2,
       "version_minor": 0
      },
      "text/plain": [
       "IntProgress(value=0, max=200)"
      ]
     },
     "metadata": {},
     "output_type": "display_data"
    },
    {
     "data": {
      "application/vnd.jupyter.widget-view+json": {
       "model_id": "a50189a760124372a933afb4b930423b",
       "version_major": 2,
       "version_minor": 0
      },
      "text/plain": [
       "IntProgress(value=0, max=200)"
      ]
     },
     "metadata": {},
     "output_type": "display_data"
    },
    {
     "name": "stdout",
     "output_type": "stream",
     "text": [
      "[2021-07-23 11:10:17.566707] : Sleep 15 minutes\n"
     ]
    },
    {
     "data": {
      "application/vnd.jupyter.widget-view+json": {
       "model_id": "c5a5a140159b45888609fa1eed2617e2",
       "version_major": 2,
       "version_minor": 0
      },
      "text/plain": [
       "IntProgress(value=0, max=200)"
      ]
     },
     "metadata": {},
     "output_type": "display_data"
    },
    {
     "data": {
      "application/vnd.jupyter.widget-view+json": {
       "model_id": "7208f77bf027466f9b7582ae2d900689",
       "version_major": 2,
       "version_minor": 0
      },
      "text/plain": [
       "IntProgress(value=0, max=200)"
      ]
     },
     "metadata": {},
     "output_type": "display_data"
    },
    {
     "data": {
      "application/vnd.jupyter.widget-view+json": {
       "model_id": "1d3c59ed3bd3478a81a0d05935d52809",
       "version_major": 2,
       "version_minor": 0
      },
      "text/plain": [
       "IntProgress(value=0, max=200)"
      ]
     },
     "metadata": {},
     "output_type": "display_data"
    },
    {
     "data": {
      "application/vnd.jupyter.widget-view+json": {
       "model_id": "eaa40e20c1ff48bb99929b411b2d617d",
       "version_major": 2,
       "version_minor": 0
      },
      "text/plain": [
       "IntProgress(value=0, max=200)"
      ]
     },
     "metadata": {},
     "output_type": "display_data"
    },
    {
     "data": {
      "application/vnd.jupyter.widget-view+json": {
       "model_id": "bfa5770c0d93438ead2e6d0a5e0fdb7a",
       "version_major": 2,
       "version_minor": 0
      },
      "text/plain": [
       "IntProgress(value=0, max=200)"
      ]
     },
     "metadata": {},
     "output_type": "display_data"
    },
    {
     "data": {
      "application/vnd.jupyter.widget-view+json": {
       "model_id": "1dcf815c230942a098c0812a6050067e",
       "version_major": 2,
       "version_minor": 0
      },
      "text/plain": [
       "IntProgress(value=0, max=200)"
      ]
     },
     "metadata": {},
     "output_type": "display_data"
    },
    {
     "data": {
      "application/vnd.jupyter.widget-view+json": {
       "model_id": "c109d1d9d59a491797255a65488897f6",
       "version_major": 2,
       "version_minor": 0
      },
      "text/plain": [
       "IntProgress(value=0, max=200)"
      ]
     },
     "metadata": {},
     "output_type": "display_data"
    },
    {
     "data": {
      "application/vnd.jupyter.widget-view+json": {
       "model_id": "ebf3de58d3854b51b5521a6ac52d3f0c",
       "version_major": 2,
       "version_minor": 0
      },
      "text/plain": [
       "IntProgress(value=0, max=200)"
      ]
     },
     "metadata": {},
     "output_type": "display_data"
    },
    {
     "data": {
      "application/vnd.jupyter.widget-view+json": {
       "model_id": "2eafdc1686804ab4b4da5084c8f36839",
       "version_major": 2,
       "version_minor": 0
      },
      "text/plain": [
       "IntProgress(value=0, max=200)"
      ]
     },
     "metadata": {},
     "output_type": "display_data"
    },
    {
     "name": "stdout",
     "output_type": "stream",
     "text": [
      "[2021-07-23 11:33:13.536447] : Sleep 15 minutes\n"
     ]
    },
    {
     "data": {
      "application/vnd.jupyter.widget-view+json": {
       "model_id": "016e495465f84f9899bd81980e1754bc",
       "version_major": 2,
       "version_minor": 0
      },
      "text/plain": [
       "IntProgress(value=0, max=200)"
      ]
     },
     "metadata": {},
     "output_type": "display_data"
    },
    {
     "data": {
      "application/vnd.jupyter.widget-view+json": {
       "model_id": "65e6ab54141c4609bea10863e05e0fc9",
       "version_major": 2,
       "version_minor": 0
      },
      "text/plain": [
       "IntProgress(value=0, max=200)"
      ]
     },
     "metadata": {},
     "output_type": "display_data"
    },
    {
     "data": {
      "application/vnd.jupyter.widget-view+json": {
       "model_id": "8f1dd056cdca44cc9cf7080f08ce36a7",
       "version_major": 2,
       "version_minor": 0
      },
      "text/plain": [
       "IntProgress(value=0, max=200)"
      ]
     },
     "metadata": {},
     "output_type": "display_data"
    },
    {
     "data": {
      "application/vnd.jupyter.widget-view+json": {
       "model_id": "ae8d34087f7f4756bc477c5a796f0a1d",
       "version_major": 2,
       "version_minor": 0
      },
      "text/plain": [
       "IntProgress(value=0, max=200)"
      ]
     },
     "metadata": {},
     "output_type": "display_data"
    },
    {
     "data": {
      "application/vnd.jupyter.widget-view+json": {
       "model_id": "ba3d3d6b971b46fe8736604d4db31645",
       "version_major": 2,
       "version_minor": 0
      },
      "text/plain": [
       "IntProgress(value=0, max=200)"
      ]
     },
     "metadata": {},
     "output_type": "display_data"
    },
    {
     "data": {
      "application/vnd.jupyter.widget-view+json": {
       "model_id": "00ce1623db4d499cb1491c67139b883c",
       "version_major": 2,
       "version_minor": 0
      },
      "text/plain": [
       "IntProgress(value=0, max=200)"
      ]
     },
     "metadata": {},
     "output_type": "display_data"
    },
    {
     "data": {
      "application/vnd.jupyter.widget-view+json": {
       "model_id": "2f62580571c5459a91889191ffa9e466",
       "version_major": 2,
       "version_minor": 0
      },
      "text/plain": [
       "IntProgress(value=0, max=200)"
      ]
     },
     "metadata": {},
     "output_type": "display_data"
    },
    {
     "data": {
      "application/vnd.jupyter.widget-view+json": {
       "model_id": "3ba114f300e8446f97b8a9bb124e213e",
       "version_major": 2,
       "version_minor": 0
      },
      "text/plain": [
       "IntProgress(value=0, max=200)"
      ]
     },
     "metadata": {},
     "output_type": "display_data"
    },
    {
     "data": {
      "application/vnd.jupyter.widget-view+json": {
       "model_id": "526ba67086c3412a8a96e85d630c6507",
       "version_major": 2,
       "version_minor": 0
      },
      "text/plain": [
       "IntProgress(value=0, max=200)"
      ]
     },
     "metadata": {},
     "output_type": "display_data"
    },
    {
     "name": "stdout",
     "output_type": "stream",
     "text": [
      "[2021-07-23 11:56:06.682352] : Sleep 15 minutes\n"
     ]
    },
    {
     "data": {
      "application/vnd.jupyter.widget-view+json": {
       "model_id": "d1099b23c5874a1ba3988d938621e806",
       "version_major": 2,
       "version_minor": 0
      },
      "text/plain": [
       "IntProgress(value=0, max=200)"
      ]
     },
     "metadata": {},
     "output_type": "display_data"
    },
    {
     "data": {
      "application/vnd.jupyter.widget-view+json": {
       "model_id": "6ca8146451da41e2abc9add2f9502b58",
       "version_major": 2,
       "version_minor": 0
      },
      "text/plain": [
       "IntProgress(value=0, max=200)"
      ]
     },
     "metadata": {},
     "output_type": "display_data"
    },
    {
     "data": {
      "application/vnd.jupyter.widget-view+json": {
       "model_id": "f85d65ed8aab45f2af5eb30ace448ade",
       "version_major": 2,
       "version_minor": 0
      },
      "text/plain": [
       "IntProgress(value=0, max=200)"
      ]
     },
     "metadata": {},
     "output_type": "display_data"
    },
    {
     "data": {
      "application/vnd.jupyter.widget-view+json": {
       "model_id": "7a3cf21a57714eb79f362d1bf6a634b3",
       "version_major": 2,
       "version_minor": 0
      },
      "text/plain": [
       "IntProgress(value=0, max=200)"
      ]
     },
     "metadata": {},
     "output_type": "display_data"
    },
    {
     "data": {
      "application/vnd.jupyter.widget-view+json": {
       "model_id": "0732051e370a4b6d84f10c1eddc8858c",
       "version_major": 2,
       "version_minor": 0
      },
      "text/plain": [
       "IntProgress(value=0, max=200)"
      ]
     },
     "metadata": {},
     "output_type": "display_data"
    },
    {
     "data": {
      "application/vnd.jupyter.widget-view+json": {
       "model_id": "2d64367cabc54dab9c998ea69b177351",
       "version_major": 2,
       "version_minor": 0
      },
      "text/plain": [
       "IntProgress(value=0, max=200)"
      ]
     },
     "metadata": {},
     "output_type": "display_data"
    },
    {
     "data": {
      "application/vnd.jupyter.widget-view+json": {
       "model_id": "e8964e3ad54447beb3bb68b49a5e8dab",
       "version_major": 2,
       "version_minor": 0
      },
      "text/plain": [
       "IntProgress(value=0, max=200)"
      ]
     },
     "metadata": {},
     "output_type": "display_data"
    },
    {
     "data": {
      "application/vnd.jupyter.widget-view+json": {
       "model_id": "dce6edea1fc14ad899fae30b865ec918",
       "version_major": 2,
       "version_minor": 0
      },
      "text/plain": [
       "IntProgress(value=0, max=200)"
      ]
     },
     "metadata": {},
     "output_type": "display_data"
    },
    {
     "data": {
      "application/vnd.jupyter.widget-view+json": {
       "model_id": "87dff7f3fad643e2a35a5547811cd798",
       "version_major": 2,
       "version_minor": 0
      },
      "text/plain": [
       "IntProgress(value=0, max=200)"
      ]
     },
     "metadata": {},
     "output_type": "display_data"
    },
    {
     "name": "stdout",
     "output_type": "stream",
     "text": [
      "[2021-07-23 12:18:54.075784] : Sleep 15 minutes\n"
     ]
    },
    {
     "data": {
      "application/vnd.jupyter.widget-view+json": {
       "model_id": "a3227141542d4ce3bb5902315387c11d",
       "version_major": 2,
       "version_minor": 0
      },
      "text/plain": [
       "IntProgress(value=0, max=200)"
      ]
     },
     "metadata": {},
     "output_type": "display_data"
    },
    {
     "data": {
      "application/vnd.jupyter.widget-view+json": {
       "model_id": "0f6d023970b34860b55fa898d24bab06",
       "version_major": 2,
       "version_minor": 0
      },
      "text/plain": [
       "IntProgress(value=0, max=200)"
      ]
     },
     "metadata": {},
     "output_type": "display_data"
    },
    {
     "data": {
      "application/vnd.jupyter.widget-view+json": {
       "model_id": "ffd53798fa1441be8672511b3ea91cc4",
       "version_major": 2,
       "version_minor": 0
      },
      "text/plain": [
       "IntProgress(value=0, max=200)"
      ]
     },
     "metadata": {},
     "output_type": "display_data"
    },
    {
     "data": {
      "application/vnd.jupyter.widget-view+json": {
       "model_id": "26ae732c3fb8496ba917bfd580a0ade6",
       "version_major": 2,
       "version_minor": 0
      },
      "text/plain": [
       "IntProgress(value=0, max=200)"
      ]
     },
     "metadata": {},
     "output_type": "display_data"
    },
    {
     "data": {
      "application/vnd.jupyter.widget-view+json": {
       "model_id": "c010540a77a74298aaf19e27e186a0fb",
       "version_major": 2,
       "version_minor": 0
      },
      "text/plain": [
       "IntProgress(value=0, max=200)"
      ]
     },
     "metadata": {},
     "output_type": "display_data"
    },
    {
     "data": {
      "application/vnd.jupyter.widget-view+json": {
       "model_id": "663a60b71b284fcc8f345edef9681a73",
       "version_major": 2,
       "version_minor": 0
      },
      "text/plain": [
       "IntProgress(value=0, max=200)"
      ]
     },
     "metadata": {},
     "output_type": "display_data"
    },
    {
     "data": {
      "application/vnd.jupyter.widget-view+json": {
       "model_id": "d9dae0e0170a44b0b756107be7742fc8",
       "version_major": 2,
       "version_minor": 0
      },
      "text/plain": [
       "IntProgress(value=0, max=200)"
      ]
     },
     "metadata": {},
     "output_type": "display_data"
    },
    {
     "data": {
      "application/vnd.jupyter.widget-view+json": {
       "model_id": "a0bbafe5fed84cf29c86e309c0451b14",
       "version_major": 2,
       "version_minor": 0
      },
      "text/plain": [
       "IntProgress(value=0, max=200)"
      ]
     },
     "metadata": {},
     "output_type": "display_data"
    },
    {
     "data": {
      "application/vnd.jupyter.widget-view+json": {
       "model_id": "be9f9b84cbb7431e90f1696856a06630",
       "version_major": 2,
       "version_minor": 0
      },
      "text/plain": [
       "IntProgress(value=0, max=200)"
      ]
     },
     "metadata": {},
     "output_type": "display_data"
    },
    {
     "name": "stdout",
     "output_type": "stream",
     "text": [
      "[2021-07-23 12:41:26.063236] : Sleep 15 minutes\n"
     ]
    },
    {
     "data": {
      "application/vnd.jupyter.widget-view+json": {
       "model_id": "aa0538afea24471db230fbf4489fd889",
       "version_major": 2,
       "version_minor": 0
      },
      "text/plain": [
       "IntProgress(value=0, max=200)"
      ]
     },
     "metadata": {},
     "output_type": "display_data"
    },
    {
     "data": {
      "application/vnd.jupyter.widget-view+json": {
       "model_id": "9d9fa84367514536bf73e0bd16519ff2",
       "version_major": 2,
       "version_minor": 0
      },
      "text/plain": [
       "IntProgress(value=0, max=200)"
      ]
     },
     "metadata": {},
     "output_type": "display_data"
    },
    {
     "data": {
      "application/vnd.jupyter.widget-view+json": {
       "model_id": "874e6f86cf1a42fdbffcd29d757a5d89",
       "version_major": 2,
       "version_minor": 0
      },
      "text/plain": [
       "IntProgress(value=0, max=200)"
      ]
     },
     "metadata": {},
     "output_type": "display_data"
    },
    {
     "data": {
      "application/vnd.jupyter.widget-view+json": {
       "model_id": "3df78867fa3940cb975f071495daa2e1",
       "version_major": 2,
       "version_minor": 0
      },
      "text/plain": [
       "IntProgress(value=0, max=200)"
      ]
     },
     "metadata": {},
     "output_type": "display_data"
    },
    {
     "data": {
      "application/vnd.jupyter.widget-view+json": {
       "model_id": "86274861c6e14652b38177f466114b0c",
       "version_major": 2,
       "version_minor": 0
      },
      "text/plain": [
       "IntProgress(value=0, max=200)"
      ]
     },
     "metadata": {},
     "output_type": "display_data"
    },
    {
     "data": {
      "application/vnd.jupyter.widget-view+json": {
       "model_id": "6afa4516e49042b4a62af53ecf4cde79",
       "version_major": 2,
       "version_minor": 0
      },
      "text/plain": [
       "IntProgress(value=0, max=200)"
      ]
     },
     "metadata": {},
     "output_type": "display_data"
    },
    {
     "data": {
      "application/vnd.jupyter.widget-view+json": {
       "model_id": "5a85369a9406416bbaf66e94a839082c",
       "version_major": 2,
       "version_minor": 0
      },
      "text/plain": [
       "IntProgress(value=0, max=200)"
      ]
     },
     "metadata": {},
     "output_type": "display_data"
    },
    {
     "data": {
      "application/vnd.jupyter.widget-view+json": {
       "model_id": "6e35a5f014e24be79af84efe3c3836b4",
       "version_major": 2,
       "version_minor": 0
      },
      "text/plain": [
       "IntProgress(value=0, max=200)"
      ]
     },
     "metadata": {},
     "output_type": "display_data"
    },
    {
     "data": {
      "application/vnd.jupyter.widget-view+json": {
       "model_id": "4855553d05f94c8eae3add7abb25790c",
       "version_major": 2,
       "version_minor": 0
      },
      "text/plain": [
       "IntProgress(value=0, max=200)"
      ]
     },
     "metadata": {},
     "output_type": "display_data"
    },
    {
     "name": "stdout",
     "output_type": "stream",
     "text": [
      "[2021-07-23 13:04:49.784301] : Sleep 15 minutes\n"
     ]
    },
    {
     "data": {
      "application/vnd.jupyter.widget-view+json": {
       "model_id": "2724779cf6bf42dfab32b22a13f093b8",
       "version_major": 2,
       "version_minor": 0
      },
      "text/plain": [
       "IntProgress(value=0, max=200)"
      ]
     },
     "metadata": {},
     "output_type": "display_data"
    },
    {
     "data": {
      "application/vnd.jupyter.widget-view+json": {
       "model_id": "f9f5afcabfd14a68b755a2b96b97091b",
       "version_major": 2,
       "version_minor": 0
      },
      "text/plain": [
       "IntProgress(value=0, max=200)"
      ]
     },
     "metadata": {},
     "output_type": "display_data"
    },
    {
     "data": {
      "application/vnd.jupyter.widget-view+json": {
       "model_id": "a97a09d47cb94846b69409c3cc23d007",
       "version_major": 2,
       "version_minor": 0
      },
      "text/plain": [
       "IntProgress(value=0, max=200)"
      ]
     },
     "metadata": {},
     "output_type": "display_data"
    },
    {
     "data": {
      "application/vnd.jupyter.widget-view+json": {
       "model_id": "315837a31c974852b5c0586f9be25790",
       "version_major": 2,
       "version_minor": 0
      },
      "text/plain": [
       "IntProgress(value=0, max=200)"
      ]
     },
     "metadata": {},
     "output_type": "display_data"
    },
    {
     "data": {
      "application/vnd.jupyter.widget-view+json": {
       "model_id": "0528a3adeb1c4607a57de7de6afa962c",
       "version_major": 2,
       "version_minor": 0
      },
      "text/plain": [
       "IntProgress(value=0, max=200)"
      ]
     },
     "metadata": {},
     "output_type": "display_data"
    },
    {
     "data": {
      "application/vnd.jupyter.widget-view+json": {
       "model_id": "265bf7b1f8a849889b74b9e9f9dd234d",
       "version_major": 2,
       "version_minor": 0
      },
      "text/plain": [
       "IntProgress(value=0, max=200)"
      ]
     },
     "metadata": {},
     "output_type": "display_data"
    },
    {
     "data": {
      "application/vnd.jupyter.widget-view+json": {
       "model_id": "56dc34604a87441f864a937d61838cbd",
       "version_major": 2,
       "version_minor": 0
      },
      "text/plain": [
       "IntProgress(value=0, max=200)"
      ]
     },
     "metadata": {},
     "output_type": "display_data"
    },
    {
     "data": {
      "application/vnd.jupyter.widget-view+json": {
       "model_id": "f5edbd1c37b44fa1b63d6f1aab45d3e3",
       "version_major": 2,
       "version_minor": 0
      },
      "text/plain": [
       "IntProgress(value=0, max=200)"
      ]
     },
     "metadata": {},
     "output_type": "display_data"
    },
    {
     "data": {
      "application/vnd.jupyter.widget-view+json": {
       "model_id": "6d823c280b0643039af4a3f5ee1a2349",
       "version_major": 2,
       "version_minor": 0
      },
      "text/plain": [
       "IntProgress(value=0, max=200)"
      ]
     },
     "metadata": {},
     "output_type": "display_data"
    },
    {
     "name": "stdout",
     "output_type": "stream",
     "text": [
      "[2021-07-23 13:27:46.707305] : Sleep 15 minutes\n"
     ]
    },
    {
     "data": {
      "application/vnd.jupyter.widget-view+json": {
       "model_id": "da99db3d92144fa98e3711cc5da0bf33",
       "version_major": 2,
       "version_minor": 0
      },
      "text/plain": [
       "IntProgress(value=0, max=200)"
      ]
     },
     "metadata": {},
     "output_type": "display_data"
    },
    {
     "data": {
      "application/vnd.jupyter.widget-view+json": {
       "model_id": "bedf0437ad764595a6df625c68fb12ab",
       "version_major": 2,
       "version_minor": 0
      },
      "text/plain": [
       "IntProgress(value=0, max=200)"
      ]
     },
     "metadata": {},
     "output_type": "display_data"
    },
    {
     "data": {
      "application/vnd.jupyter.widget-view+json": {
       "model_id": "af2fe058569f432f80545eabf6dfd2a7",
       "version_major": 2,
       "version_minor": 0
      },
      "text/plain": [
       "IntProgress(value=0, max=200)"
      ]
     },
     "metadata": {},
     "output_type": "display_data"
    },
    {
     "data": {
      "application/vnd.jupyter.widget-view+json": {
       "model_id": "e38d26ab1b72454c8476749ff56bbf0d",
       "version_major": 2,
       "version_minor": 0
      },
      "text/plain": [
       "IntProgress(value=0, max=200)"
      ]
     },
     "metadata": {},
     "output_type": "display_data"
    },
    {
     "data": {
      "application/vnd.jupyter.widget-view+json": {
       "model_id": "dfc2a01e478b491dbffc680a66f1f0c0",
       "version_major": 2,
       "version_minor": 0
      },
      "text/plain": [
       "IntProgress(value=0, max=200)"
      ]
     },
     "metadata": {},
     "output_type": "display_data"
    },
    {
     "data": {
      "application/vnd.jupyter.widget-view+json": {
       "model_id": "c4087148421a4e7a97a18996110cd32e",
       "version_major": 2,
       "version_minor": 0
      },
      "text/plain": [
       "IntProgress(value=0, max=200)"
      ]
     },
     "metadata": {},
     "output_type": "display_data"
    },
    {
     "data": {
      "application/vnd.jupyter.widget-view+json": {
       "model_id": "c81b8ff0debf4c0f9d85e7fd378660b5",
       "version_major": 2,
       "version_minor": 0
      },
      "text/plain": [
       "IntProgress(value=0, max=200)"
      ]
     },
     "metadata": {},
     "output_type": "display_data"
    },
    {
     "data": {
      "application/vnd.jupyter.widget-view+json": {
       "model_id": "f89202b9080147279974a456845627a2",
       "version_major": 2,
       "version_minor": 0
      },
      "text/plain": [
       "IntProgress(value=0, max=200)"
      ]
     },
     "metadata": {},
     "output_type": "display_data"
    },
    {
     "data": {
      "application/vnd.jupyter.widget-view+json": {
       "model_id": "8ba622994c0b4573a5dd5bc5a98346d1",
       "version_major": 2,
       "version_minor": 0
      },
      "text/plain": [
       "IntProgress(value=0, max=200)"
      ]
     },
     "metadata": {},
     "output_type": "display_data"
    },
    {
     "name": "stdout",
     "output_type": "stream",
     "text": [
      "[2021-07-23 13:50:39.096187] : Sleep 15 minutes\n"
     ]
    },
    {
     "data": {
      "application/vnd.jupyter.widget-view+json": {
       "model_id": "42b57eeea313462fb13ec076d6858b43",
       "version_major": 2,
       "version_minor": 0
      },
      "text/plain": [
       "IntProgress(value=0, max=200)"
      ]
     },
     "metadata": {},
     "output_type": "display_data"
    },
    {
     "data": {
      "application/vnd.jupyter.widget-view+json": {
       "model_id": "e3f1e0e6b93d437ea3b0b80548fa4e6f",
       "version_major": 2,
       "version_minor": 0
      },
      "text/plain": [
       "IntProgress(value=0, max=200)"
      ]
     },
     "metadata": {},
     "output_type": "display_data"
    },
    {
     "data": {
      "application/vnd.jupyter.widget-view+json": {
       "model_id": "ab125a1eac4541878fb59b0b0a557e80",
       "version_major": 2,
       "version_minor": 0
      },
      "text/plain": [
       "IntProgress(value=0, max=200)"
      ]
     },
     "metadata": {},
     "output_type": "display_data"
    },
    {
     "data": {
      "application/vnd.jupyter.widget-view+json": {
       "model_id": "1e615a8ac7a8456d992dd3b612fcec9a",
       "version_major": 2,
       "version_minor": 0
      },
      "text/plain": [
       "IntProgress(value=0, max=200)"
      ]
     },
     "metadata": {},
     "output_type": "display_data"
    },
    {
     "data": {
      "application/vnd.jupyter.widget-view+json": {
       "model_id": "0b06c29ec4d84926bd9e18fc29f93392",
       "version_major": 2,
       "version_minor": 0
      },
      "text/plain": [
       "IntProgress(value=0, max=200)"
      ]
     },
     "metadata": {},
     "output_type": "display_data"
    },
    {
     "data": {
      "application/vnd.jupyter.widget-view+json": {
       "model_id": "db3facd00e414155afb86c220631e70f",
       "version_major": 2,
       "version_minor": 0
      },
      "text/plain": [
       "IntProgress(value=0, max=200)"
      ]
     },
     "metadata": {},
     "output_type": "display_data"
    },
    {
     "data": {
      "application/vnd.jupyter.widget-view+json": {
       "model_id": "59f33d36898d46589c47a53bf3358fd9",
       "version_major": 2,
       "version_minor": 0
      },
      "text/plain": [
       "IntProgress(value=0, max=200)"
      ]
     },
     "metadata": {},
     "output_type": "display_data"
    },
    {
     "data": {
      "application/vnd.jupyter.widget-view+json": {
       "model_id": "f3951a337afa435c9d1b8d1a1d5a808e",
       "version_major": 2,
       "version_minor": 0
      },
      "text/plain": [
       "IntProgress(value=0, max=200)"
      ]
     },
     "metadata": {},
     "output_type": "display_data"
    },
    {
     "data": {
      "application/vnd.jupyter.widget-view+json": {
       "model_id": "69306578f4a14067a4cf88946e191026",
       "version_major": 2,
       "version_minor": 0
      },
      "text/plain": [
       "IntProgress(value=0, max=200)"
      ]
     },
     "metadata": {},
     "output_type": "display_data"
    },
    {
     "name": "stdout",
     "output_type": "stream",
     "text": [
      "[2021-07-23 14:13:33.548307] : Sleep 15 minutes\n"
     ]
    },
    {
     "data": {
      "application/vnd.jupyter.widget-view+json": {
       "model_id": "f58398e293f042d69c0d88c3fc736dc8",
       "version_major": 2,
       "version_minor": 0
      },
      "text/plain": [
       "IntProgress(value=0, max=200)"
      ]
     },
     "metadata": {},
     "output_type": "display_data"
    },
    {
     "data": {
      "application/vnd.jupyter.widget-view+json": {
       "model_id": "294e670bf7b74af6bb975a713ccf493f",
       "version_major": 2,
       "version_minor": 0
      },
      "text/plain": [
       "IntProgress(value=0, max=200)"
      ]
     },
     "metadata": {},
     "output_type": "display_data"
    },
    {
     "data": {
      "application/vnd.jupyter.widget-view+json": {
       "model_id": "9f048ef785a04d8cb4f5d6bba5df4074",
       "version_major": 2,
       "version_minor": 0
      },
      "text/plain": [
       "IntProgress(value=0, max=200)"
      ]
     },
     "metadata": {},
     "output_type": "display_data"
    },
    {
     "data": {
      "application/vnd.jupyter.widget-view+json": {
       "model_id": "0cd73c53c631452a8e728145a5752588",
       "version_major": 2,
       "version_minor": 0
      },
      "text/plain": [
       "IntProgress(value=0, max=200)"
      ]
     },
     "metadata": {},
     "output_type": "display_data"
    },
    {
     "data": {
      "application/vnd.jupyter.widget-view+json": {
       "model_id": "90d99c151950447b937ab485e1f7fe64",
       "version_major": 2,
       "version_minor": 0
      },
      "text/plain": [
       "IntProgress(value=0, max=200)"
      ]
     },
     "metadata": {},
     "output_type": "display_data"
    },
    {
     "data": {
      "application/vnd.jupyter.widget-view+json": {
       "model_id": "b8db6d53681c4413b1094359d3665872",
       "version_major": 2,
       "version_minor": 0
      },
      "text/plain": [
       "IntProgress(value=0, max=200)"
      ]
     },
     "metadata": {},
     "output_type": "display_data"
    },
    {
     "data": {
      "application/vnd.jupyter.widget-view+json": {
       "model_id": "f7e7e8ce5d5144428478e7e090aa1435",
       "version_major": 2,
       "version_minor": 0
      },
      "text/plain": [
       "IntProgress(value=0, max=200)"
      ]
     },
     "metadata": {},
     "output_type": "display_data"
    },
    {
     "data": {
      "application/vnd.jupyter.widget-view+json": {
       "model_id": "288c83de9c1b4acd9112c1e01e5a5304",
       "version_major": 2,
       "version_minor": 0
      },
      "text/plain": [
       "IntProgress(value=0, max=200)"
      ]
     },
     "metadata": {},
     "output_type": "display_data"
    },
    {
     "data": {
      "application/vnd.jupyter.widget-view+json": {
       "model_id": "ee000ca872744f42bf1f4c13a21b493a",
       "version_major": 2,
       "version_minor": 0
      },
      "text/plain": [
       "IntProgress(value=0, max=200)"
      ]
     },
     "metadata": {},
     "output_type": "display_data"
    },
    {
     "name": "stdout",
     "output_type": "stream",
     "text": [
      "[2021-07-23 14:36:24.669491] : Sleep 15 minutes\n"
     ]
    },
    {
     "data": {
      "application/vnd.jupyter.widget-view+json": {
       "model_id": "dd7c9e5f541a4fdcacfcba62a0c08ead",
       "version_major": 2,
       "version_minor": 0
      },
      "text/plain": [
       "IntProgress(value=0, max=200)"
      ]
     },
     "metadata": {},
     "output_type": "display_data"
    },
    {
     "data": {
      "application/vnd.jupyter.widget-view+json": {
       "model_id": "38d8f5be79864510b909d5b9e957154a",
       "version_major": 2,
       "version_minor": 0
      },
      "text/plain": [
       "IntProgress(value=0, max=200)"
      ]
     },
     "metadata": {},
     "output_type": "display_data"
    },
    {
     "data": {
      "application/vnd.jupyter.widget-view+json": {
       "model_id": "2d1bb93aac2841c5aa2d862a002772c8",
       "version_major": 2,
       "version_minor": 0
      },
      "text/plain": [
       "IntProgress(value=0, max=200)"
      ]
     },
     "metadata": {},
     "output_type": "display_data"
    },
    {
     "data": {
      "application/vnd.jupyter.widget-view+json": {
       "model_id": "7e78b97e80cc46478778a74996015db7",
       "version_major": 2,
       "version_minor": 0
      },
      "text/plain": [
       "IntProgress(value=0, max=200)"
      ]
     },
     "metadata": {},
     "output_type": "display_data"
    },
    {
     "data": {
      "application/vnd.jupyter.widget-view+json": {
       "model_id": "7d7d6ebb60a9431ebfe713937184002d",
       "version_major": 2,
       "version_minor": 0
      },
      "text/plain": [
       "IntProgress(value=0, max=200)"
      ]
     },
     "metadata": {},
     "output_type": "display_data"
    },
    {
     "data": {
      "application/vnd.jupyter.widget-view+json": {
       "model_id": "61659f1b9c914c1796d6bd4151d5084d",
       "version_major": 2,
       "version_minor": 0
      },
      "text/plain": [
       "IntProgress(value=0, max=200)"
      ]
     },
     "metadata": {},
     "output_type": "display_data"
    },
    {
     "data": {
      "application/vnd.jupyter.widget-view+json": {
       "model_id": "cd28e438067349d1b2e1a8eaedede7eb",
       "version_major": 2,
       "version_minor": 0
      },
      "text/plain": [
       "IntProgress(value=0, max=200)"
      ]
     },
     "metadata": {},
     "output_type": "display_data"
    },
    {
     "data": {
      "application/vnd.jupyter.widget-view+json": {
       "model_id": "69a2afeed8384c7d83cca9711c1b2894",
       "version_major": 2,
       "version_minor": 0
      },
      "text/plain": [
       "IntProgress(value=0, max=200)"
      ]
     },
     "metadata": {},
     "output_type": "display_data"
    },
    {
     "data": {
      "application/vnd.jupyter.widget-view+json": {
       "model_id": "62c923866d684b7da5959da7978118c3",
       "version_major": 2,
       "version_minor": 0
      },
      "text/plain": [
       "IntProgress(value=0, max=200)"
      ]
     },
     "metadata": {},
     "output_type": "display_data"
    },
    {
     "name": "stdout",
     "output_type": "stream",
     "text": [
      "[2021-07-23 14:59:11.190455] : Sleep 15 minutes\n"
     ]
    },
    {
     "data": {
      "application/vnd.jupyter.widget-view+json": {
       "model_id": "2a9f12da412e4f71a7c54b2037935024",
       "version_major": 2,
       "version_minor": 0
      },
      "text/plain": [
       "IntProgress(value=0, max=200)"
      ]
     },
     "metadata": {},
     "output_type": "display_data"
    },
    {
     "data": {
      "application/vnd.jupyter.widget-view+json": {
       "model_id": "9e58db17642a4179bc62d285d55e3846",
       "version_major": 2,
       "version_minor": 0
      },
      "text/plain": [
       "IntProgress(value=0, max=200)"
      ]
     },
     "metadata": {},
     "output_type": "display_data"
    },
    {
     "data": {
      "application/vnd.jupyter.widget-view+json": {
       "model_id": "5b430d5225af4305b7d021fba3a5f71e",
       "version_major": 2,
       "version_minor": 0
      },
      "text/plain": [
       "IntProgress(value=0, max=200)"
      ]
     },
     "metadata": {},
     "output_type": "display_data"
    },
    {
     "data": {
      "application/vnd.jupyter.widget-view+json": {
       "model_id": "c3f06d782ef44f09bfd17328f5f44682",
       "version_major": 2,
       "version_minor": 0
      },
      "text/plain": [
       "IntProgress(value=0, max=200)"
      ]
     },
     "metadata": {},
     "output_type": "display_data"
    },
    {
     "data": {
      "application/vnd.jupyter.widget-view+json": {
       "model_id": "f93d4afb689946268e8f1d13e4c5945e",
       "version_major": 2,
       "version_minor": 0
      },
      "text/plain": [
       "IntProgress(value=0, max=200)"
      ]
     },
     "metadata": {},
     "output_type": "display_data"
    },
    {
     "data": {
      "application/vnd.jupyter.widget-view+json": {
       "model_id": "9093ab6b55e64527b8d3506cd7c401af",
       "version_major": 2,
       "version_minor": 0
      },
      "text/plain": [
       "IntProgress(value=0, max=200)"
      ]
     },
     "metadata": {},
     "output_type": "display_data"
    },
    {
     "data": {
      "application/vnd.jupyter.widget-view+json": {
       "model_id": "be25c43f79034670b7ea3f1372e99392",
       "version_major": 2,
       "version_minor": 0
      },
      "text/plain": [
       "IntProgress(value=0, max=200)"
      ]
     },
     "metadata": {},
     "output_type": "display_data"
    },
    {
     "data": {
      "application/vnd.jupyter.widget-view+json": {
       "model_id": "7134dff2299240218ae6d2faba21b214",
       "version_major": 2,
       "version_minor": 0
      },
      "text/plain": [
       "IntProgress(value=0, max=200)"
      ]
     },
     "metadata": {},
     "output_type": "display_data"
    },
    {
     "data": {
      "application/vnd.jupyter.widget-view+json": {
       "model_id": "8b459da549fc4f059741b4b2553b759e",
       "version_major": 2,
       "version_minor": 0
      },
      "text/plain": [
       "IntProgress(value=0, max=200)"
      ]
     },
     "metadata": {},
     "output_type": "display_data"
    },
    {
     "name": "stdout",
     "output_type": "stream",
     "text": [
      "[2021-07-23 15:21:58.539389] : Sleep 15 minutes\n"
     ]
    },
    {
     "data": {
      "application/vnd.jupyter.widget-view+json": {
       "model_id": "5de72d0be71e464eabda72d5ef4d836c",
       "version_major": 2,
       "version_minor": 0
      },
      "text/plain": [
       "IntProgress(value=0, max=200)"
      ]
     },
     "metadata": {},
     "output_type": "display_data"
    },
    {
     "data": {
      "application/vnd.jupyter.widget-view+json": {
       "model_id": "d26ccedde31547379593f6aa7aa59b6e",
       "version_major": 2,
       "version_minor": 0
      },
      "text/plain": [
       "IntProgress(value=0, max=200)"
      ]
     },
     "metadata": {},
     "output_type": "display_data"
    },
    {
     "data": {
      "application/vnd.jupyter.widget-view+json": {
       "model_id": "4d0046855373478d9cf47192b09bf5fd",
       "version_major": 2,
       "version_minor": 0
      },
      "text/plain": [
       "IntProgress(value=0, max=200)"
      ]
     },
     "metadata": {},
     "output_type": "display_data"
    },
    {
     "data": {
      "application/vnd.jupyter.widget-view+json": {
       "model_id": "dda59c2c4f3c40abbdce73553463c120",
       "version_major": 2,
       "version_minor": 0
      },
      "text/plain": [
       "IntProgress(value=0, max=200)"
      ]
     },
     "metadata": {},
     "output_type": "display_data"
    },
    {
     "data": {
      "application/vnd.jupyter.widget-view+json": {
       "model_id": "495c3c1838ce4a7fafd2803b48a82d9c",
       "version_major": 2,
       "version_minor": 0
      },
      "text/plain": [
       "IntProgress(value=0, max=200)"
      ]
     },
     "metadata": {},
     "output_type": "display_data"
    },
    {
     "data": {
      "application/vnd.jupyter.widget-view+json": {
       "model_id": "55121b290e3c42f1b3363dc7236c9cd1",
       "version_major": 2,
       "version_minor": 0
      },
      "text/plain": [
       "IntProgress(value=0, max=200)"
      ]
     },
     "metadata": {},
     "output_type": "display_data"
    },
    {
     "data": {
      "application/vnd.jupyter.widget-view+json": {
       "model_id": "6c5d1c05a141441d897b42c5b6202548",
       "version_major": 2,
       "version_minor": 0
      },
      "text/plain": [
       "IntProgress(value=0, max=200)"
      ]
     },
     "metadata": {},
     "output_type": "display_data"
    },
    {
     "data": {
      "application/vnd.jupyter.widget-view+json": {
       "model_id": "4ca0990cc25446f3b69c2e71ff55359d",
       "version_major": 2,
       "version_minor": 0
      },
      "text/plain": [
       "IntProgress(value=0, max=200)"
      ]
     },
     "metadata": {},
     "output_type": "display_data"
    },
    {
     "data": {
      "application/vnd.jupyter.widget-view+json": {
       "model_id": "0b6dfa3b6ca94e73bfe49cfa9e8190e9",
       "version_major": 2,
       "version_minor": 0
      },
      "text/plain": [
       "IntProgress(value=0, max=200)"
      ]
     },
     "metadata": {},
     "output_type": "display_data"
    },
    {
     "name": "stdout",
     "output_type": "stream",
     "text": [
      "[2021-07-23 15:44:47.988374] : Sleep 15 minutes\n"
     ]
    },
    {
     "data": {
      "application/vnd.jupyter.widget-view+json": {
       "model_id": "293cf4699f3442fba224f035f40d263d",
       "version_major": 2,
       "version_minor": 0
      },
      "text/plain": [
       "IntProgress(value=0, max=200)"
      ]
     },
     "metadata": {},
     "output_type": "display_data"
    },
    {
     "data": {
      "application/vnd.jupyter.widget-view+json": {
       "model_id": "0be42a07fa2f469ea6f5cfcb60c3d0c1",
       "version_major": 2,
       "version_minor": 0
      },
      "text/plain": [
       "IntProgress(value=0, max=200)"
      ]
     },
     "metadata": {},
     "output_type": "display_data"
    },
    {
     "data": {
      "application/vnd.jupyter.widget-view+json": {
       "model_id": "f0a6c0ba1867464eaa0df1c3970d94b8",
       "version_major": 2,
       "version_minor": 0
      },
      "text/plain": [
       "IntProgress(value=0, max=200)"
      ]
     },
     "metadata": {},
     "output_type": "display_data"
    },
    {
     "data": {
      "application/vnd.jupyter.widget-view+json": {
       "model_id": "ff854b0c185c4f4ba8f83bb1c072d268",
       "version_major": 2,
       "version_minor": 0
      },
      "text/plain": [
       "IntProgress(value=0, max=200)"
      ]
     },
     "metadata": {},
     "output_type": "display_data"
    },
    {
     "data": {
      "application/vnd.jupyter.widget-view+json": {
       "model_id": "c231ecd9ad834254b8f95c356f282ef8",
       "version_major": 2,
       "version_minor": 0
      },
      "text/plain": [
       "IntProgress(value=0, max=200)"
      ]
     },
     "metadata": {},
     "output_type": "display_data"
    },
    {
     "data": {
      "application/vnd.jupyter.widget-view+json": {
       "model_id": "01bcee0a9a7a45d5bb540fd8be96d65b",
       "version_major": 2,
       "version_minor": 0
      },
      "text/plain": [
       "IntProgress(value=0, max=200)"
      ]
     },
     "metadata": {},
     "output_type": "display_data"
    },
    {
     "data": {
      "application/vnd.jupyter.widget-view+json": {
       "model_id": "dd0bcc337b394a1eac2d4d59dbeac08d",
       "version_major": 2,
       "version_minor": 0
      },
      "text/plain": [
       "IntProgress(value=0, max=200)"
      ]
     },
     "metadata": {},
     "output_type": "display_data"
    },
    {
     "data": {
      "application/vnd.jupyter.widget-view+json": {
       "model_id": "bdf37d844df9460f942e8965f81a9e02",
       "version_major": 2,
       "version_minor": 0
      },
      "text/plain": [
       "IntProgress(value=0, max=200)"
      ]
     },
     "metadata": {},
     "output_type": "display_data"
    },
    {
     "data": {
      "application/vnd.jupyter.widget-view+json": {
       "model_id": "cd73a0f66e8342cb9d5cec36a152fbfa",
       "version_major": 2,
       "version_minor": 0
      },
      "text/plain": [
       "IntProgress(value=0, max=200)"
      ]
     },
     "metadata": {},
     "output_type": "display_data"
    },
    {
     "name": "stdout",
     "output_type": "stream",
     "text": [
      "[2021-07-23 16:07:45.724595] : Sleep 15 minutes\n"
     ]
    },
    {
     "data": {
      "application/vnd.jupyter.widget-view+json": {
       "model_id": "d3e17cc2396546d5bdd38975a3e67e8f",
       "version_major": 2,
       "version_minor": 0
      },
      "text/plain": [
       "IntProgress(value=0, max=200)"
      ]
     },
     "metadata": {},
     "output_type": "display_data"
    },
    {
     "data": {
      "application/vnd.jupyter.widget-view+json": {
       "model_id": "88a4cefb49234ab3a6cde8732e49e5c6",
       "version_major": 2,
       "version_minor": 0
      },
      "text/plain": [
       "IntProgress(value=0, max=200)"
      ]
     },
     "metadata": {},
     "output_type": "display_data"
    },
    {
     "data": {
      "application/vnd.jupyter.widget-view+json": {
       "model_id": "b8071d3ec2ef469398a1e65d2b8b2604",
       "version_major": 2,
       "version_minor": 0
      },
      "text/plain": [
       "IntProgress(value=0, max=200)"
      ]
     },
     "metadata": {},
     "output_type": "display_data"
    },
    {
     "data": {
      "application/vnd.jupyter.widget-view+json": {
       "model_id": "4f23b6387e344bf384905376b02b04dc",
       "version_major": 2,
       "version_minor": 0
      },
      "text/plain": [
       "IntProgress(value=0, max=200)"
      ]
     },
     "metadata": {},
     "output_type": "display_data"
    },
    {
     "data": {
      "application/vnd.jupyter.widget-view+json": {
       "model_id": "27cf522208a94d968e867f7b6bebd5f4",
       "version_major": 2,
       "version_minor": 0
      },
      "text/plain": [
       "IntProgress(value=0, max=200)"
      ]
     },
     "metadata": {},
     "output_type": "display_data"
    },
    {
     "data": {
      "application/vnd.jupyter.widget-view+json": {
       "model_id": "06f247e5985d4b6f8fddf73bedd3a9cf",
       "version_major": 2,
       "version_minor": 0
      },
      "text/plain": [
       "IntProgress(value=0, max=200)"
      ]
     },
     "metadata": {},
     "output_type": "display_data"
    },
    {
     "data": {
      "application/vnd.jupyter.widget-view+json": {
       "model_id": "818762695f6c4b778b622fceaf5b0049",
       "version_major": 2,
       "version_minor": 0
      },
      "text/plain": [
       "IntProgress(value=0, max=200)"
      ]
     },
     "metadata": {},
     "output_type": "display_data"
    },
    {
     "data": {
      "application/vnd.jupyter.widget-view+json": {
       "model_id": "d5ab170bee7e4c06bd6025f5231b8424",
       "version_major": 2,
       "version_minor": 0
      },
      "text/plain": [
       "IntProgress(value=0, max=200)"
      ]
     },
     "metadata": {},
     "output_type": "display_data"
    },
    {
     "data": {
      "application/vnd.jupyter.widget-view+json": {
       "model_id": "8e2d33cdcfcf43f68339fc2e78b33f0b",
       "version_major": 2,
       "version_minor": 0
      },
      "text/plain": [
       "IntProgress(value=0, max=200)"
      ]
     },
     "metadata": {},
     "output_type": "display_data"
    },
    {
     "name": "stdout",
     "output_type": "stream",
     "text": [
      "[2021-07-23 16:30:51.034710] : Sleep 15 minutes\n"
     ]
    },
    {
     "data": {
      "application/vnd.jupyter.widget-view+json": {
       "model_id": "5130aae93e8f4b66b55e746ba8df2779",
       "version_major": 2,
       "version_minor": 0
      },
      "text/plain": [
       "IntProgress(value=0, max=200)"
      ]
     },
     "metadata": {},
     "output_type": "display_data"
    },
    {
     "data": {
      "application/vnd.jupyter.widget-view+json": {
       "model_id": "b693ff0484ec4b3b8fdac3854d253a18",
       "version_major": 2,
       "version_minor": 0
      },
      "text/plain": [
       "IntProgress(value=0, max=200)"
      ]
     },
     "metadata": {},
     "output_type": "display_data"
    },
    {
     "data": {
      "application/vnd.jupyter.widget-view+json": {
       "model_id": "e4516626dcb948c3b75dc3077645453f",
       "version_major": 2,
       "version_minor": 0
      },
      "text/plain": [
       "IntProgress(value=0, max=200)"
      ]
     },
     "metadata": {},
     "output_type": "display_data"
    },
    {
     "data": {
      "application/vnd.jupyter.widget-view+json": {
       "model_id": "170afb694c4148f0af13e5961c776745",
       "version_major": 2,
       "version_minor": 0
      },
      "text/plain": [
       "IntProgress(value=0, max=200)"
      ]
     },
     "metadata": {},
     "output_type": "display_data"
    },
    {
     "data": {
      "application/vnd.jupyter.widget-view+json": {
       "model_id": "8cb3bd44b71f4966badf72a2c68e14f4",
       "version_major": 2,
       "version_minor": 0
      },
      "text/plain": [
       "IntProgress(value=0, max=200)"
      ]
     },
     "metadata": {},
     "output_type": "display_data"
    },
    {
     "data": {
      "application/vnd.jupyter.widget-view+json": {
       "model_id": "835faf5ed4fd408ba53943f24dc3c7d7",
       "version_major": 2,
       "version_minor": 0
      },
      "text/plain": [
       "IntProgress(value=0, max=200)"
      ]
     },
     "metadata": {},
     "output_type": "display_data"
    },
    {
     "data": {
      "application/vnd.jupyter.widget-view+json": {
       "model_id": "5340f9838a0544adbaee405730d295f3",
       "version_major": 2,
       "version_minor": 0
      },
      "text/plain": [
       "IntProgress(value=0, max=200)"
      ]
     },
     "metadata": {},
     "output_type": "display_data"
    },
    {
     "data": {
      "application/vnd.jupyter.widget-view+json": {
       "model_id": "21b8f5fb9c21470b91682a5107f560da",
       "version_major": 2,
       "version_minor": 0
      },
      "text/plain": [
       "IntProgress(value=0, max=200)"
      ]
     },
     "metadata": {},
     "output_type": "display_data"
    },
    {
     "data": {
      "application/vnd.jupyter.widget-view+json": {
       "model_id": "bc6a3cfb69194a93870645a74b9cb651",
       "version_major": 2,
       "version_minor": 0
      },
      "text/plain": [
       "IntProgress(value=0, max=200)"
      ]
     },
     "metadata": {},
     "output_type": "display_data"
    },
    {
     "name": "stdout",
     "output_type": "stream",
     "text": [
      "[2021-07-23 16:54:00.984916] : Sleep 15 minutes\n"
     ]
    }
   ],
   "source": [
    "try:\n",
    "    while True:\n",
    "        # Sleep 15 minutes because the tweet scrapping limit is reset every 15 minutes\n",
    "        print(f\"[{pd.Timestamp.now()}] : Sleep 15 minutes\")\n",
    "        time.sleep(60*15)\n",
    "        \n",
    "        for i in range(8):\n",
    "            since = pd.Timestamp.now().date() - pd.Timedelta(i+1, unit='d')\n",
    "            until = pd.Timestamp.now().date() - pd.Timedelta(i, unit='d')\n",
    "            lang = 'fr' # en\n",
    "            min_retweets = 10\n",
    "            n_returns = 200 # 25000 scrap / 15 minutes\n",
    "\n",
    "            tweet_list, hashtags_list = get_random_tweets(API_keys, api, since, until, min_retweets, lang=lang, n_returns=n_returns)\n",
    "\n",
    "            # Convert to pandas.DataFrame\n",
    "            hashtags = pd.DataFrame(hashtags_list, columns=[\"hashtag\", \"date\"])\n",
    "            tweet_list = pd.DataFrame(tweet_list)\n",
    "\n",
    "            # Save to CSV\n",
    "            timestamp = int(pd.Timestamp.timestamp(pd.Timestamp.now()))\n",
    "            tweet_list.to_csv(f'./Data/twitter/scraping-tweets-{timestamp}.csv', header=True)\n",
    "            hashtags.to_csv(f'./Data/twitter/scraping-hashtags-{timestamp}.csv', header=True)\n",
    "\n",
    "            # Save to the API database\n",
    "            push_to_API(hashtags)\n",
    "                        \n",
    "        # get now tweets\n",
    "        since = pd.Timestamp.now().date()\n",
    "        until = pd.Timestamp.now().date() + pd.Timedelta(1, unit='d')\n",
    "        tweet_list, hashtags_list = get_random_tweets(API_keys, api, since, until, min_retweets, lang=lang, n_returns=n_returns)\n",
    "\n",
    "        # Convert to pandas.DataFrame\n",
    "        push_to_API(pd.DataFrame(hashtags_list, columns=[\"hashtag\", \"date\"]))\n",
    "except KeyboardInterrupt:\n",
    "    pass\n",
    "\n",
    "# Show the top hashtags head\n",
    "print(hashtags.hashtag.value_counts().head(20))\n",
    "    \n",
    "# Show the data head\n",
    "tweet_list.head()"
   ]
  },
  {
   "cell_type": "code",
   "execution_count": null,
   "id": "176fd070-faaa-4273-a18a-ea56ea23eed3",
   "metadata": {},
   "outputs": [],
   "source": []
  },
  {
   "cell_type": "code",
   "execution_count": null,
   "id": "f1548f8e-16fa-45bc-af91-1ff6e9ff3106",
   "metadata": {},
   "outputs": [],
   "source": []
  },
  {
   "cell_type": "markdown",
   "id": "8ee0f8ec-2283-40b8-875b-0a2462ba7f4c",
   "metadata": {},
   "source": [
    "[Back to top](#top)\n",
    "\n",
    "---"
   ]
  },
  {
   "cell_type": "markdown",
   "id": "b1a7795f-0baf-4e96-a196-57b9e8f29c7b",
   "metadata": {},
   "source": [
    "Thibault **Santonja**\n",
    "\n",
    "2021"
   ]
  }
 ],
 "metadata": {
  "kernelspec": {
   "display_name": "Python 3",
   "language": "python",
   "name": "python3"
  },
  "language_info": {
   "codemirror_mode": {
    "name": "ipython",
    "version": 3
   },
   "file_extension": ".py",
   "mimetype": "text/x-python",
   "name": "python",
   "nbconvert_exporter": "python",
   "pygments_lexer": "ipython3",
   "version": "3.8.8"
  }
 },
 "nbformat": 4,
 "nbformat_minor": 5
}
