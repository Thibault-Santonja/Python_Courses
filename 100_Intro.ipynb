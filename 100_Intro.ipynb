{
 "cells": [
  {
   "cell_type": "markdown",
   "metadata": {},
   "source": [
    "Python, mon amour\n",
    "===\n",
    "\n",
    "Python, c'est trop cool. Voilà. ... ... Quoi je ne suis pas objectif ? ... ok je vais plus expliciter.\n",
    "\n",
    "Alors Python, pourquoi une si grande hype ? C'est plutot simple :\n",
    "1. Le language est très \"verbeux\", c'est à dire qu'il est facilement compréhensible même pour un néophite\n",
    "2. C'est un langage très puissant et rapide (l'un des plus rapide à l'exception du C/C++)\n",
    "3. C'est très simple d'utilisation\n",
    "4. La communauté est très grande et permet d'avoir un grand support et beaucoup de librairies puissantes, notamment pour la manipulation de données\n",
    "\n",
    "De manière générale, en ce moment, c'est l'un des langage les plus utilisé et aimé, si ce n'est le plus.\n",
    "\n",
    "Allez, c'est parti, commençons !"
   ]
  },
  {
   "cell_type": "markdown",
   "metadata": {},
   "source": [
    "---\n",
    "---\n",
    "---"
   ]
  },
  {
   "cell_type": "markdown",
   "metadata": {},
   "source": [
    "Base\n",
    "- [x] Variables and Data Types\n",
    "- [x] Lists\n",
    "- [x] Loops\n",
    "- [x] Conditional Statements (If-else)\n",
    "- [x] Dictionaries and Frequency Tables\n",
    "- [x] Functions\n",
    "\n",
    "Advanced\n",
    "- [ ] OOP\n",
    "- [ ] Test\n",
    "- [x] Numpy\n",
    "- [ ] Pandas\n",
    "- [ ] Yield & Python Generators\n",
    "\n",
    "Algorithms\n",
    "- [x] Design Patterns\n",
    "\n",
    "![](https://puu.sh/HNfcE/96a1cfedc4.png)"
   ]
  },
  {
   "cell_type": "markdown",
   "metadata": {},
   "source": [
    "# Choix de parcours\n",
    "cours 1 : intro de Python à savoir et surtout bien comprendre avant de continuer.  \n",
    "cours 2.1 : Après, il est plutot intéressant et important de faire la première partie du second cours sur la POO. En effet, la POO revient régulièrement et comprendre la base peu s'avérer très utile (en plus c'est très court !)  \n",
    "\n",
    "Suite : Et ensuite ? Ensuite, tout dépend du parcours choisi :\n",
    "- Plutot **Software**, alors la POO, les design patterns et les tests sont importants + la partie avancée si besoin\n",
    "- Plutot **Web**, alors la POO et les test sont importants + la partie avancée et design patterns si besoin\n",
    "- Plutot **Data**, alors la partie Numpy est très importante + la partie avancée et POO si besoin\n",
    "- Pultot **Robotique**, alors la partie POO, Numpy, une partie de l'avancé (les yields notamment) et test sont importantes + les design patterns si besoin \n",
    "\n",
    "Bref, tout dépends de ce que vous souhaitez en faire. Dans tous les cas, tout peut être intéressant à lire donc n'hésitez pas !"
   ]
  },
  {
   "cell_type": "code",
   "execution_count": 1,
   "metadata": {},
   "outputs": [
    {
     "name": "stdout",
     "output_type": "stream",
     "text": [
      "3 1\n",
      "0 1 2.5\n",
      "[1, 5, 2, 4]\n",
      "[4, 2, 5, 1]\n",
      "[1, 2, 4, 5]\n",
      "[1, 2, 4, 5, 6, 7, 8]\n",
      "\n",
      "\n",
      "\n",
      "{'dictt[42]': 'la réponse', \"dictt.get('b')\": 3, 'dictt.items()': dict_items([('a', 1), ('b', 2), ('d', 4)]), 'dictt.keys()': dict_keys(['a', 'b', 'd']), 'dictt.values()': dict_values([1, 2, 4])} la réponse ('c', 6) None {'a': 1, 'b': 2, 'd': 4}\n",
      "\n",
      "\n",
      "\n",
      "banana {'cherry', 'apple'} {'banana'} {'cherry', 'apple', 'banana', 'pineapple'}\n",
      "\n",
      "\n",
      "\n",
      "eee bbb a bcdef abcde ae fdb (42, 4, 2, 4.2)\n",
      "\n",
      "\n",
      "\n",
      "eghjl\n"
     ]
    },
    {
     "data": {
      "text/plain": [
       "(['abc', 'defg', 'hijklm', 'nop', 'qrstu', 'vw', 'xyz'], 'eghjl', None)"
      ]
     },
     "execution_count": 1,
     "metadata": {},
     "output_type": "execute_result"
    }
   ],
   "source": [
    "listt = [1, 2, 3]\n",
    "print(max(listt), min(listt)), listt.append(4), print(listt.index(1), listt.count(1), sum(listt) / len(listt)),\n",
    "listt.insert(1, 5), listt.pop(3), print(listt), listt.reverse(), print(listt), listt.sort()\n",
    "print(listt), listt.extend([6,7,8]), print(listt);\n",
    "\n",
    "print('\\n\\n')\n",
    "\n",
    "dictt = {'a': 1, 'b': 3, 'c': 6, 42: 'la réponse'}\n",
    "print({\"dictt[42]\": dictt[42], \"dictt.get('b')\": dictt.get('b'), \"dictt.items()\":dictt.items(), \"dictt.keys()\":dictt.keys(), \n",
    " \"dictt.values()\":dictt.values()}, dictt.pop(42), dictt.popitem(), dictt.update({'b': 2, 'd': 4}), dictt)\n",
    "\n",
    "print('\\n\\n')\n",
    "\n",
    "tuplee = (\"apple\", \"banana\", \"cherry\")  # inmodifiable, less place than list and faster \n",
    "sett = {\"apple\", \"banana\", \"cherry\"}\n",
    "print(tuplee[1], sett.difference({'banana', 'pineapple'}), sett.intersection({'banana', 'pineapple'}), sett.union({'banana', 'pineapple'}))\n",
    "\n",
    "print('\\n\\n')\n",
    "\n",
    "# base type : int, lang, float, complex, str, bytes, byte array, list, tuple, set, frozenset, dict\n",
    "# \"pass\" statement is used as a placeholder for future code\n",
    "print(''.join(['eee', ' ', 'bbb']), 'abcdef'[:1], 'abcdef'[1:], 'abcdef'[:-1], 'abcdef'[0::4], 'abcdef'[len('abcdef')::-2], (42, 42 // 10, 42 % 10, 42/10))\n",
    "\n",
    "print('\\n\\n')\n",
    "\n",
    "'abc defg hijklm nop qrstu vw xyz'.split(), 'abc defg hijklm nop qrstu vw xyz'[slice(5, 15, 2)], \\\n",
    "print('abc defg hijklm nop qrstu vw xyz'[5:15][::2])"
   ]
  },
  {
   "cell_type": "code",
   "execution_count": null,
   "metadata": {},
   "outputs": [],
   "source": []
  },
  {
   "cell_type": "code",
   "execution_count": null,
   "metadata": {},
   "outputs": [],
   "source": []
  },
  {
   "cell_type": "code",
   "execution_count": null,
   "metadata": {},
   "outputs": [],
   "source": []
  },
  {
   "cell_type": "markdown",
   "metadata": {},
   "source": [
    "---"
   ]
  },
  {
   "cell_type": "markdown",
   "metadata": {},
   "source": [
    "Thibault **Santonja**  \n",
    "2021"
   ]
  }
 ],
 "metadata": {
  "kernelspec": {
   "display_name": "Python 3",
   "language": "python",
   "name": "python3"
  },
  "language_info": {
   "codemirror_mode": {
    "name": "ipython",
    "version": 3
   },
   "file_extension": ".py",
   "mimetype": "text/x-python",
   "name": "python",
   "nbconvert_exporter": "python",
   "pygments_lexer": "ipython3",
   "version": "3.8.5"
  }
 },
 "nbformat": 4,
 "nbformat_minor": 4
}
