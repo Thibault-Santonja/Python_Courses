{
 "cells": [
  {
   "cell_type": "markdown",
   "metadata": {},
   "source": [
    "Le test\n",
    "===\n",
    "\n",
    "# 3. Testing Your Code  <a class=\"anchor\" id=\"Test\"></a>\n",
    "\n",
    "Testing your code is very important.\n",
    "\n",
    "Getting used to writing testing code and running this code in parallel is now considered a good habit. Used wisely, this method helps to define your code’s intent more precisely and have a more decoupled architecture.\n",
    "\n",
    "Some general rules of testing:\n",
    "\n",
    "- A testing unit should focus on one tiny bit of functionality and prove it correct.\n",
    "- Each test unit must be fully independent. Each test must be able to run alone, and also within the test suite, regardless of the order that they are called. The implication of this rule is that each test must be loaded with a fresh dataset and may have to do some cleanup afterwards. This is usually handled by setUp() and tearDown() methods.\n",
    "- Try hard to make tests that run fast. If one single test needs more than a few milliseconds to run, development will be slowed down or the tests will not be run as often as is desirable. In some cases, tests can’t be fast because they need a complex data structure to work on, and this data structure must be loaded every time the test runs. Keep these heavier tests in a separate test suite that is run by some scheduled task, and run all other tests as often as needed.\n",
    "- Learn your tools and learn how to run a single test or a test case. Then, when developing a function inside a module, run this function’s tests frequently, ideally automatically when you save the code.\n",
    "- Always run the full test suite before a coding session, and run it again after. This will give you more confidence that you did not break anything in the rest of the code.\n",
    "- It is a good idea to implement a hook that runs all tests before pushing code to a shared repository.\n",
    "- If you are in the middle of a development session and have to interrupt your work, it is a good idea to write a broken unit test about what you want to develop next. When coming back to work, you will have a pointer to where you were and get back on track faster.\n",
    "- The first step when you are debugging your code is to write a new test pinpointing the bug. While it is not always possible to do, those bug catching tests are among the most valuable pieces of code in your project.\n",
    "- Use long and descriptive names for testing functions. The style guide here is slightly different than that of running code, where short names are often preferred. The reason is testing functions are never called explicitly. square() or even sqr() is ok in running code, but in testing code you would have names such as test_square_of_number_2(), test_square_negative_number(). These function names are displayed when a test fails, and should be as descriptive as possible.\n",
    "- When something goes wrong or has to be changed, and if your code has a good set of tests, you or other maintainers will rely largely on the testing suite to fix the problem or modify a given behavior. Therefore the testing code will be read as much as or even more than the running code. A unit test whose purpose is unclear is not very helpful in this case.\n",
    "- Another use of the testing code is as an introduction to new developers. When someone will have to work on the code base, running and reading the related testing code is often the best thing that they can do to start. They will or should discover the hot spots, where most difficulties arise, and the corner cases. If they have to add some functionality, the first step should be to add a test to ensure that the new functionality is not already a working path that has not been plugged into the interface.\n",
    "\n",
    "# TODO   TODO   TODO   TODO   TODO\n",
    "\n",
    "\n",
    "## 4.1. UnitTest\n",
    "```python\n",
    "import unittest\n",
    "\n",
    "addtwo = lambda x: x + 2\n",
    "\n",
    "class LambdaTest(unittest.TestCase):\n",
    "    def test_add_two(self):\n",
    "        self.assertEqual(addtwo(2), 4)\n",
    "\n",
    "    def test_add_two_point_two(self):\n",
    "        self.assertEqual(addtwo(2.2), 4.2)\n",
    "\n",
    "    def test_add_three(self):\n",
    "        # Should fail\n",
    "        self.assertEqual(addtwo(3), 6)\n",
    "\n",
    "unittest.main(verbosity=2)\n",
    "```\n",
    "\n",
    "## 4.2. Doctest"
   ]
  },
  {
   "cell_type": "code",
   "execution_count": 1,
   "metadata": {},
   "outputs": [
    {
     "name": "stdout",
     "output_type": "stream",
     "text": [
      "Trying:\n",
      "    addtwo(2)\n",
      "Expecting:\n",
      "    4\n",
      "ok\n",
      "Trying:\n",
      "    addtwo(2.2)\n",
      "Expecting:\n",
      "    4.2\n",
      "ok\n",
      "Trying:\n",
      "    addtwo(3) # Should fail\n",
      "Expecting:\n",
      "    6\n",
      "**********************************************************************\n",
      "File \"__main__\", line 7, in __main__.addtwo\n",
      "Failed example:\n",
      "    addtwo(3) # Should fail\n",
      "Expected:\n",
      "    6\n",
      "Got:\n",
      "    5\n",
      "1 items had no tests:\n",
      "    __main__\n",
      "**********************************************************************\n",
      "1 items had failures:\n",
      "   1 of   3 in __main__.addtwo\n",
      "3 tests in 2 items.\n",
      "2 passed and 1 failed.\n",
      "***Test Failed*** 1 failures.\n"
     ]
    }
   ],
   "source": [
    "addtwo = lambda x: x + 2\n",
    "addtwo.__doc__ = \"\"\"Add 2 to a number.\n",
    "    >>> addtwo(2)\n",
    "    4\n",
    "    >>> addtwo(2.2)\n",
    "    4.2\n",
    "    >>> addtwo(3) # Should fail\n",
    "    6\n",
    "    \"\"\"\n",
    "\n",
    "if __name__ == '__main__':\n",
    "    import doctest\n",
    "    doctest.testmod(verbose=True)"
   ]
  },
  {
   "cell_type": "markdown",
   "metadata": {},
   "source": [
    "## 4.3. Python DeBug (PDB)\n",
    "\n",
    "```python\n",
    "import pdb  # Python DeBug\n",
    "pdb.set_trace();  # launch debug mode\n",
    "```"
   ]
  },
  {
   "cell_type": "code",
   "execution_count": null,
   "metadata": {},
   "outputs": [],
   "source": []
  },
  {
   "cell_type": "code",
   "execution_count": null,
   "metadata": {},
   "outputs": [],
   "source": []
  },
  {
   "cell_type": "code",
   "execution_count": null,
   "metadata": {},
   "outputs": [],
   "source": []
  },
  {
   "cell_type": "code",
   "execution_count": null,
   "metadata": {},
   "outputs": [],
   "source": []
  },
  {
   "cell_type": "code",
   "execution_count": null,
   "metadata": {},
   "outputs": [],
   "source": []
  },
  {
   "cell_type": "markdown",
   "metadata": {},
   "source": [
    "---"
   ]
  },
  {
   "cell_type": "markdown",
   "metadata": {},
   "source": [
    "Thibault **Santonja**  \n",
    "2021"
   ]
  }
 ],
 "metadata": {
  "kernelspec": {
   "display_name": "Python 3",
   "language": "python",
   "name": "python3"
  },
  "language_info": {
   "codemirror_mode": {
    "name": "ipython",
    "version": 3
   },
   "file_extension": ".py",
   "mimetype": "text/x-python",
   "name": "python",
   "nbconvert_exporter": "python",
   "pygments_lexer": "ipython3",
   "version": "3.8.5"
  }
 },
 "nbformat": 4,
 "nbformat_minor": 4
}
