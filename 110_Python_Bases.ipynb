{
 "cells": [
  {
   "cell_type": "markdown",
   "metadata": {},
   "source": [
    "Python, Les bases<a id=\"top\"></a>\n",
    "===\n",
    "\n",
    "Dans ce premier chapitre, on va voir un peut toutes les bases de Python : \n",
    "- les variables\n",
    "- les conditions\n",
    "- les listes\n",
    "- les boucles\n",
    "- les fonctions\n",
    "- Et cetera ...\n",
    "\n",
    "Bref un peu tout ! Il n'est pas nécessaire de tout retenir par coeur, mais plutot de se souvenir que ça existe et savoir où rechercher l'information (spoil : dans la documentation), comprendre le fonctionnement et donc savoir à quoi cela sert. En effet, à part si vous manipulez le langage tous les jours depuis plusieurs mois ou même années, sinon il est peut probable de se souvenir par coeur de tout. Et même si vous connaissez parfaitement cela, vous utiliserez ensuite des librairies apportant plus de concepts, plus de fonctions et donc plus de choses à retenir. \n",
    "\n",
    "Bref, retenez bien qu'il n'est pas nécessaire d'apprendre par coeur le langage (puis les librairies) mais plutot de comprendre la logique et savoir où cherche quelle information. Et donc, \"où chercher ?\", \"c'est quoi cette 'doc' ?\", c'est simplement le \"[manuel d'utilisation](https://docs.python.org/3/reference/)\" du langage et de ses fonctions. N'hésitez pas à visiter ce lien aussi souvent que nécéssaire ! D'ailleurs, plus tard, il en sera de même avec tout ce que nous verons. Nous verrons par exemple les librairies Pandas et Numpy, qui sont deux des principales librairies de Python, et il faurdra aussi penser à visiter la documentation.\n",
    "\n",
    "Commençons dès maintenant ! N'hésitez pas si vous connaissez déjà à regarder en diagonale, vous apprendrez peut etre quelque chose !\n",
    "\n",
    "---\n",
    "\n",
    "**Sommaire**\n",
    "- [1. Les variables](#chap1PyBase)\n",
    "- [2. Fonctions](#chap2PyBase)\n",
    "- [3. Condition if... else...](#chap3PyBase)\n",
    "- [4. Boucle : for ](#chap4PyBase)\n",
    "- [5. Boucle : while ](#chap5PyBase)\n",
    "- [6. Liste & Tuples ](#chap6PyBase)\n",
    "- [7. Séquences & Slicing ](#chap7PyBase)\n",
    "- [8. Listes et fonctions intégrées ](#chap8PyBase)\n",
    "- [9. If, For & listes](#chap9PyBase)\n",
    "- [10. Les dictionnaires](#chap10PyBase)\n",
    "- [11. Operation Comprehension](#chap11PyBase)\n",
    "- [12. Built-in functions ](#chap12PyBase)\n",
    "- [13. Modules & Package](#chap13PyBase)\n",
    "- [14. Conclusion](#chap14PyBase)"
   ]
  },
  {
   "cell_type": "markdown",
   "metadata": {},
   "source": [
    "[Back to top](#top)\n",
    "\n",
    "---\n",
    "\n",
    "# 1. Variables  <a id=\"chap1PyBase\"></a>\n",
    "\n",
    "Python n'est pas un langage où l'on a besoin de \"typer\" les variables. Le typage, c'est le fait de définir si une variable est de type entier, réel...\n",
    "\n",
    "Lorsque l'on souhaite créer une variable en Python, nous devons lui assigner une première valeur, qui déterminera son type. Ensuite, nous pourrons modifier sa valeur, la faire \"varier\" (parce que c'est une variable... donc c'est variable...), et surtout, nous pouvons lui donner un autre type ! Et oui, Python n'est pas très exigeant sur les types !"
   ]
  },
  {
   "cell_type": "code",
   "execution_count": 1,
   "metadata": {},
   "outputs": [
    {
     "data": {
      "text/plain": [
       "1"
      ]
     },
     "execution_count": 1,
     "metadata": {},
     "output_type": "execute_result"
    }
   ],
   "source": [
    "a = 1\n",
    "a"
   ]
  },
  {
   "cell_type": "code",
   "execution_count": 2,
   "metadata": {},
   "outputs": [
    {
     "name": "stdout",
     "output_type": "stream",
     "text": [
      "2\n",
      "3\n",
      "3.5\n"
     ]
    }
   ],
   "source": [
    "# On va changer la valeur :\n",
    "a = 2\n",
    "print(a)  # C'est un entier\n",
    "\n",
    "# Une seconde fois même !\n",
    "a += 1  # C'est l'équivalent de : a = a + 1 \n",
    "print(a)  # 'a', reste un entier\n",
    "\n",
    "# On va changer le type :\n",
    "a += 0.5\n",
    "print(a)  # 'a' devient un réel !"
   ]
  },
  {
   "cell_type": "markdown",
   "metadata": {},
   "source": [
    "**Arithmétique basique**  \n",
    "\n",
    "On a commencé à le voir avec `a += 1`, mais voyons la suite. Rien de bien compliqué :"
   ]
  },
  {
   "cell_type": "code",
   "execution_count": 3,
   "metadata": {},
   "outputs": [
    {
     "name": "stdout",
     "output_type": "stream",
     "text": [
      "7\n",
      "3\n",
      "10\n",
      "2.5\n",
      "25\n",
      "2\n"
     ]
    }
   ],
   "source": [
    "a = 5\n",
    "print(a + 2)\n",
    "print(a - 2)\n",
    "print(a * 2)\n",
    "print(a / 2)\n",
    "print(a ** 2)  # Puissance\n",
    "print(a // 2)  # Division entière"
   ]
  },
  {
   "cell_type": "markdown",
   "metadata": {},
   "source": [
    "**Comparaison logique**  \n",
    "\n",
    "De même, tout aussi simple et logique, voyons les comparaisons !"
   ]
  },
  {
   "cell_type": "code",
   "execution_count": 4,
   "metadata": {},
   "outputs": [
    {
     "name": "stdout",
     "output_type": "stream",
     "text": [
      "True\n",
      "False\n",
      "True\n",
      "True\n",
      "False\n",
      "False\n"
     ]
    }
   ],
   "source": [
    "print(a == 5)\n",
    "print(a != 5)  # Différene\n",
    "print(a <= 5)\n",
    "print(a >= 5)\n",
    "print(a > 5)\n",
    "print(a < 5)"
   ]
  },
  {
   "cell_type": "markdown",
   "metadata": {},
   "source": [
    "**Opérations logiques (Algèbre de Boole)**  \n",
    "\n",
    "Continuons avec les opérations logiques.  \n",
    "Pour plus d'infos sur le fonctionnement des opérateur logiques, n'hésitez pas à faire un tour sur un cours en ligne ou [Wikipédia](https://fr.wikipedia.org/wiki/Alg%C3%A8bre_de_Boole_(logique))."
   ]
  },
  {
   "cell_type": "code",
   "execution_count": 5,
   "metadata": {},
   "outputs": [
    {
     "name": "stdout",
     "output_type": "stream",
     "text": [
      "False\n",
      "True\n",
      "True\n"
     ]
    }
   ],
   "source": [
    "print(True & False)  # AND\n",
    "print(True | False)  # OR\n",
    "print(True ^ False)  # XOR"
   ]
  },
  {
   "cell_type": "markdown",
   "metadata": {},
   "source": [
    "**Les types**\n",
    "\n",
    "BTW, on n'a pas encore parlé des types, faisons un petit tour de ces derniers :"
   ]
  },
  {
   "cell_type": "code",
   "execution_count": 6,
   "metadata": {},
   "outputs": [],
   "source": [
    "# Types de base\n",
    "a = 1  # entier, int\n",
    "a = 1.0  # réel, float\n",
    "a = '1'  # chaine de caractère, string\n",
    "a = True  # Booléen, boolean"
   ]
  },
  {
   "cell_type": "markdown",
   "metadata": {},
   "source": [
    "[Back to top](#top)\n",
    "\n",
    "---\n",
    "\n",
    "# 2. Fonctions  <a id=\"chap2PyBase\"></a>\n",
    "\n",
    "Passons une marche un peu supérieure, passons aux fonctions ! Une première méthode pour en créer une que l'on va simplement mentionner, est d'utiliser les `lambda`. Les lambdas fonctions sont parfois utiles et vous pouvez parfois les croiser sur internet. La structure est simple :  \n",
    "\n",
    "```python\n",
    "ma_lambda = lambda mes_variables : mes_calculs\n",
    "ma_lambda(une_variable)\n",
    "```"
   ]
  },
  {
   "cell_type": "code",
   "execution_count": 7,
   "metadata": {},
   "outputs": [
    {
     "data": {
      "text/plain": [
       "8"
      ]
     },
     "execution_count": 7,
     "metadata": {},
     "output_type": "execute_result"
    }
   ],
   "source": [
    "f = lambda x, y, z: x**2 + y*2 + z\n",
    "f(1, 2, 3)"
   ]
  },
  {
   "cell_type": "markdown",
   "metadata": {},
   "source": [
    "MAIS, ce qu'il faut surtout retenir c'est la structure de base de déclaration de fonctions :\n",
    "```python\n",
    "def ma_fonction(mes_variables):\n",
    "    mes_calculs\n",
    "```\n",
    "\n",
    "Je vais aussi tout de suite introduire deux mots clefs : \n",
    "- `return` : arrête la fonction et, s'il y a des variables données après, elle les retourne.\n",
    "- `pass` : ne fait rien, généralement utilisé pour dire que l'on mettra du contenu plus tard."
   ]
  },
  {
   "cell_type": "code",
   "execution_count": 8,
   "metadata": {},
   "outputs": [],
   "source": [
    "def fonction_a_definir():\n",
    "    pass\n",
    "\n",
    "fonction_a_definir()  # Il n'y a donc rien, mais on peut appeler la fonction"
   ]
  },
  {
   "cell_type": "code",
   "execution_count": 9,
   "metadata": {},
   "outputs": [
    {
     "name": "stdout",
     "output_type": "stream",
     "text": [
      "Bonjour Lulu\n"
     ]
    }
   ],
   "source": [
    "def fonction_qui_ne_retourne_rien(nom):\n",
    "    print('Bonjour', nom)\n",
    "    \n",
    "fonction_qui_ne_retourne_rien('Lulu')  # execute la fonction qui fait le print()"
   ]
  },
  {
   "cell_type": "code",
   "execution_count": 10,
   "metadata": {},
   "outputs": [
    {
     "name": "stdout",
     "output_type": "stream",
     "text": [
      "Bonjour Lulu\n"
     ]
    }
   ],
   "source": [
    "def fonction_qui_ne_retourne_rien_bis(nom):\n",
    "    print('Bonjour', nom)\n",
    "    return\n",
    "    print('Au revoir', nom)  # Ne sera pas executé car le return est avant\n",
    "    \n",
    "fonction_qui_ne_retourne_rien_bis('Lulu')"
   ]
  },
  {
   "cell_type": "code",
   "execution_count": 11,
   "metadata": {},
   "outputs": [
    {
     "name": "stdout",
     "output_type": "stream",
     "text": [
      "conversion km à miles: 62.137100000000004\n"
     ]
    }
   ],
   "source": [
    "# Testons avec une vraie fonction plus intéressante :\n",
    "def km_to_miles(km, miles=0.621371):\n",
    "    return km * miles  # Renvoi le résultat du calcul\n",
    "\n",
    "print('conversion km à miles:', km_to_miles(100))"
   ]
  },
  {
   "cell_type": "markdown",
   "metadata": {},
   "source": [
    "à noter ici qu'il faut faire attention à **l'indentation**! Toutes les lignes décalées appartiennent à la fonction. Si on supprime l'indentation, on sort de la fonction !\n",
    "\n",
    "Notons aussi que `resultat` est une variable locale et non globale, nous ne pourrons donc pas la réutiliser en dehors de la fonction.\n",
    "\n",
    "Notons aussi que `km` est un keyword de la fonction. Pour ne pas se perdre et bien comprendre ce que l'on fait, il peut être intéressant de les renoter quand on appelle la fonction :\n",
    "```python\n",
    "def km_to_miles(km, miles=0.621371):\n",
    "    resultat = km * miles\n",
    "    return resultat\n",
    "\n",
    "km_to_miles(km=100)\n",
    "```\n",
    "\n",
    "Enfin, notons que `miles` est initialisé de base dans la fonction car c'est une constante. Mais on pourrait changer la valeure de cette manière :\n",
    "```python\n",
    "def km_to_miles(km, miles=0.621371):\n",
    "    resultat = km * miles\n",
    "    return resultat\n",
    "\n",
    "km_to_miles(km=100, miles=0.8)\n",
    "```\n",
    "\n",
    "Maintenant, à vous de jouer !\n",
    "> un exercice sympa pourrait être de créer une fonction qui calcul le temps restant de trajet suivant la distance restante et notre vitesse !"
   ]
  },
  {
   "cell_type": "code",
   "execution_count": null,
   "metadata": {},
   "outputs": [],
   "source": []
  },
  {
   "cell_type": "markdown",
   "metadata": {},
   "source": [
    "[Back to top](#top)\n",
    "\n",
    "---\n",
    "\n",
    "# 3. Condition `if... else...` <a id=\"chap3PyBase\"></a>\n",
    "\n",
    "C'est très simple, on va tester la condition, si elle est vrai, la suite s'execute. Sinon, s'il y a un else, on execute la suite :"
   ]
  },
  {
   "cell_type": "code",
   "execution_count": 12,
   "metadata": {},
   "outputs": [
    {
     "name": "stdout",
     "output_type": "stream",
     "text": [
      "1 > 0\n"
     ]
    }
   ],
   "source": [
    "if 1 > 0:\n",
    "    print('1 > 0')\n",
    "    \n",
    "if 1 > 5:\n",
    "    print('1 > 5')"
   ]
  },
  {
   "cell_type": "markdown",
   "metadata": {},
   "source": [
    "Et donc le else ?"
   ]
  },
  {
   "cell_type": "code",
   "execution_count": 13,
   "metadata": {},
   "outputs": [
    {
     "name": "stdout",
     "output_type": "stream",
     "text": [
      "1 n'est pas plus grand que 5...\n"
     ]
    }
   ],
   "source": [
    "if 1 > 5:\n",
    "    print('1 > 5')\n",
    "else:\n",
    "    print(\"1 n'est pas plus grand que 5...\")"
   ]
  },
  {
   "cell_type": "markdown",
   "metadata": {},
   "source": [
    "Et en combinant les if ?"
   ]
  },
  {
   "cell_type": "code",
   "execution_count": 14,
   "metadata": {},
   "outputs": [
    {
     "name": "stdout",
     "output_type": "stream",
     "text": [
      "1 > 0\n",
      "1 n'est pas plus grand que 5...\n"
     ]
    }
   ],
   "source": [
    "if 1 > 5:\n",
    "    print('1 > 5')\n",
    "else:\n",
    "    if 1 > 0:\n",
    "        print('1 > 0')\n",
    "    else:\n",
    "        print('1 <= 0')\n",
    "        \n",
    "    print(\"1 n'est pas plus grand que 5...\")"
   ]
  },
  {
   "cell_type": "code",
   "execution_count": 15,
   "metadata": {},
   "outputs": [
    {
     "name": "stdout",
     "output_type": "stream",
     "text": [
      "1 > 0\n",
      "1 n'est pas plus grand que 5...\n"
     ]
    }
   ],
   "source": [
    "# On peut aussi l'écrire ainsi :\n",
    "if 1 > 5:\n",
    "    print('1 > 5')\n",
    "elif 1 > 0:\n",
    "    print('1 > 0')\n",
    "    print(\"1 n'est pas plus grand que 5...\")\n",
    "else:\n",
    "    print('1 <= 0')\n",
    "    print(\"1 n'est pas plus grand que 5...\")"
   ]
  },
  {
   "cell_type": "markdown",
   "metadata": {},
   "source": [
    "[Back to top](#top)\n",
    "\n",
    "---\n",
    "\n",
    "# 4. Boucle : `for`  <a id=\"chap4PyBase\"></a>\n",
    "\n",
    "`for` est une boucle qui permet de parcourir les éléments d'un ensemble et d'executer un code pour chacun :"
   ]
  },
  {
   "cell_type": "code",
   "execution_count": 16,
   "metadata": {},
   "outputs": [
    {
     "name": "stdout",
     "output_type": "stream",
     "text": [
      "0\n",
      "1\n",
      "2\n",
      "3\n"
     ]
    }
   ],
   "source": [
    "for i in [0, 1, 2, 3]:\n",
    "    print(i)"
   ]
  },
  {
   "cell_type": "markdown",
   "metadata": {},
   "source": [
    "Une fonction très utile est `range()`. Elle permet de créer rapidement un ensemble, afinc de le parcourir dans la boucle for :"
   ]
  },
  {
   "cell_type": "code",
   "execution_count": 17,
   "metadata": {},
   "outputs": [
    {
     "name": "stdout",
     "output_type": "stream",
     "text": [
      "0\n",
      "1\n",
      "2\n",
      "3\n"
     ]
    }
   ],
   "source": [
    "for i in range(4):\n",
    "    print(i)"
   ]
  },
  {
   "cell_type": "markdown",
   "metadata": {},
   "source": [
    "Notons que range affiche 4 éléments en commençant par 0 donc de 0 à 3.  \n",
    "\n",
    "On peut préciser le début, la fin et le pas de cette manière si besoin :"
   ]
  },
  {
   "cell_type": "code",
   "execution_count": 18,
   "metadata": {},
   "outputs": [
    {
     "name": "stdout",
     "output_type": "stream",
     "text": [
      "10\n",
      "12\n",
      "14\n",
      "\n",
      "\n",
      "-4\n",
      "-2\n",
      "0\n",
      "2\n"
     ]
    }
   ],
   "source": [
    "for i in range(10, 15, 2):\n",
    "    print(i)\n",
    "\n",
    "print('\\n')  # \\n permet de sauter une ligne pour plus de lisibilité dans les résultats\n",
    "\n",
    "for i in range(-4, 4, 2):\n",
    "    print(i)"
   ]
  },
  {
   "cell_type": "markdown",
   "metadata": {},
   "source": [
    "[Back to top](#top)\n",
    "\n",
    "---\n",
    "\n",
    "# 5. Boucle : `while` <a id=\"chap5PyBase\"></a>\n",
    "\n",
    "Cette boucle s'executera aussi longtemps qu'une condition est vraie :"
   ]
  },
  {
   "cell_type": "code",
   "execution_count": 19,
   "metadata": {},
   "outputs": [
    {
     "name": "stdout",
     "output_type": "stream",
     "text": [
      "5\n",
      "4\n",
      "3\n",
      "2\n",
      "1\n",
      "0\n",
      "\n",
      "Lift off !\n"
     ]
    }
   ],
   "source": [
    "i = 6\n",
    "\n",
    "while i > 0:  # Tant que i est plus grand que 0\n",
    "    i -= 1    # On diminue sa valeur\n",
    "    print(i)  # et on l'affiche\n",
    "    \n",
    "print('\\nLift off !')"
   ]
  },
  {
   "cell_type": "markdown",
   "metadata": {},
   "source": [
    "Allez maintenant c'est à vous !\n",
    "> Tenter de faire la fonction de Fibonacci !"
   ]
  },
  {
   "cell_type": "code",
   "execution_count": 20,
   "metadata": {},
   "outputs": [],
   "source": [
    "def fibonacci():\n",
    "    pass"
   ]
  },
  {
   "cell_type": "markdown",
   "metadata": {},
   "source": [
    "[Back to top](#top)\n",
    "\n",
    "---\n",
    "\n",
    "# 6. Liste & Tuples  <a id=\"chap6PyBase\"></a>\n",
    "\n",
    "Les listes contiennent un ensemble des valeurs (quelque soit le type, mais il vaut mieux avoir une homogénéité !). On peut dire, en gros c'est un tableau."
   ]
  },
  {
   "cell_type": "code",
   "execution_count": 21,
   "metadata": {},
   "outputs": [
    {
     "data": {
      "text/plain": [
       "[1, 2, 3]"
      ]
     },
     "execution_count": 21,
     "metadata": {},
     "output_type": "execute_result"
    }
   ],
   "source": [
    "list_int = [1, 2, 3]  # liste d'entiers\n",
    "list_int"
   ]
  },
  {
   "cell_type": "code",
   "execution_count": 22,
   "metadata": {},
   "outputs": [
    {
     "data": {
      "text/plain": [
       "['Marie', 'Jean', 'Marc']"
      ]
     },
     "execution_count": 22,
     "metadata": {},
     "output_type": "execute_result"
    }
   ],
   "source": [
    "list_nom = ['Marie', 'Jean', 'Marc']  # liste de chaines de caractères\n",
    "list_nom"
   ]
  },
  {
   "cell_type": "code",
   "execution_count": 23,
   "metadata": {},
   "outputs": [
    {
     "data": {
      "text/plain": [
       "[[1, 2, 3], ['Marie', 'Jean', 'Marc']]"
      ]
     },
     "execution_count": 23,
     "metadata": {},
     "output_type": "execute_result"
    }
   ],
   "source": [
    "[list_int, list_nom]  # Liste de listes"
   ]
  },
  {
   "cell_type": "markdown",
   "metadata": {},
   "source": [
    "Et les tuples alors ?   \n",
    "Les tuples sont simplement des listes dont on ne peut changer le contenu. Le but étant de protéger la modification. Un autre intérêt, c'est que la manipulation d'un tuple est plus rapide:"
   ]
  },
  {
   "cell_type": "code",
   "execution_count": 24,
   "metadata": {},
   "outputs": [
    {
     "data": {
      "text/plain": [
       "('Marie', 'Jean', 'Marc')"
      ]
     },
     "execution_count": 24,
     "metadata": {},
     "output_type": "execute_result"
    }
   ],
   "source": [
    "tuple_nom = ('Marie', 'Jean', 'Marc')\n",
    "tuple_nom"
   ]
  },
  {
   "cell_type": "markdown",
   "metadata": {},
   "source": [
    "[Back to top](#top)\n",
    "\n",
    "---\n",
    "\n",
    "# 7. Séquences & Slicing <a id=\"chap7PyBase\"></a>\n",
    "\n",
    "Les listes, tuples et strings sont des \"séquences\", donc des variables composées de plusieurs éléments (les strings sont de suites de caractères par exemple).  \n",
    "Ils ont tous un ordre défini, avec un index d'élément, un élément de début et un élément de fin. On peut accéder aux différents éléments avec les crocher :"
   ]
  },
  {
   "cell_type": "code",
   "execution_count": 25,
   "metadata": {},
   "outputs": [
    {
     "name": "stdout",
     "output_type": "stream",
     "text": [
      "n\n",
      "Marc\n"
     ]
    }
   ],
   "source": [
    "print('bonjours'[2])  # On commence à compter à partir de 0, donc l'élément à l'index 2 est le 3ème\n",
    "print(tuple_nom[-1])  # à partie de l'élément 0, donc le premier, l'élément -1 est donc le dernier"
   ]
  },
  {
   "cell_type": "markdown",
   "metadata": {},
   "source": [
    "Le *slicing* ? C'est très simple, ça permet de récupérer une partie de la liste et précisant le début, la fin et le pas dans les crochers:"
   ]
  },
  {
   "cell_type": "code",
   "execution_count": 26,
   "metadata": {},
   "outputs": [
    {
     "name": "stdout",
     "output_type": "stream",
     "text": [
      "njours\n",
      "nor\n",
      "('Marie', 'Marc')\n",
      "sruojnob\n"
     ]
    }
   ],
   "source": [
    "print('bonjours'[2:8])    # Début : fin\n",
    "print('bonjours'[2:8:2])  # Début : fin : pas\n",
    "print(tuple_nom[::2])     # Début : fin : pas\n",
    "print('bonjours'[::-1])   # Début : fin : pas"
   ]
  },
  {
   "cell_type": "markdown",
   "metadata": {},
   "source": [
    "[Back to top](#top)\n",
    "\n",
    "---\n",
    "\n",
    "# 8. Listes et fonctions intégrées  <a id=\"chap8PyBase\"></a>\n",
    "\n",
    "Pleins de fonctions existent, on va regarder rapidement les plus utilisées et intéressantes :"
   ]
  },
  {
   "cell_type": "code",
   "execution_count": 27,
   "metadata": {},
   "outputs": [
    {
     "name": "stdout",
     "output_type": "stream",
     "text": [
      "['Paris', 'Cannes', 'Singapore', 'Taipei', 'Bangkok', 'Tianjin']\n",
      "['Paris', 'Cannes', 'Singapore', 'Taipei', 'Bangkok', 'Tianjin', 'Penang']\n",
      "['Paris', 'Cannes', 'Singapore', 'New-York', 'Taipei', 'Bangkok', 'Tianjin', 'Penang']\n",
      "['Paris', 'Cannes', 'Singapore', 'New-York', 'Taipei', 'Bangkok', 'Tianjin', 'Penang', 'Tokyo', 'Seoul']\n",
      "['Bangkok', 'Cannes', 'New-York', 'Paris', 'Penang', 'Seoul', 'Singapore', 'Taipei', 'Tianjin', 'Tokyo']\n",
      "Nombre d'éléments :  10\n",
      "nombre d'apparition de Seoul:  1\n"
     ]
    }
   ],
   "source": [
    "liste = ['Paris', 'Cannes', 'Singapore', 'Taipei', 'Bangkok', 'Tianjin']\n",
    "print(liste)\n",
    "\n",
    "liste.append('Penang')  # ajout à la fin\n",
    "print(liste)\n",
    "\n",
    "liste.insert(3, 'New-York')  # ajout à l'index 3\n",
    "print(liste)\n",
    "\n",
    "liste.extend(['Tokyo', 'Seoul'])  # ajout d'une autre liste\n",
    "print(liste)\n",
    "\n",
    "liste.sort()  # trie la liste\n",
    "print(liste)\n",
    "\n",
    "print('Nombre d\\'éléments : ', len(liste))  # longueur de la liste\n",
    "\n",
    "print('nombre d\\'apparition de Seoul: ', liste.count('Seoul'))"
   ]
  },
  {
   "cell_type": "markdown",
   "metadata": {},
   "source": [
    "[Back to top](#top)\n",
    "\n",
    "---\n",
    "\n",
    "# 9. If, For & listes  <a id=\"chap9PyBase\"></a>\n",
    "\n",
    "Comme je le disais au début, c'est très simple et lisible le Python. Notamment quand on veut utiliser les conditions et / ou les listes, on va pouvoir utiliser le mot clef `in`.\n",
    "\n",
    "Voici la preuve de sa facilité de compréhension :"
   ]
  },
  {
   "cell_type": "code",
   "execution_count": 28,
   "metadata": {},
   "outputs": [
    {
     "name": "stdout",
     "output_type": "stream",
     "text": [
      "Tokyo y est\n"
     ]
    }
   ],
   "source": [
    "villes = liste\n",
    "if 'Tokyo' in villes:  # Test si Tokyo est dans la liste\n",
    "    print('Tokyo y est')\n",
    "else:\n",
    "    print('Tokyo n\\'y est pas')"
   ]
  },
  {
   "cell_type": "code",
   "execution_count": 29,
   "metadata": {},
   "outputs": [
    {
     "name": "stdout",
     "output_type": "stream",
     "text": [
      "Il y a : Bangkok\n",
      "Il y a : Cannes\n",
      "Il y a : New-York\n",
      "Il y a : Paris\n",
      "Il y a : Penang\n",
      "Il y a : Seoul\n",
      "Il y a : Singapore\n",
      "Il y a : Taipei\n",
      "Il y a : Tianjin\n",
      "Il y a : Tokyo\n"
     ]
    }
   ],
   "source": [
    "for ville in villes:  # Pour chaque ville de la liste...\n",
    "    print('Il y a : ' + ville)"
   ]
  },
  {
   "cell_type": "markdown",
   "metadata": {},
   "source": [
    "Parlons aussi d'`enumerate`, très utile pour récupérer l'index en parcourant la liste, plutot que d'utiliser une variable que l'on doit instancier et incrémenter :"
   ]
  },
  {
   "cell_type": "code",
   "execution_count": 30,
   "metadata": {},
   "outputs": [
    {
     "name": "stdout",
     "output_type": "stream",
     "text": [
      "0 : Bangkok\n",
      "1 : Cannes\n",
      "2 : New-York\n",
      "3 : Paris\n",
      "4 : Penang\n",
      "5 : Seoul\n",
      "6 : Singapore\n",
      "7 : Taipei\n",
      "8 : Tianjin\n",
      "9 : Tokyo\n"
     ]
    }
   ],
   "source": [
    "for index, ville in enumerate(villes):\n",
    "    print(index, ': ' + ville)"
   ]
  },
  {
   "cell_type": "markdown",
   "metadata": {},
   "source": [
    "Ou encore zip, qui permet de rassembler 2 listes, que l'on utilise ici pour parcourir les deux listes en parallèle :"
   ]
  },
  {
   "cell_type": "code",
   "execution_count": 31,
   "metadata": {},
   "outputs": [
    {
     "name": "stdout",
     "output_type": "stream",
     "text": [
      "10 : Bangkok\n",
      "20 : Cannes\n",
      "30 : New-York\n",
      "40 : Paris\n",
      "50 : Penang\n",
      "60 : Seoul\n",
      "70 : Singapore\n",
      "80 : Taipei\n",
      "90 : Tianjin\n"
     ]
    }
   ],
   "source": [
    "for num, ville in zip(range(10,100,10), villes):\n",
    "    print(num, ': ' + ville)"
   ]
  },
  {
   "cell_type": "markdown",
   "metadata": {},
   "source": [
    "Allez, à vous de jouer !\n",
    "> Reprenez la fonction fibonnaci, retourner la liste de nombre puis affichez la liste avec à chaque fois l'index !"
   ]
  },
  {
   "cell_type": "code",
   "execution_count": null,
   "metadata": {},
   "outputs": [],
   "source": []
  },
  {
   "cell_type": "markdown",
   "metadata": {},
   "source": [
    "[Back to top](#top)\n",
    "\n",
    "---\n",
    "\n",
    "# 10. Les dictionnaires  <a id=\"chap10PyBase\"></a>\n",
    "\n",
    "à l'inverse des listes, un dict n'est pas ordonné, c'est simplement un ensemble de clefs et de valeurs. "
   ]
  },
  {
   "cell_type": "code",
   "execution_count": 32,
   "metadata": {},
   "outputs": [
    {
     "data": {
      "text/plain": [
       "{1: 'Jean', 2: 'Marie', 3: 'Naomi', '4': '', 5: 42}"
      ]
     },
     "execution_count": 32,
     "metadata": {},
     "output_type": "execute_result"
    }
   ],
   "source": [
    "etu = {\n",
    "    1: 'Jean',   # Clef 1, valeur 'Jean'\n",
    "    2: 'Marie',  # Clef 2, valeur 'Marie'\n",
    "    3: 'Naomi',  # Clef 3, valeur 'Naomi'\n",
    "    '4': '',     # Clef '4', valeur ''\n",
    "    5: 42        # Clef 5, valeur 42\n",
    "}\n",
    "etu"
   ]
  },
  {
   "cell_type": "markdown",
   "metadata": {},
   "source": [
    "ATTENTION, on ne peut pas mettre deux fois la même clef !\n",
    "\n",
    "on peut concatener deux dicts :"
   ]
  },
  {
   "cell_type": "code",
   "execution_count": 33,
   "metadata": {},
   "outputs": [
    {
     "data": {
      "text/plain": [
       "{'etu_1': {1: 'Jean', 2: 'Marie', 3: 'Naomi', '4': '', 5: 42},\n",
       " 'etu_2': {1: 'Jean', 2: 'Marie', 3: 'Naomi', '4': '', 5: 42}}"
      ]
     },
     "execution_count": 33,
     "metadata": {},
     "output_type": "execute_result"
    }
   ],
   "source": [
    "# Créons un dictionnaire de dictionnaires :\n",
    "\n",
    "{\n",
    "    'etu_1': etu,\n",
    "    'etu_2': etu\n",
    "}"
   ]
  },
  {
   "cell_type": "code",
   "execution_count": 34,
   "metadata": {},
   "outputs": [
    {
     "data": {
      "text/plain": [
       "dict_values(['Jean', 'Marie', 'Naomi', '', 42])"
      ]
     },
     "execution_count": 34,
     "metadata": {},
     "output_type": "execute_result"
    }
   ],
   "source": [
    "etu.values()  # Récupérons que les valeurs"
   ]
  },
  {
   "cell_type": "code",
   "execution_count": 35,
   "metadata": {},
   "outputs": [
    {
     "data": {
      "text/plain": [
       "dict_keys([1, 2, 3, '4', 5])"
      ]
     },
     "execution_count": 35,
     "metadata": {},
     "output_type": "execute_result"
    }
   ],
   "source": [
    "etu.keys()  # Récupérons que les clefs"
   ]
  },
  {
   "cell_type": "code",
   "execution_count": 36,
   "metadata": {},
   "outputs": [
    {
     "data": {
      "text/plain": [
       "5"
      ]
     },
     "execution_count": 36,
     "metadata": {},
     "output_type": "execute_result"
    }
   ],
   "source": [
    "len(etu)"
   ]
  },
  {
   "cell_type": "code",
   "execution_count": 37,
   "metadata": {},
   "outputs": [
    {
     "data": {
      "text/plain": [
       "{1: 'Jean', 2: 'Marie', 3: 'Naomi', '4': '', 5: 42, 10: 'Marcel', '10': 100}"
      ]
     },
     "execution_count": 37,
     "metadata": {},
     "output_type": "execute_result"
    }
   ],
   "source": [
    "etu[10] = 'Marcel'  # créons un élément avec la clef 10 et la valeur 'Marcel'\n",
    "etu['10'] = 100  # créons un élément avec la clef '10' et la valeur 100\n",
    "etu"
   ]
  },
  {
   "cell_type": "markdown",
   "metadata": {},
   "source": [
    "Si on veut récupérer une valeur, on va préférer `get` à l'usage des crochers. En effet, si la valeur n'existe pas, avec get, on n'aura pas une erreur mais une valeur par défaut : `None`"
   ]
  },
  {
   "cell_type": "code",
   "execution_count": 38,
   "metadata": {},
   "outputs": [
    {
     "name": "stdout",
     "output_type": "stream",
     "text": [
      "Marcel\n",
      "Marcel\n",
      "None\n"
     ]
    }
   ],
   "source": [
    "print(etu[10])\n",
    "print(etu.get(10))\n",
    "print(etu.get(30))  # N'existe pas"
   ]
  },
  {
   "cell_type": "code",
   "execution_count": 39,
   "metadata": {},
   "outputs": [
    {
     "data": {
      "text/plain": [
       "'valeur par défaut'"
      ]
     },
     "execution_count": 39,
     "metadata": {},
     "output_type": "execute_result"
    }
   ],
   "source": [
    "etu.get(30, 'valeur par défaut')  # on peut aussi définir une valeur par défaut"
   ]
  },
  {
   "cell_type": "markdown",
   "metadata": {},
   "source": [
    "Ensuite, on a `fromkeys` qui est très intéressant pour transformer une liste en un ensemble clefs - valeurs :"
   ]
  },
  {
   "cell_type": "code",
   "execution_count": 40,
   "metadata": {},
   "outputs": [
    {
     "data": {
      "text/plain": [
       "{'Bangkok': None,\n",
       " 'Cannes': None,\n",
       " 'New-York': None,\n",
       " 'Paris': None,\n",
       " 'Penang': None,\n",
       " 'Seoul': None,\n",
       " 'Singapore': None,\n",
       " 'Taipei': None,\n",
       " 'Tianjin': None,\n",
       " 'Tokyo': None}"
      ]
     },
     "execution_count": 40,
     "metadata": {},
     "output_type": "execute_result"
    }
   ],
   "source": [
    "{}.fromkeys(villes)"
   ]
  },
  {
   "cell_type": "code",
   "execution_count": 41,
   "metadata": {},
   "outputs": [
    {
     "data": {
      "text/plain": [
       "{'Bangkok': \"C'est génial !\",\n",
       " 'Cannes': \"C'est génial !\",\n",
       " 'New-York': \"C'est génial !\",\n",
       " 'Paris': \"C'est génial !\",\n",
       " 'Penang': \"C'est génial !\",\n",
       " 'Seoul': \"C'est génial !\",\n",
       " 'Singapore': \"C'est génial !\",\n",
       " 'Taipei': \"C'est génial !\",\n",
       " 'Tianjin': \"C'est génial !\",\n",
       " 'Tokyo': \"C'est génial !\"}"
      ]
     },
     "execution_count": 41,
     "metadata": {},
     "output_type": "execute_result"
    }
   ],
   "source": [
    "# On peut aussi mettre une valeur par défaut :\n",
    "{}.fromkeys(villes, \"C'est génial !\")"
   ]
  },
  {
   "cell_type": "markdown",
   "metadata": {},
   "source": [
    "Les boucles sont légèrement différentes elles aussi :"
   ]
  },
  {
   "cell_type": "code",
   "execution_count": 42,
   "metadata": {},
   "outputs": [
    {
     "name": "stdout",
     "output_type": "stream",
     "text": [
      "Bangkok\n",
      "Paris\n",
      "Tokyo\n",
      "Seoul\n",
      "Taipei\n"
     ]
    }
   ],
   "source": [
    "mon_dict = {\n",
    "    'Bangkok': 'Thailand',\n",
    "    'Paris': 'France',\n",
    "    'Tokyo': 'Japan',\n",
    "    'Seoul': 'Korea',\n",
    "    'Taipei': 'Taiwan',\n",
    "}\n",
    "for i in mon_dict:\n",
    "    print(i)"
   ]
  },
  {
   "cell_type": "code",
   "execution_count": 43,
   "metadata": {},
   "outputs": [
    {
     "name": "stdout",
     "output_type": "stream",
     "text": [
      "Thailand\n",
      "France\n",
      "Japan\n",
      "Korea\n",
      "Taiwan\n"
     ]
    }
   ],
   "source": [
    "# Pour avoir les values :\n",
    "for i in mon_dict.values():\n",
    "    print(i)"
   ]
  },
  {
   "cell_type": "code",
   "execution_count": 44,
   "metadata": {},
   "outputs": [
    {
     "name": "stdout",
     "output_type": "stream",
     "text": [
      "Bangkok est dans ce pays : Thailand\n",
      "Paris est dans ce pays : France\n",
      "Tokyo est dans ce pays : Japan\n",
      "Seoul est dans ce pays : Korea\n",
      "Taipei est dans ce pays : Taiwan\n"
     ]
    }
   ],
   "source": [
    "# Pour avoir les key et les values :\n",
    "for key, val in mon_dict.items():\n",
    "    print(key + ' est dans ce pays : ' + val)"
   ]
  },
  {
   "cell_type": "markdown",
   "metadata": {},
   "source": [
    "Enfin, une dernière fonction très utile c'est `pop` qui existe aussi pour les listes. Le but étant d'extraire un élément et récupérer sa valeur :"
   ]
  },
  {
   "cell_type": "code",
   "execution_count": 45,
   "metadata": {},
   "outputs": [
    {
     "name": "stdout",
     "output_type": "stream",
     "text": [
      "Bangkok : 1\n",
      "Cannes : 2\n",
      "New-York : 3\n",
      "Paris : 4\n",
      "Penang : 5\n",
      "Seoul : 6\n",
      "Singapore : 7\n",
      "Taipei : 8\n",
      "Tianjin : 9\n",
      "Tokyo : 10\n",
      "\n",
      "valeur extraite : 2\n",
      "\n"
     ]
    },
    {
     "data": {
      "text/plain": [
       "{'Bangkok': 1,\n",
       " 'New-York': 3,\n",
       " 'Paris': 4,\n",
       " 'Penang': 5,\n",
       " 'Seoul': 6,\n",
       " 'Singapore': 7,\n",
       " 'Taipei': 8,\n",
       " 'Tianjin': 9,\n",
       " 'Tokyo': 10}"
      ]
     },
     "execution_count": 45,
     "metadata": {},
     "output_type": "execute_result"
    }
   ],
   "source": [
    "# init le dict\n",
    "mon_dict = {}.fromkeys(villes, 0)\n",
    "\n",
    "# Utilisons un peu tout ce que l'on a déjà pu voir :\n",
    "for clef, valeur in zip(mon_dict, range(len(mon_dict))):\n",
    "    mon_dict[clef] = valeur + 1               # Changeons la valeur\n",
    "    print(f\"{clef} : {mon_dict.get(clef)}\")   # On affiche\n",
    "\n",
    "\n",
    "# Extraction d'une valeur\n",
    "extract = mon_dict.pop('Cannes')\n",
    "print(f\"\\nvaleur extraite : {extract}\\n\")\n",
    "\n",
    "mon_dict"
   ]
  },
  {
   "cell_type": "markdown",
   "metadata": {},
   "source": [
    "C'est à vous !\n",
    "> Faire une fonction qui va trier une liste de mot selon la longueur de ce dernier : plus grand que 5 lettres et moins que 5 lettres.\n",
    "> Petite info, vous avez ce dictionnaire à disposition:\n",
    "```python\n",
    "def tri(liste_mots):\n",
    "    mots = {\n",
    "        'long': [],\n",
    "        'court': []\n",
    "    }\n",
    "    \n",
    "    # TODO\n",
    "    \n",
    "    return mots\n",
    "```"
   ]
  },
  {
   "cell_type": "code",
   "execution_count": null,
   "metadata": {},
   "outputs": [],
   "source": []
  },
  {
   "cell_type": "markdown",
   "metadata": {},
   "source": [
    "[Back to top](#top)\n",
    "\n",
    "---\n",
    "\n",
    "# 11. Operation Comprehension  <a id=\"chap11PyBase\"></a>\n",
    "\n",
    "Les \"Comprehensions\" sont des fonctions intégrées dans des listes ou des dictionary.\n",
    "\n",
    "C'est mieux en Python de les utiliser car le code est plus rapide et mathématiquement plus compréhensible. En effet, cela revient à coder de manière très mathématique :"
   ]
  },
  {
   "cell_type": "code",
   "execution_count": 46,
   "metadata": {},
   "outputs": [
    {
     "data": {
      "text/plain": [
       "[0, 1, 4, 9, 16]"
      ]
     },
     "execution_count": 46,
     "metadata": {},
     "output_type": "execute_result"
    }
   ],
   "source": [
    "# Création d'une liste d'entier au carré, avec un for\n",
    "tab = []\n",
    "\n",
    "for i in range(5):\n",
    "    tab.append(i**2)\n",
    "    \n",
    "tab"
   ]
  },
  {
   "cell_type": "code",
   "execution_count": 47,
   "metadata": {},
   "outputs": [
    {
     "data": {
      "text/plain": [
       "[0, 1, 4, 9, 16]"
      ]
     },
     "execution_count": 47,
     "metadata": {},
     "output_type": "execute_result"
    }
   ],
   "source": [
    "# Création d'une liste d'entier au carré, avec une liste comprehension\n",
    "tab_comprehension = [i**2 for i in range(5)]  # Pour tout i dans [0, 5[, faire i²\n",
    "\n",
    "tab_comprehension"
   ]
  },
  {
   "cell_type": "markdown",
   "metadata": {},
   "source": [
    "Comme je l'ai mentionné juste avant, cela fonctionne aussi avec les dictinaires.\n",
    "\n",
    "Reprennons notre liste de villes, on peut faire :"
   ]
  },
  {
   "cell_type": "code",
   "execution_count": 48,
   "metadata": {},
   "outputs": [
    {
     "data": {
      "text/plain": [
       "{1: 'Bangkok',\n",
       " 2: 'Cannes',\n",
       " 3: 'New-York',\n",
       " 4: 'Paris',\n",
       " 5: 'Penang',\n",
       " 6: 'Seoul',\n",
       " 7: 'Singapore',\n",
       " 8: 'Taipei',\n",
       " 9: 'Tianjin',\n",
       " 10: 'Tokyo'}"
      ]
     },
     "execution_count": 48,
     "metadata": {},
     "output_type": "execute_result"
    }
   ],
   "source": [
    "{key+1:value for key, value in enumerate(villes)}  # Pour tous les index dans [0, longueur(villes)[ et pour tous les éléments de villes, faire : clef = index + 1 et valeur = ville"
   ]
  },
  {
   "cell_type": "code",
   "execution_count": 49,
   "metadata": {},
   "outputs": [
    {
     "data": {
      "text/plain": [
       "{'Thailand': 'Bangkok',\n",
       " 'France': 'Paris',\n",
       " 'USA': 'New-York',\n",
       " 'Malaysia': 'Penang',\n",
       " 'Korea': 'Seoul',\n",
       " 'Singapore': 'Singapore',\n",
       " 'Taiwan': 'Taipei',\n",
       " 'Chine': 'Tianjin'}"
      ]
     },
     "execution_count": 49,
     "metadata": {},
     "output_type": "execute_result"
    }
   ],
   "source": [
    "# on peut aussi concatener deux listes: \n",
    "pays = ['Thailand', 'France', 'USA', 'France', 'Malaysia', 'Korea', 'Singapore', 'Taiwan', 'Chine']\n",
    "{p:v for p, v in zip(pays, villes)}  # à noter que les deux listes ne font pas la même longueur et que le for s'arrête à la fin de la plus courte liste, ici : pays"
   ]
  },
  {
   "cell_type": "code",
   "execution_count": 50,
   "metadata": {},
   "outputs": [
    {
     "data": {
      "text/plain": [
       "{'Thailand': 'Bangkok', 'Malaysia': 'Penang', 'Singapore': 'Singapore'}"
      ]
     },
     "execution_count": 50,
     "metadata": {},
     "output_type": "execute_result"
    }
   ],
   "source": [
    "# Enfin, on peut aussi mettre des conditions :\n",
    "# Faisons les couples que si le nom du pays à plus de 6 lettres\n",
    "{p:v for p, v in zip(pays, villes) if len(p) > 6}"
   ]
  },
  {
   "cell_type": "markdown",
   "metadata": {},
   "source": [
    "Le code est donc plus court, plus compréhensible, plus rapide"
   ]
  },
  {
   "cell_type": "markdown",
   "metadata": {},
   "source": [
    "[Back to top](#top)\n",
    "\n",
    "---\n",
    "\n",
    "# 12. Built-in functions  <a id=\"chap12PyBase\"></a>\n",
    "\n",
    "De base, il y a de nombreuses fonctions dans Python. Ce sont les \"Built-in functions\". \n",
    "\n",
    "Comme je l'ai mentionné au tout début, pour toutes les trouver et les comprendre, le mieux est de regarder la documentation de Python. On va tout de même en voir quelques unes, très utiles et que l'on retrouve beaucoup :"
   ]
  },
  {
   "cell_type": "code",
   "execution_count": 51,
   "metadata": {},
   "outputs": [
    {
     "name": "stdout",
     "output_type": "stream",
     "text": [
      "Coucou Julie, j'ai 25 ans\n",
      "Coucou Julie, j'ai 26 ans\n",
      "round :  2\n",
      "absolute :  1\n",
      "min :  0\n",
      "max :  564\n",
      "sum :  776\n",
      "length :  6\n",
      "all (tous vrai) :  False\n",
      "any (au moins 1 vrai) :  True\n",
      "type :  <class 'int'>\n",
      "type :  <class 'float'>\n",
      "type :  <class 'str'>\n",
      "type :  <class 'list'>\n",
      "type :  <class 'tuple'>\n",
      "type :  <class 'list'>\n"
     ]
    }
   ],
   "source": [
    "nom = 'Julie'\n",
    "age = 25\n",
    "\n",
    "message = 'Coucou {}, j\\'ai {} ans'.format(nom, age)  # Format pour formater une string \n",
    "print(message) # pour print\n",
    "# OU :\n",
    "message = f'Coucou {nom}, j\\'ai {age+1} ans'  # Format pour formater une string \n",
    "print(message) # pour print\n",
    "\n",
    "print('round : ', round(1.5))\n",
    "print('absolute : ', abs(-1))\n",
    "\n",
    "num_list = [0, 54, 564, 21, 95, 42]\n",
    "print('min : ', min(num_list))\n",
    "print('max : ', max(num_list))\n",
    "print('sum : ', sum(num_list))\n",
    "print('length : ', len(num_list))\n",
    "\n",
    "print('all (tous vrai) : ', all(num_list))\n",
    "print('any (au moins 1 vrai) : ', any(num_list))\n",
    "\n",
    "print('type : ', type(1))\n",
    "print('type : ', type(float(1)))\n",
    "print('type : ', type(str(1)))\n",
    "print('type : ', type(num_list))\n",
    "print('type : ', type(tuple(num_list)))\n",
    "print('type : ', type(list(tuple(num_list))))"
   ]
  },
  {
   "cell_type": "code",
   "execution_count": 52,
   "metadata": {},
   "outputs": [
    {
     "data": {
      "text/plain": [
       "('0b110110', '0x36')"
      ]
     },
     "execution_count": 52,
     "metadata": {},
     "output_type": "execute_result"
    }
   ],
   "source": [
    "# Fonctions de conversion en binaire, hexa :\n",
    "bin(54), hex(54)"
   ]
  },
  {
   "cell_type": "markdown",
   "metadata": {},
   "source": [
    "Je vais simplement le mentioner ici car je n'ai pas de fichier à ouvrir, mais il y a aussi `open()` qui est très très utile. Cette fonction permet d'ouvrir puis ecrire ('w' comme write) ou lire ('r' comme read) dans un fichier :\n",
    "```python\n",
    "with open('myfile.txt', 'r') as f:\n",
    "    print(f.read())\n",
    "```\n",
    "\n",
    "Il est intéressant de noter que l'on utilise en général `with` pour éviter de devoir fermer le fichier à la fin, et surtout éviter d'oublier de le faire !\n",
    "\n",
    "```python\n",
    "f = open('myfile.txt', 'r')\n",
    "print(f.read())\n",
    "f.close()  # A ne pas oublier si l'on n'utilise pas 'with' (utilisez 'with', ça préviendra des problèmes !)\n",
    "```\n",
    "\n",
    "Petit exo, écrivez la suite de Fibonacci dans un fichier texte !"
   ]
  },
  {
   "cell_type": "code",
   "execution_count": null,
   "metadata": {},
   "outputs": [],
   "source": []
  },
  {
   "cell_type": "markdown",
   "metadata": {},
   "source": [
    "[Back to top](#top)\n",
    "\n",
    "---\n",
    "\n",
    "# 13. Modules & Package <a id=\"chap13PyBase\"></a>\n",
    "\n",
    "En Python, un module c'est simplement un fichier. Il est possible d'importer les fonctions des autres modules afin d'éviter de réécrire des fonctions ou mieux diviser son code  : \n",
    "- un fichier traitement de données\n",
    "- un fichier extraction de données\n",
    "- ...\n",
    "\n",
    "Un package c'est tout aussi simple, en gros c'est un dossier qui rassemble des modules. \n",
    "\n",
    "Imaginons que nous ayons dans un dossier \"mon dossier\" deux fichiers Python :\n",
    "```\n",
    "mon dossier\n",
    "    |- fichier_1.py\n",
    "    |- fichier_2.py\n",
    "```\n",
    "\n",
    "Et bien dans fichier_2 on peut écrire :\n",
    "```python\n",
    "import fichier_1\n",
    "\n",
    "fichier_1.ma_fonction()\n",
    "```\n",
    "\n",
    "Afin de récupérer les fonctions de fichier_1. Il est possible de surnomer les modules :\n",
    "```python\n",
    "import fichier_1 as f1\n",
    "\n",
    "f1.ma_fonction()\n",
    "```\n",
    "\n",
    "Mais il est aussi possible de n'importer qu'une fonction :\n",
    "```python\n",
    "from fichier_1 import ma_fonction\n",
    "\n",
    "ma_fonction()\n",
    "```\n",
    "\n",
    "Ou encore de tout importer d'un coup (à éviter) :\n",
    "```python\n",
    "from fichier_1 import *\n",
    "\n",
    "ma_fonction()\n",
    "```\n",
    "\n",
    "Tout ceci c'est très bien, mais encore mieux, on peut importer des modules ou des packages externes que l'on n'a pas codé mais qui fait le travail pour nous ! C'est ce que l'on appelle aussi des librairies. Les librairies rassemble un ensemble de modules et de packages, qui sont (théoriquement) très bien codés et font le travail vite et bien (surtout pour les modules les plus populaires). Citons quelques modules intégrés de base à Python (encore une fois, jetez un oeil à la documentation !) :"
   ]
  },
  {
   "cell_type": "code",
   "execution_count": 53,
   "metadata": {},
   "outputs": [
    {
     "name": "stdout",
     "output_type": "stream",
     "text": [
      "3.141592653589793\n"
     ]
    }
   ],
   "source": [
    "# Le module le plus simple est connu est certainement celui ci :\n",
    "import math\n",
    "\n",
    "print(math.pi)"
   ]
  },
  {
   "cell_type": "code",
   "execution_count": 54,
   "metadata": {},
   "outputs": [
    {
     "name": "stdout",
     "output_type": "stream",
     "text": [
      "4.5\n"
     ]
    }
   ],
   "source": [
    "# Toujours pour rester dans les mathématiques, nous avons aussi statistics, plus spécialisé dans les statistiques (no way !)\n",
    "import statistics\n",
    "\n",
    "print(statistics.mean(range(10)))"
   ]
  },
  {
   "cell_type": "code",
   "execution_count": 55,
   "metadata": {},
   "outputs": [
    {
     "name": "stdout",
     "output_type": "stream",
     "text": [
      "choix random dans une liste : Cannes\n",
      "choix random dans une liste : Paris\n",
      "\n",
      "choix random entre 0 et 1 :  0.2703312815889276\n",
      "choix random entre 0 et 1 :  0.7136135295242678\n",
      "\n",
      "choix random dans une liste entre 0 et 10 : 4\n",
      "choix random dans une liste entre 0 et 10 : 2\n",
      "\n",
      "choix random dans une liste entre 0 et 42 : 30\n",
      "choix random dans une liste entre 0 et 42 : 39\n",
      "\n",
      "choix random dans une liste entre 0 et 100 de 10 nombres : [59, 84, 39, 45, 0, 89, 52, 26, 99, 88]\n",
      "choix random dans une liste entre 0 et 100 de 10 nombres : [95, 69, 83, 47, 78, 1, 27, 71, 58, 14]\n"
     ]
    }
   ],
   "source": [
    "# Encore un autre module basique et cool :\n",
    "import random\n",
    "\n",
    "print('choix random dans une liste :',  random.choice(villes))\n",
    "print('choix random dans une liste :',  random.choice(villes))\n",
    "\n",
    "print('\\nchoix random entre 0 et 1 : ',  random.random())\n",
    "print('choix random entre 0 et 1 : ',  random.random())\n",
    "\n",
    "print('\\nchoix random dans une liste entre 0 et 10 :',  random.randint(0, 10))\n",
    "print('choix random dans une liste entre 0 et 10 :',  random.randint(0, 10))\n",
    "\n",
    "print('\\nchoix random dans une liste entre 0 et 42 :',  random.randrange(42))\n",
    "print('choix random dans une liste entre 0 et 42 :',  random.randrange(42))\n",
    "\n",
    "print('\\nchoix random dans une liste entre 0 et 100 de 10 nombres :',  random.sample(range(100), 10))\n",
    "print('choix random dans une liste entre 0 et 100 de 10 nombres :',  random.sample(range(100), 10))"
   ]
  },
  {
   "cell_type": "code",
   "execution_count": 56,
   "metadata": {},
   "outputs": [
    {
     "name": "stdout",
     "output_type": "stream",
     "text": [
      "['Bangkok', 'Cannes', 'New-York', 'Paris', 'Penang', 'Seoul', 'Singapore', 'Taipei', 'Tianjin', 'Tokyo']\n",
      "['New-York', 'Paris', 'Tokyo', 'Penang', 'Tianjin', 'Singapore', 'Seoul', 'Bangkok', 'Cannes', 'Taipei']\n",
      "['Singapore', 'Seoul', 'Bangkok', 'Cannes', 'Taipei', 'Penang', 'Paris', 'Tianjin', 'Tokyo', 'New-York']\n"
     ]
    }
   ],
   "source": [
    "villes.sort()\n",
    "print(villes)\n",
    "\n",
    "# mélangeons la liste :\n",
    "random.shuffle(villes)\n",
    "print(villes)\n",
    "random.shuffle(villes)\n",
    "print(villes)"
   ]
  },
  {
   "cell_type": "code",
   "execution_count": 57,
   "metadata": {},
   "outputs": [
    {
     "name": "stdout",
     "output_type": "stream",
     "text": [
      "C:\\Users\\Thibault Santonja\\Desktop\\Jupyter\\PythonCourses\n",
      "['LorentzExample.ipynb', '_Python_Course_DataScience.ipynb']\n",
      "durée d'execution :  1.0091294\n"
     ]
    }
   ],
   "source": [
    "# Enfin, quelques autres libs sympa : time, os, glob\n",
    "import os\n",
    "import glob\n",
    "import time\n",
    "\n",
    "temps = time.perf_counter()\n",
    "\n",
    "print(os.getcwd())\n",
    "time.sleep(1)  # attends 1 seconde\n",
    "print(glob.glob('*e.ipynb'))\n",
    "\n",
    "print('durée d\\'execution : ', time.perf_counter() - temps)"
   ]
  },
  {
   "cell_type": "code",
   "execution_count": null,
   "metadata": {},
   "outputs": [],
   "source": []
  },
  {
   "cell_type": "code",
   "execution_count": null,
   "metadata": {},
   "outputs": [],
   "source": []
  },
  {
   "cell_type": "markdown",
   "metadata": {},
   "source": [
    "[Back to top](#top)\n",
    "\n",
    "---\n",
    "\n",
    "# 14. Conclusion <a id=\"chap14PyBase\"></a>\n",
    "\n",
    "Si vous maitrisez tout ça, vous êtes prêt à bien programmer en Python, Bravo !\n",
    "\n",
    "Encore une fois, maitriser ne veut pas dire connaitre par coeur le fonctionnement, mais se souvenir de l'existance et d'à quoi cela peut servir. En effet, il faut surtout savoir retrouver l'information qui vous aidera à résoudre proprement un problème. C'est là que la documentation est importante.\n",
    "\n",
    "---\n",
    "\n",
    "**\"proprement\" ?**\n",
    "\n",
    "Oui, programmer proprement. Chaque langage à ses spécificités et utiliser les spécificités et il est important de bien les comprendre pour faire un code lisible et efficace. Par exemple, comme on l'a vu, on peut par exemple, si l'on souhaite faire la somme de tous les éléments d'un tableau, écrire :\n",
    "```python\n",
    "i = 0\n",
    "somme = 0\n",
    "while i < len(liste):\n",
    "    somme = somme + liste[i]\n",
    "    i = i + 1\n",
    "   \n",
    "print(somme)\n",
    "```\n",
    "Ou plutôt de manière plus efficace et propre écrire :\n",
    "```python\n",
    "print(sum(liste))\n",
    "```\n",
    "\n",
    "Bon oui là j'ai forcé mais vous avez compris la logique !\n",
    "\n",
    "---\n",
    "\n",
    "**Et ensuite, quoi apprendre ?**\n",
    "\n",
    "Ensuite, tout dépend de ce que vous souhaitez faire. En effet, la partie POO, par exemple, n'est pas utile pour tous, bien que la première partie devrait être connue par tous. Donc demandez vous si vous êtes plutôt :\n",
    "- **Software**, alors la POO, les design patterns et les tests sont importants + la partie avancée si besoin\n",
    "- **Web**, alors la POO et les test sont importants + la partie avancée et design patterns si besoin\n",
    "- **Robotique**, alors la partie POO, Numpy, une partie de l'avancé (les yields notamment) et test sont importantes + les design patterns si besoin \n",
    "- **Data**, alors la partie Numpy est très importante + la partie avancée et POO si besoin\n",
    "\n",
    "Pour vous aider, j'ai organiser les fichiers selon un code :\n",
    "- Les cours en 1* comme celui-ci, sont des cours généraux sur Python\n",
    "- Les cours en 2* concernent des librairies très courantes quoi que vous fassiez \n",
    "- Les cours en 3* concernent la branche plus développement, que ça soit du logiciel, du web, du jeux...\n",
    "- Les cours en 4* concernent la branche plus data et notamment data science, donc tout ce qui est manipulation de la données, statistiques, machine learning, deep learning...\n",
    "\n",
    "Bref faites un tour et surtout, amusez-vous !"
   ]
  },
  {
   "cell_type": "markdown",
   "metadata": {},
   "source": [
    "[Back to top](#top)\n",
    "\n",
    "---"
   ]
  },
  {
   "cell_type": "markdown",
   "metadata": {},
   "source": [
    "Thibault **Santonja**\n",
    "2021"
   ]
  }
 ],
 "metadata": {
  "kernelspec": {
   "display_name": "Python 3",
   "language": "python",
   "name": "python3"
  },
  "language_info": {
   "codemirror_mode": {
    "name": "ipython",
    "version": 3
   },
   "file_extension": ".py",
   "mimetype": "text/x-python",
   "name": "python",
   "nbconvert_exporter": "python",
   "pygments_lexer": "ipython3",
   "version": "3.8.8"
  }
 },
 "nbformat": 4,
 "nbformat_minor": 4
}
