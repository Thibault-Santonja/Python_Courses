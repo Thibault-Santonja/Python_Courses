{
 "cells": [
  {
   "cell_type": "markdown",
   "metadata": {},
   "source": [
    "Doorstop\n",
    "==="
   ]
  },
  {
   "cell_type": "markdown",
   "metadata": {},
   "source": [
    "# Gestion des exigences\n",
    "\n",
    "Un outil de gestion d'exigences doit avoir des caractéristiques proches de celles d'un wiki. Notamment il doit permettre la modification d'un même item par de nombreuses personnes (en tenant compte des autorisations attribuées à chaque personne), doit gérer les versions et l'historique. \n",
    "\n",
    "## Traçabilité des exigences\n",
    "La traçabilité des exigences consiste à documenter la vie des exigences. Il doit être possible de retracer jusqu'à leur origine chacune des exigences et chacun des changements les affectant ; les exigences doivent donc être documentées pour achever la traçabilité. \n",
    "\n",
    "Les exigences proviennent souvent de sources diverses, telles que l'équipe marketing, les clients ou les utilisateurs. L'ensemble de ces personnes ont des besoins pour le produit (ou système). Grâce à la traçabilité des exigences, chaque fonctionnalité implémentée pourra être reliée à une personne ou à un groupe l'ayant demandée durant la phase de définition des exigences.\n",
    "\n",
    "Elle aide à répondre aux questions du type :\n",
    "- D'où vient une exigence ? (Quel besoin cette exigence couvre-t-elle ? Pourquoi a-t-on conçu la solution de cette manière et quelles étaient les autres possibilités ?)\n",
    "- Cette exigence est-elle nécessaire ?\n",
    "- Où met-on en œuvre cette exigence ?\n",
    "- Comment interpréter cette exigence ?\n",
    "- Quelle décision de conception affecte la mise en œuvre de l'exigence ?\n",
    "- Cet élément de conception est-il nécessaire ?\n",
    "- La solution réalisée est-elle conforme aux exigences ?\n",
    "- Comment testera-t-on cette exigence ?\n",
    "- Toutes les exigences sont-elles prises en compte ? (peut se lire : est-ce que le projet est terminé ?)\n",
    "- Et sinon, quel est le pourcentage d'exigences prises en compte ? Et quelles sont les exigences non (encore) prises en compte ?\n",
    "- Quel est l'impact du changement d'une exigence ?\n",
    "\n",
    "Exemple :\n",
    "> Un jour un constructeur automobile décida de réduire les coûts sur l'un de ses modèles phares. Une équipe se pencha sur les spécifications du modèle et chercha des axes de réduction des coûts. Quelqu'un s'avisa que le modèle était conçu pour résister à un vent arrière, avec de la pluie, de 200 km/h (exigence produit) ce qui entraînait des coûts de fabrication importants. On décida donc de changer cela en allégeant la fermeture du coffre à bagage situé à l'arrière (exigence composant). Ce n'est qu'à l'automne, chez les concessionnaires, qui trouvaient de l'eau dans les coffres, que l'on prit en compte que les voitures étaient acheminées par train Express (exigence partie prenante).\n",
    "\n",
    "## Capability Maturity Model Integration\n",
    "1. Initial : niveau où le résultat final est imprévisible. À ce niveau l'effort individuel prévaut à l'effort collectif dirigé vers un but établi.\n",
    "2. Managed / discipliné : Les activités et produits (techniques et de gestion, intermédiaires et finals) sont maîtrisés par le projet\n",
    "3. Defined / ajusté : ensemble de processus standards qui sont ajustés par chaque projet\n",
    "4. Quantitatively managed / géré quantitativement : processus clés sont sous contrôle statistique (surveillance d’indicateurs quantitatifs, et actions correctrices si dérives).\n",
    "5. Optimizing / en optimisation : amélioration continue (réduction des causes communes de variation) des processus et des technologies, optimisation basée sur des analyses coût/bénéfice. \n",
    "---"
   ]
  },
  {
   "cell_type": "markdown",
   "metadata": {},
   "source": [
    "Doorstop is a requirements management tool that facilitates the storage of textual requirements alongside source code in version control.\n",
    "\n",
    "When a project leverages this tool, each linkable item (requirement, test case, etc.) is stored as a YAML file in a designated directory. The items in each directory form a document. The relationship between documents forms a tree hierarchy. Doorstop provides mechanisms for modifying this tree, validating item traceability, and publishing documents in several formats.\n",
    "\n",
    "[GitHub link](https://github.com/doorstop-dev/doorstop)  \n",
    "[Documentation](https://doorstop.readthedocs.io/en/latest/)\n",
    "\n",
    "## Requirements\n",
    "- Python 3.5+\n",
    "- A version control system for requirements storage\n",
    "\n",
    "## Installation\n",
    "Install Doorstop with pip:"
   ]
  },
  {
   "cell_type": "code",
   "execution_count": 1,
   "metadata": {},
   "outputs": [
    {
     "name": "stdout",
     "output_type": "stream",
     "text": [
      "Requirement already satisfied: doorstop in d:\\anaconda3\\lib\\site-packages (2.1.4)\n",
      "Requirement already satisfied: openpyxl<3.0,>=2.6 in d:\\anaconda3\\lib\\site-packages (from doorstop) (2.6.4)\n",
      "Requirement already satisfied: bottle<0.13.0,>=0.12.13 in d:\\anaconda3\\lib\\site-packages (from doorstop) (0.12.19)\n",
      "Requirement already satisfied: Markdown<4.0.0,>=3.3.3 in d:\\anaconda3\\lib\\site-packages (from doorstop) (3.3.4)\n",
      "Requirement already satisfied: PyYAML<6.0,>=5.1 in d:\\anaconda3\\lib\\site-packages (from doorstop) (5.3.1)\n",
      "Requirement already satisfied: pyficache<0.4.0,>=0.3.1 in d:\\anaconda3\\lib\\site-packages (from doorstop) (0.3.2)\n",
      "Requirement already satisfied: python-markdown-math<0.7,>=0.6 in d:\\anaconda3\\lib\\site-packages (from doorstop) (0.6)\n",
      "Requirement already satisfied: requests<3.0,>=2.0 in d:\\anaconda3\\lib\\site-packages (from doorstop) (2.24.0)\n",
      "Requirement already satisfied: plantuml-markdown<4.0.0,>=3.4.2 in d:\\anaconda3\\lib\\site-packages (from doorstop) (3.4.2)\n",
      "Requirement already satisfied: et-xmlfile in d:\\anaconda3\\lib\\site-packages (from openpyxl<3.0,>=2.6->doorstop) (1.0.1)\n",
      "Requirement already satisfied: jdcal in d:\\anaconda3\\lib\\site-packages (from openpyxl<3.0,>=2.6->doorstop) (1.4.1)\n",
      "Requirement already satisfied: coverage in d:\\anaconda3\\lib\\site-packages (from pyficache<0.4.0,>=0.3.1->doorstop) (5.5)\n",
      "Requirement already satisfied: pygments>=2.0 in d:\\anaconda3\\lib\\site-packages (from pyficache<0.4.0,>=0.3.1->doorstop) (2.7.2)\n",
      "Requirement already satisfied: urllib3!=1.25.0,!=1.25.1,<1.26,>=1.21.1 in d:\\anaconda3\\lib\\site-packages (from requests<3.0,>=2.0->doorstop) (1.25.11)\n",
      "Requirement already satisfied: chardet<4,>=3.0.2 in d:\\anaconda3\\lib\\site-packages (from requests<3.0,>=2.0->doorstop) (3.0.4)\n",
      "Requirement already satisfied: idna<3,>=2.5 in d:\\anaconda3\\lib\\site-packages (from requests<3.0,>=2.0->doorstop) (2.10)\n",
      "Requirement already satisfied: certifi>=2017.4.17 in d:\\anaconda3\\lib\\site-packages (from requests<3.0,>=2.0->doorstop) (2020.6.20)\n",
      "Requirement already satisfied: plantuml in d:\\anaconda3\\lib\\site-packages (from plantuml-markdown<4.0.0,>=3.4.2->doorstop) (0.3.0)\n",
      "Requirement already satisfied: httplib2 in d:\\anaconda3\\lib\\site-packages (from plantuml->plantuml-markdown<4.0.0,>=3.4.2->doorstop) (0.19.1)\n",
      "Requirement already satisfied: pyparsing<3,>=2.4.2 in d:\\anaconda3\\lib\\site-packages (from httplib2->plantuml->plantuml-markdown<4.0.0,>=3.4.2->doorstop) (2.4.7)\n"
     ]
    }
   ],
   "source": [
    "!pip install doorstop"
   ]
  },
  {
   "cell_type": "markdown",
   "metadata": {},
   "source": [
    "After installation, Doorstop is available on the command-line:"
   ]
  },
  {
   "cell_type": "code",
   "execution_count": 2,
   "metadata": {},
   "outputs": [
    {
     "name": "stdout",
     "output_type": "stream",
     "text": [
      "usage: doorstop [-h] [-j PATH] [--server HOST] [--port NUMBER] [-f] [-V]\n",
      "                [-v | -q] [-F] [-r] [-L] [-R] [-C] [-Z] [-S] [-W] [-s PREFIX]\n",
      "                [-w] [-e]\n",
      "                <command> ...\n",
      "\n",
      "Requirements management using version control.\n",
      "\n",
      "positional arguments:\n",
      "  <command>\n",
      "    create                  create a new document directory\n",
      "    delete                  delete a document directory\n",
      "    add                     create an item file in a document directory\n",
      "    remove                  remove an item file from a document directory\n",
      "    edit                    open an existing item or document for editing\n",
      "    reorder                 organize the outline structure of a document\n",
      "    link                    add a new link between two items\n",
      "    unlink                  remove a link between two items\n",
      "    clear                   absolve items of their suspect link status\n",
      "    review                  absolve items of their unreviewed status\n",
      "    import                  import an existing document or item\n",
      "    export                  export a document as YAML or another format\n",
      "    publish                 publish a document as text or another format\n",
      "\n",
      "optional arguments:\n",
      "  -h, --help                show this help message and exit\n",
      "  -j PATH, --project PATH   path to the root of the project (default:\n",
      "                            C:\\Users\\Thibault Santonja\\Desktop\\Jupyter)\n",
      "  --server HOST             IP address or hostname for a running server\n",
      "                            (default: None)\n",
      "  --port NUMBER             use a custom port for the server (default: 7867)\n",
      "  -f, --force               perform the action without the server (default:\n",
      "                            False)\n",
      "  -V, --version             show program's version number and exit\n",
      "  -v, --verbose             enable verbose logging (default: 0)\n",
      "  -q, --quiet               only display errors and prompts (default: None)\n",
      "  -F, --no-reformat         do not reformat item files during validation\n",
      "                            (default: False)\n",
      "  -r, --reorder             reorder document levels during validation\n",
      "                            (default: False)\n",
      "  -L, --no-level-check      do not validate document levels (default: False)\n",
      "  -R, --no-ref-check        do not validate external file references (default:\n",
      "                            False)\n",
      "  -C, --no-child-check      do not validate child (reverse) links (default:\n",
      "                            False)\n",
      "  -Z, --strict-child-check  require child (reverse) links from every document\n",
      "                            (default: False)\n",
      "  -S, --no-suspect-check    do not check for suspect links (default: False)\n",
      "  -W, --no-review-check     do not check item review status (default: False)\n",
      "  -s PREFIX, --skip PREFIX  skip a document during validation (default: None)\n",
      "  -w, --warn-all            display all info-level issues as warnings\n",
      "                            (default: False)\n",
      "  -e, --error-all           display all warning-level issues as errors\n",
      "                            (default: False)\n"
     ]
    }
   ],
   "source": [
    "!doorstop --help"
   ]
  },
  {
   "cell_type": "markdown",
   "metadata": {},
   "source": [
    "And the package is available under the name 'doorstop':"
   ]
  },
  {
   "cell_type": "code",
   "execution_count": 3,
   "metadata": {},
   "outputs": [
    {
     "data": {
      "text/plain": [
       "'2.1.4'"
      ]
     },
     "execution_count": 3,
     "metadata": {},
     "output_type": "execute_result"
    }
   ],
   "source": [
    "import doorstop\n",
    "doorstop.__version__"
   ]
  },
  {
   "cell_type": "markdown",
   "metadata": {},
   "source": [
    "---\n",
    "# Usage\n",
    "\n",
    "Switch to an existing version control working directory, or create one: \n",
    "```sh\n",
    "git init .\n",
    "```\n",
    "\n",
    "## Create documents\n",
    "\n",
    "Create a new parent requirements document:\n",
    "```sh\n",
    "doorstop create SRD ./reqs/srd\n",
    "```\n",
    "\n",
    "Add a few items to that document:\n",
    "```sh\n",
    "doorstop add SRD\n",
    "doorstop add SRD\n",
    "doorstop add SRD\n",
    "```\n",
    "\n",
    "## Link items\n",
    "Create a child document to link to the parent:\n",
    "```sh\n",
    "doorstop create HLTC ./tests/hl --parent SRD\n",
    "doorstop add HLTC\n",
    "```\n",
    "\n",
    "Link items between documents:\n",
    "```sh\n",
    "doorstop link HLTC001 SRD002\n",
    "```\n",
    "\n",
    "## Publish reports\n",
    "Run integrity checks on the document tree:\n",
    "```sh\n",
    "doorstop\n",
    "```\n",
    "\n",
    "\n",
    "Publish the documents as HTML:\n",
    "```sh\n",
    "doorstop publish all ./public\n",
    "```"
   ]
  },
  {
   "cell_type": "markdown",
   "metadata": {},
   "source": [
    "---\n",
    "## Python version"
   ]
  },
  {
   "cell_type": "markdown",
   "metadata": {},
   "source": [
    "Create documents"
   ]
  },
  {
   "cell_type": "code",
   "execution_count": 7,
   "metadata": {},
   "outputs": [
    {
     "name": "stdout",
     "output_type": "stream",
     "text": [
      "building tree...\n"
     ]
    },
    {
     "name": "stderr",
     "output_type": "stream",
     "text": [
      "ERROR: document already exists: ./reqs/srd\n"
     ]
    },
    {
     "name": "stdout",
     "output_type": "stream",
     "text": [
      "building tree...\n"
     ]
    },
    {
     "name": "stderr",
     "output_type": "stream",
     "text": [
      "ERROR: Command not found: git\n"
     ]
    },
    {
     "name": "stdout",
     "output_type": "stream",
     "text": [
      "building tree...\n"
     ]
    },
    {
     "name": "stderr",
     "output_type": "stream",
     "text": [
      "ERROR: Command not found: git\n"
     ]
    },
    {
     "name": "stdout",
     "output_type": "stream",
     "text": [
      "building tree...\n"
     ]
    },
    {
     "name": "stderr",
     "output_type": "stream",
     "text": [
      "ERROR: Command not found: git\n"
     ]
    }
   ],
   "source": [
    "#Create a new parent requirements document:\n",
    "!doorstop create SRD ./reqs/srd\n",
    "\n",
    "# Add a few items to that document:\n",
    "!doorstop add SRD\n",
    "!doorstop add SRD\n",
    "!doorstop add SRD"
   ]
  },
  {
   "cell_type": "markdown",
   "metadata": {},
   "source": [
    "Link Items"
   ]
  },
  {
   "cell_type": "code",
   "execution_count": 8,
   "metadata": {},
   "outputs": [
    {
     "name": "stdout",
     "output_type": "stream",
     "text": [
      "building tree...\n"
     ]
    },
    {
     "name": "stderr",
     "output_type": "stream",
     "text": [
      "ERROR: Command not found: git\n"
     ]
    },
    {
     "name": "stdout",
     "output_type": "stream",
     "text": [
      "building tree...\n"
     ]
    },
    {
     "name": "stderr",
     "output_type": "stream",
     "text": [
      "ERROR: Command not found: git\n"
     ]
    },
    {
     "name": "stdout",
     "output_type": "stream",
     "text": [
      "building tree...\n"
     ]
    },
    {
     "name": "stderr",
     "output_type": "stream",
     "text": [
      "ERROR: Command not found: git\n"
     ]
    }
   ],
   "source": [
    "# Create a child document to link to the parent:\n",
    "!doorstop create HLTC ./tests/hl --parent SRD\n",
    "!doorstop add HLTC\n",
    "\n",
    "# Link items between documents:\n",
    "!doorstop link HLTC001 SRD002"
   ]
  },
  {
   "cell_type": "markdown",
   "metadata": {},
   "source": [
    "Publish reports"
   ]
  },
  {
   "cell_type": "code",
   "execution_count": 9,
   "metadata": {},
   "outputs": [
    {
     "name": "stdout",
     "output_type": "stream",
     "text": [
      "building tree...\n",
      "loading documents...\n",
      "validating items...\n"
     ]
    },
    {
     "name": "stderr",
     "output_type": "stream",
     "text": [
      "WARNING: SRD: SRD001: no text\n",
      "WARNING: SRD: SRD001: no links from child document: HLTC\n",
      "ERROR: Command not found: git\n"
     ]
    },
    {
     "name": "stdout",
     "output_type": "stream",
     "text": [
      "building tree...\n",
      "loading documents...\n",
      "publishing tree to 'C:\\Users\\Thibault Santonja\\Desktop\\Jupyter\\Doorstop\\public'...\n",
      "published: C:\\Users\\Thibault Santonja\\Desktop\\Jupyter\\Doorstop\\public\n"
     ]
    }
   ],
   "source": [
    "# Run integrity checks on the document tree:\n",
    "!doorstop\n",
    "\n",
    "# Publish the documents as HTML:\n",
    "!doorstop publish all ./public"
   ]
  },
  {
   "cell_type": "markdown",
   "metadata": {},
   "source": [
    "---\n",
    "## Some scripting test"
   ]
  },
  {
   "cell_type": "code",
   "execution_count": 12,
   "metadata": {},
   "outputs": [],
   "source": [
    "import doorstop\n",
    "\n",
    "tree = doorstop.build()"
   ]
  },
  {
   "cell_type": "code",
   "execution_count": 13,
   "metadata": {},
   "outputs": [
    {
     "data": {
      "text/plain": [
       "2"
      ]
     },
     "execution_count": 13,
     "metadata": {},
     "output_type": "execute_result"
    }
   ],
   "source": [
    "len(tree.documents)"
   ]
  },
  {
   "cell_type": "code",
   "execution_count": 15,
   "metadata": {},
   "outputs": [
    {
     "name": "stdout",
     "output_type": "stream",
     "text": [
      "SRD\n"
     ]
    },
    {
     "data": {
      "text/plain": [
       "3"
      ]
     },
     "execution_count": 15,
     "metadata": {},
     "output_type": "execute_result"
    }
   ],
   "source": [
    "document = tree.find_document('SRD')\n",
    "\n",
    "print(document)\n",
    "\n",
    "for item in document:\n",
    "    if 'shall' in item.text:\n",
    "        print(item.id)\n",
    "        \n",
    "sum(1 for item in document if item.active)"
   ]
  },
  {
   "cell_type": "code",
   "execution_count": 17,
   "metadata": {},
   "outputs": [
    {
     "name": "stdout",
     "output_type": "stream",
     "text": [
      "3 active items in SRD\n"
     ]
    }
   ],
   "source": [
    "import doorstop\n",
    "\n",
    "tree = doorstop.build()\n",
    "document = tree.find_document('SRD')\n",
    "count = sum(1 for item in document if item.active)\n",
    "\n",
    "print(f\"{count} active items in {document}\")"
   ]
  },
  {
   "cell_type": "markdown",
   "metadata": {},
   "source": [
    "---"
   ]
  },
  {
   "cell_type": "markdown",
   "metadata": {},
   "source": [
    "Thibault **Santonja**  \n",
    "2021"
   ]
  }
 ],
 "metadata": {
  "kernelspec": {
   "display_name": "Python 3",
   "language": "python",
   "name": "python3"
  },
  "language_info": {
   "codemirror_mode": {
    "name": "ipython",
    "version": 3
   },
   "file_extension": ".py",
   "mimetype": "text/x-python",
   "name": "python",
   "nbconvert_exporter": "python",
   "pygments_lexer": "ipython3",
   "version": "3.8.5"
  }
 },
 "nbformat": 4,
 "nbformat_minor": 4
}
